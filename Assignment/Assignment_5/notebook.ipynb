{
 "cells": [
  {
   "cell_type": "code",
   "execution_count": 1,
   "metadata": {},
   "outputs": [],
   "source": [
    "import pandas as pd \n",
    "import json"
   ]
  },
  {
   "cell_type": "code",
   "execution_count": 3,
   "metadata": {},
   "outputs": [
    {
     "data": {
      "text/html": [
       "<div>\n",
       "<style scoped>\n",
       "    .dataframe tbody tr th:only-of-type {\n",
       "        vertical-align: middle;\n",
       "    }\n",
       "\n",
       "    .dataframe tbody tr th {\n",
       "        vertical-align: top;\n",
       "    }\n",
       "\n",
       "    .dataframe thead th {\n",
       "        text-align: right;\n",
       "    }\n",
       "</style>\n",
       "<table border=\"1\" class=\"dataframe\">\n",
       "  <thead>\n",
       "    <tr style=\"text-align: right;\">\n",
       "      <th></th>\n",
       "      <th>Input</th>\n",
       "      <th>Output</th>\n",
       "    </tr>\n",
       "  </thead>\n",
       "  <tbody>\n",
       "    <tr>\n",
       "      <th>0</th>\n",
       "      <td>Saya tidak bisa mengakses kursus yang sudah sa...</td>\n",
       "      <td>Layanan Pelanggan</td>\n",
       "    </tr>\n",
       "    <tr>\n",
       "      <th>1</th>\n",
       "      <td>Ada kesalahan pada materi di bagian kursus Mat...</td>\n",
       "      <td>Pengembangan Kurikulum</td>\n",
       "    </tr>\n",
       "    <tr>\n",
       "      <th>2</th>\n",
       "      <td>Saya ingin tahu apakah ada promo untuk kursus ...</td>\n",
       "      <td>Pemasaran</td>\n",
       "    </tr>\n",
       "    <tr>\n",
       "      <th>3</th>\n",
       "      <td>Platform sering error saat saya mencoba mengak...</td>\n",
       "      <td>IT Developer</td>\n",
       "    </tr>\n",
       "    <tr>\n",
       "      <th>4</th>\n",
       "      <td>Sebagai pengajar, saya kesulitan memahami mate...</td>\n",
       "      <td>Dukungan Pengajar</td>\n",
       "    </tr>\n",
       "  </tbody>\n",
       "</table>\n",
       "</div>"
      ],
      "text/plain": [
       "                                               Input                  Output\n",
       "0  Saya tidak bisa mengakses kursus yang sudah sa...       Layanan Pelanggan\n",
       "1  Ada kesalahan pada materi di bagian kursus Mat...  Pengembangan Kurikulum\n",
       "2  Saya ingin tahu apakah ada promo untuk kursus ...               Pemasaran\n",
       "3  Platform sering error saat saya mencoba mengak...            IT Developer\n",
       "4  Sebagai pengajar, saya kesulitan memahami mate...       Dukungan Pengajar"
      ]
     },
     "execution_count": 3,
     "metadata": {},
     "output_type": "execute_result"
    }
   ],
   "source": [
    "df = pd.read_excel('./tuning.xlsx')\n",
    "df.head()"
   ]
  },
  {
   "cell_type": "markdown",
   "metadata": {},
   "source": [
    "Make sure if the column __Input__ and __Ouput__ is exist"
   ]
  },
  {
   "cell_type": "code",
   "execution_count": 4,
   "metadata": {},
   "outputs": [],
   "source": [
    "if 'Input' not in df.columns or 'Output' not in df.columns:\n",
    "    raise ValueError(\"File CSV harus memiliki kolom 'Input' dan 'Output'.\")"
   ]
  },
  {
   "cell_type": "markdown",
   "metadata": {},
   "source": [
    "Convert the row and col"
   ]
  },
  {
   "cell_type": "code",
   "execution_count": 5,
   "metadata": {},
   "outputs": [],
   "source": [
    "with open('tune.json', 'w', encoding='utf-8') as json_file:\n",
    "    for index, row in df.iterrows():\n",
    "        entry = {\n",
    "            \"input\": row['Input'],\n",
    "            \"output\": row['Output']\n",
    "        }\n",
    "        json_file.write(json.dumps(entry, ensure_ascii=False) + '\\n')"
   ]
  },
  {
   "cell_type": "markdown",
   "metadata": {},
   "source": [
    "## TEST - Prompt"
   ]
  },
  {
   "cell_type": "code",
   "execution_count": 6,
   "metadata": {},
   "outputs": [],
   "source": [
    "test = pd.read_excel('./promt_test.xlsx')"
   ]
  },
  {
   "cell_type": "code",
   "execution_count": 8,
   "metadata": {},
   "outputs": [],
   "source": [
    "with open('promt_test.json', 'w', encoding='utf-8') as json_file:\n",
    "    for index, row in test.iterrows():\n",
    "        entry = {\n",
    "            \"input\": row['Input'],\n",
    "            \"output\": row['Output']\n",
    "        }\n",
    "        json_file.write(json.dumps(entry, ensure_ascii=False) + '\\n')"
   ]
  },
  {
   "cell_type": "markdown",
   "metadata": {},
   "source": [
    "## PETER "
   ]
  },
  {
   "cell_type": "code",
   "execution_count": 12,
   "metadata": {},
   "outputs": [
    {
     "data": {
      "text/html": [
       "<div>\n",
       "<style scoped>\n",
       "    .dataframe tbody tr th:only-of-type {\n",
       "        vertical-align: middle;\n",
       "    }\n",
       "\n",
       "    .dataframe tbody tr th {\n",
       "        vertical-align: top;\n",
       "    }\n",
       "\n",
       "    .dataframe thead th {\n",
       "        text-align: right;\n",
       "    }\n",
       "</style>\n",
       "<table border=\"1\" class=\"dataframe\">\n",
       "  <thead>\n",
       "    <tr style=\"text-align: right;\">\n",
       "      <th></th>\n",
       "      <th>Input</th>\n",
       "      <th>Output</th>\n",
       "    </tr>\n",
       "  </thead>\n",
       "  <tbody>\n",
       "    <tr>\n",
       "      <th>0</th>\n",
       "      <td>Bagaimana cara mengubah password akun saya?</td>\n",
       "      <td>Layanan Pelanggan</td>\n",
       "    </tr>\n",
       "    <tr>\n",
       "      <th>1</th>\n",
       "      <td>Bagaimana cara mengakses sertifikat kursus yan...</td>\n",
       "      <td>Layanan Pelanggan</td>\n",
       "    </tr>\n",
       "    <tr>\n",
       "      <th>2</th>\n",
       "      <td>Saya sudah bayar, tapi kursus belum aktif.</td>\n",
       "      <td>Layanan Pelanggan</td>\n",
       "    </tr>\n",
       "    <tr>\n",
       "      <th>3</th>\n",
       "      <td>Ada kesalahan penjelasan di modul Machine Lear...</td>\n",
       "      <td>Pengembangan Kurikulum</td>\n",
       "    </tr>\n",
       "    <tr>\n",
       "      <th>4</th>\n",
       "      <td>Materi di kursus Python sudah outdated</td>\n",
       "      <td>Pengembangan Kurikulum</td>\n",
       "    </tr>\n",
       "    <tr>\n",
       "      <th>5</th>\n",
       "      <td>Beberapa link referensi di modul sudah tidak b...</td>\n",
       "      <td>Pengembangan Kurikulum</td>\n",
       "    </tr>\n",
       "    <tr>\n",
       "      <th>6</th>\n",
       "      <td>Video pembelajaran tidak bisa diputar</td>\n",
       "      <td>IT Developer</td>\n",
       "    </tr>\n",
       "    <tr>\n",
       "      <th>7</th>\n",
       "      <td>Platform error saat mengerjakan quiz</td>\n",
       "      <td>IT Developer</td>\n",
       "    </tr>\n",
       "    <tr>\n",
       "      <th>8</th>\n",
       "      <td>Aplikasi crash ketika membuka halaman diskusi</td>\n",
       "      <td>IT Developer</td>\n",
       "    </tr>\n",
       "    <tr>\n",
       "      <th>9</th>\n",
       "      <td>Apakah ada diskon untuk kursus Data Science?</td>\n",
       "      <td>Pemasaran</td>\n",
       "    </tr>\n",
       "    <tr>\n",
       "      <th>10</th>\n",
       "      <td>Kapan bundle course akan tersedia lagi?</td>\n",
       "      <td>Pemasaran</td>\n",
       "    </tr>\n",
       "    <tr>\n",
       "      <th>11</th>\n",
       "      <td>Informasi program referral untuk member</td>\n",
       "      <td>Pemasaran</td>\n",
       "    </tr>\n",
       "    <tr>\n",
       "      <th>12</th>\n",
       "      <td>Saya kesulitan menjelaskan konsep Neural Netwo...</td>\n",
       "      <td>Dukungan Pengajar</td>\n",
       "    </tr>\n",
       "    <tr>\n",
       "      <th>13</th>\n",
       "      <td>Butuh bantuan untuk menyusun assessment yang e...</td>\n",
       "      <td>Dukungan Pengajar</td>\n",
       "    </tr>\n",
       "    <tr>\n",
       "      <th>14</th>\n",
       "      <td>Tool apa yang cocok untuk mengajar programming...</td>\n",
       "      <td>Dukungan Pengajar</td>\n",
       "    </tr>\n",
       "  </tbody>\n",
       "</table>\n",
       "</div>"
      ],
      "text/plain": [
       "                                                Input                  Output\n",
       "0         Bagaimana cara mengubah password akun saya?       Layanan Pelanggan\n",
       "1   Bagaimana cara mengakses sertifikat kursus yan...       Layanan Pelanggan\n",
       "2          Saya sudah bayar, tapi kursus belum aktif.       Layanan Pelanggan\n",
       "3   Ada kesalahan penjelasan di modul Machine Lear...  Pengembangan Kurikulum\n",
       "4              Materi di kursus Python sudah outdated  Pengembangan Kurikulum\n",
       "5   Beberapa link referensi di modul sudah tidak b...  Pengembangan Kurikulum\n",
       "6               Video pembelajaran tidak bisa diputar            IT Developer\n",
       "7                Platform error saat mengerjakan quiz            IT Developer\n",
       "8       Aplikasi crash ketika membuka halaman diskusi            IT Developer\n",
       "9        Apakah ada diskon untuk kursus Data Science?               Pemasaran\n",
       "10            Kapan bundle course akan tersedia lagi?               Pemasaran\n",
       "11            Informasi program referral untuk member               Pemasaran\n",
       "12  Saya kesulitan menjelaskan konsep Neural Netwo...       Dukungan Pengajar\n",
       "13  Butuh bantuan untuk menyusun assessment yang e...       Dukungan Pengajar\n",
       "14  Tool apa yang cocok untuk mengajar programming...       Dukungan Pengajar"
      ]
     },
     "execution_count": 12,
     "metadata": {},
     "output_type": "execute_result"
    }
   ],
   "source": [
    "prompt = pd.read_csv('./s.csv')\n",
    "prompt"
   ]
  },
  {
   "cell_type": "code",
   "execution_count": 13,
   "metadata": {},
   "outputs": [],
   "source": [
    "with open('promt.json', 'w', encoding='utf-8') as json_file:\n",
    "    for index, row in prompt.iterrows():\n",
    "        entry = {\n",
    "            \"input\": row['Input'],\n",
    "            \"output\": row['Output']\n",
    "        }\n",
    "        json_file.write(json.dumps(entry, ensure_ascii=False) + '\\n')"
   ]
  }
 ],
 "metadata": {
  "kernelspec": {
   "display_name": "Python 3",
   "language": "python",
   "name": "python3"
  },
  "language_info": {
   "codemirror_mode": {
    "name": "ipython",
    "version": 3
   },
   "file_extension": ".py",
   "mimetype": "text/x-python",
   "name": "python",
   "nbconvert_exporter": "python",
   "pygments_lexer": "ipython3",
   "version": "3.11.2"
  }
 },
 "nbformat": 4,
 "nbformat_minor": 2
}
