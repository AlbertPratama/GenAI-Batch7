{
 "cells": [
  {
   "cell_type": "code",
   "execution_count": 18,
   "metadata": {},
   "outputs": [
    {
     "ename": "ModuleNotFoundError",
     "evalue": "No module named 'math_operations'",
     "output_type": "error",
     "traceback": [
      "\u001b[1;31m---------------------------------------------------------------------------\u001b[0m",
      "\u001b[1;31mModuleNotFoundError\u001b[0m                       Traceback (most recent call last)",
      "Cell \u001b[1;32mIn[18], line 1\u001b[0m\n\u001b[1;32m----> 1\u001b[0m \u001b[38;5;28;01mimport\u001b[39;00m \u001b[38;5;21;01mmath_operations\u001b[39;00m\n",
      "\u001b[1;31mModuleNotFoundError\u001b[0m: No module named 'math_operations'"
     ]
    }
   ],
   "source": [
    "import math_operations"
   ]
  },
  {
   "cell_type": "code",
   "execution_count": 2,
   "metadata": {},
   "outputs": [
    {
     "data": {
      "text/plain": [
       "5.0"
      ]
     },
     "execution_count": 2,
     "metadata": {},
     "output_type": "execute_result"
    }
   ],
   "source": [
    "math_operations.pembagian(10, 2)"
   ]
  },
  {
   "cell_type": "markdown",
   "metadata": {},
   "source": [
    "## Looping Statement"
   ]
  },
  {
   "cell_type": "markdown",
   "metadata": {},
   "source": [
    "### While Loop"
   ]
  },
  {
   "cell_type": "code",
   "execution_count": 3,
   "metadata": {},
   "outputs": [
    {
     "name": "stdout",
     "output_type": "stream",
     "text": [
      "0\n",
      "1\n",
      "2\n",
      "3\n",
      "4\n",
      "5\n",
      "6\n",
      "7\n",
      "8\n",
      "9\n"
     ]
    }
   ],
   "source": [
    "a = 0\n",
    "\n",
    "while a<10:\n",
    "    print(a)\n",
    "    a = a + 1"
   ]
  },
  {
   "cell_type": "code",
   "execution_count": 4,
   "metadata": {},
   "outputs": [
    {
     "name": "stdout",
     "output_type": "stream",
     "text": [
      "Ini adalah angka ke-9\n",
      "Ini adalah angka ke-8\n",
      "Ini adalah angka ke-7\n",
      "Ini adalah angka ke-6\n",
      "Ini adalah angka ke-5\n",
      "Ini adalah angka ke-4\n"
     ]
    }
   ],
   "source": [
    "a = 10\n",
    "while a >=5:\n",
    "    a = a -1\n",
    "    print(f'Ini adalah angka ke-{a}')"
   ]
  },
  {
   "cell_type": "code",
   "execution_count": 6,
   "metadata": {},
   "outputs": [
    {
     "name": "stdout",
     "output_type": "stream",
     "text": [
      "Ini adalah angka ke-9\n",
      "Ini adalah angka ke-8\n"
     ]
    }
   ],
   "source": [
    "a = 10\n",
    "while a >=5:\n",
    "    a = a -1\n",
    "    if a == 7:\n",
    "        break\n",
    "    print(f'Ini adalah angka ke-{a}')"
   ]
  },
  {
   "cell_type": "markdown",
   "metadata": {},
   "source": [
    "Buat sebuah list bernama inventory untuk menyimpan barang-barang yang kamu temukan di pulau. Awalnya, inventory berisi: [\"pisau\", \"peta\", \"kompas\"].14"
   ]
  },
  {
   "cell_type": "code",
   "execution_count": 2,
   "metadata": {},
   "outputs": [],
   "source": [
    "inventory = ['pisau', 'peta', 'kompas']"
   ]
  },
  {
   "cell_type": "markdown",
   "metadata": {},
   "source": [
    "- Di hutan, kamu menemukan beberapa buah. \n",
    "- Buat fungsi bernama temukan_buah() yang meminta pengguna memasukkan 3 nama buah yang berbeda dan tambahkan buah-buah tersebut ke dalam inventory. \n",
    "- Cetak inventory setelah ditambahkan"
   ]
  },
  {
   "cell_type": "code",
   "execution_count": 3,
   "metadata": {},
   "outputs": [],
   "source": [
    "def temukan_buah(inventory):\n",
    "    for i in range(3):\n",
    "        buah = input('Masukkan nama buah')\n",
    "        inventory.append(buah)\n",
    "    return inventory"
   ]
  },
  {
   "cell_type": "code",
   "execution_count": 4,
   "metadata": {},
   "outputs": [],
   "source": [
    "inventory = temukan_buah(inventory)"
   ]
  },
  {
   "cell_type": "code",
   "execution_count": 5,
   "metadata": {},
   "outputs": [
    {
     "data": {
      "text/plain": [
       "['pisau', 'peta', 'kompas', 'apel', 'apep', 'apaps']"
      ]
     },
     "execution_count": 5,
     "metadata": {},
     "output_type": "execute_result"
    }
   ],
   "source": [
    "inventory"
   ]
  },
  {
   "cell_type": "markdown",
   "metadata": {},
   "source": [
    "- Saat menjelajah, kamu bertemu dengan hewan buas! \n",
    "- Buat sebuah fungsi bernama hadapi_hewan(keberanian) yang menerima sebuah parameter keberanian (integer dari 1-10). \n",
    "- Jika keberanian lebih besar dari 7, tampilkan pesan \"Kamu berhasil mengusir hewan buas!\" dan \n",
    "- tambahkan \"taring hewan\" ke dalam inventory. ○Jika tidak, tampilkan \"Kamu terluka, tapi berhasil melarikan diri!\" dan ■kurangi nilai keberanian sebesar 2. Tampilkan nilai keberanian yang baru.16\n"
   ]
  },
  {
   "cell_type": "code",
   "execution_count": 6,
   "metadata": {},
   "outputs": [],
   "source": [
    "def hadapi_hewan(keberanian, inventory):\n",
    "    if keberanian > 7:\n",
    "        print('Kamu berhasil mengusir hewan buas!')\n",
    "        inventory.append('taring hewan')\n",
    "    else:\n",
    "        print('Kamu terluka, tapi berhasil melarikan diri!')\n",
    "        keberanian = keberanian - 2\n",
    "    print(keberanian)\n",
    "    return inventory"
   ]
  },
  {
   "cell_type": "code",
   "execution_count": 7,
   "metadata": {},
   "outputs": [
    {
     "name": "stdout",
     "output_type": "stream",
     "text": [
      "Kamu terluka, tapi berhasil melarikan diri!\n",
      "-1\n"
     ]
    },
    {
     "data": {
      "text/plain": [
       "['pisau', 'peta', 'kompas', 'apel', 'apep', 'apaps']"
      ]
     },
     "execution_count": 7,
     "metadata": {},
     "output_type": "execute_result"
    }
   ],
   "source": [
    "inventory = hadapi_hewan(keberanian=1, inventory=inventory)\n",
    "inventory"
   ]
  },
  {
   "cell_type": "markdown",
   "metadata": {},
   "source": [
    "○Jika kekuatan lebih dari 5, tampilkan pesan \"Kamu berhasil menyeberangi sungai, {nama}!\". \n",
    "○Jika tidak, tampilkan \"Kamu harus mencari jalan lain, {nama}.\" dan ■tambahkan \"rakit\" ke dalam inventory."
   ]
  },
  {
   "cell_type": "code",
   "execution_count": 8,
   "metadata": {},
   "outputs": [],
   "source": [
    "def menyeberang_sungai(nama, kekuatan, inventory):\n",
    "    if kekuatan>5:\n",
    "        print(f'Kamu berhasil menyeberangi sungai, {nama}')\n",
    "    else:\n",
    "        print(f'Kamu harus mencari jalan lain, {nama}.')\n",
    "        inventory.append('rakit')\n",
    "    return inventory"
   ]
  },
  {
   "cell_type": "code",
   "execution_count": 9,
   "metadata": {},
   "outputs": [
    {
     "name": "stdout",
     "output_type": "stream",
     "text": [
      "Kamu berhasil menyeberangi sungai, Aldo\n",
      "['pisau', 'peta', 'kompas', 'apel', 'apep', 'apaps']\n"
     ]
    }
   ],
   "source": [
    "inventory = menyeberang_sungai(nama='Aldo', kekuatan=10, inventory=inventory)\n",
    "print(inventory)"
   ]
  },
  {
   "cell_type": "code",
   "execution_count": 13,
   "metadata": {},
   "outputs": [
    {
     "data": {
      "text/plain": [
       "['pisau', 'peta', 'kompas', 'apel', 'apep', 'apaps']"
      ]
     },
     "execution_count": 13,
     "metadata": {},
     "output_type": "execute_result"
    }
   ],
   "source": [
    "inventory"
   ]
  },
  {
   "cell_type": "code",
   "execution_count": 10,
   "metadata": {},
   "outputs": [],
   "source": [
    "def buka_pintu(angka):\n",
    "  if 120 % angka == 0:\n",
    "    print(\"Pintu terbuka!\")\n",
    "  else:\n",
    "    print(\"Kode salah. Coba lagi!\")"
   ]
  },
  {
   "cell_type": "code",
   "execution_count": 37,
   "metadata": {},
   "outputs": [
    {
     "name": "stdout",
     "output_type": "stream",
     "text": [
      "Pintu terbuka!\n"
     ]
    }
   ],
   "source": [
    "buka_pintu(10)"
   ]
  },
  {
   "cell_type": "code",
   "execution_count": 11,
   "metadata": {},
   "outputs": [],
   "source": [
    "rencana_pulang = {\"hari\": 3, \"barang_diperlukan\": [\"kompas\", \"peta\", \"rakit\"],    \"makanan\": 5}  # jumlah buah yang ditemukan"
   ]
  },
  {
   "cell_type": "code",
   "execution_count": 15,
   "metadata": {},
   "outputs": [
    {
     "name": "stdout",
     "output_type": "stream",
     "text": [
      "kompas\n"
     ]
    }
   ],
   "source": [
    "print(rencana_pulang['barang_diperlukan'][0])"
   ]
  },
  {
   "cell_type": "code",
   "execution_count": 12,
   "metadata": {},
   "outputs": [
    {
     "data": {
      "text/plain": [
       "True"
      ]
     },
     "execution_count": 12,
     "metadata": {},
     "output_type": "execute_result"
    }
   ],
   "source": [
    "rencana_pulang['barang_diperlukan'][0] in  inventory"
   ]
  },
  {
   "cell_type": "code",
   "execution_count": 16,
   "metadata": {},
   "outputs": [],
   "source": [
    "def cek_inventaris(rencana_pulang, inventory):\n",
    "    if rencana_pulang['barang_diperlukan'][0] in inventory:\n",
    "        if rencana_pulang['barang_diperlukan'][1] in inventory:\n",
    "            if rencana_pulang['barang_diperlukan'][2] in inventory:\n",
    "                hari = rencana_pulang['makanan']\n",
    "                while hari >= 0:\n",
    "                    hari = hari - 1\n",
    "            else:\n",
    "                print('Kamu perlu mencari lebih banyak barang')\n",
    "        else:\n",
    "            print('Kamu perlu mencari lebih banyak barang')\n",
    "    else:\n",
    "        print('Kamu perlu mencari lebih banyak barang')\n"
   ]
  },
  {
   "cell_type": "code",
   "execution_count": 17,
   "metadata": {},
   "outputs": [
    {
     "name": "stdout",
     "output_type": "stream",
     "text": [
      "Kamu perlu mencari lebih banyak barang\n"
     ]
    }
   ],
   "source": [
    "cek_inventaris(rencana_pulang, inventory)"
   ]
  },
  {
   "cell_type": "markdown",
   "metadata": {},
   "source": [
    "Buat sebuah fungsi akhir_petualangan(keberhasilan) yang menerima parameter keberhasilan (boolean). \n",
    "- Jika keberhasilan bernilai True, tampilkan \"Kamu berhasil pulang dengan selamat! Petualanganmu berakhir dengan bahagia.\" \n",
    "- Jika tidak, tampilkan \"Kamu belum bisa pulang. Tetaplah bertahan dan coba lagi.\"Selamat bertualang dan semoga berhasil pulang!21"
   ]
  },
  {
   "cell_type": "code",
   "execution_count": 45,
   "metadata": {},
   "outputs": [],
   "source": [
    "def akhir_petualangan(keberhasilan):\n",
    "    if keberhasilan == True:\n",
    "        print('Kamu berhasil pulang dengan selamat! Petualanganmu berakhir dengan bahagia.')\n",
    "    else:\n",
    "        print('Kamu belum bisa pulang. Tetaplah bertahan dan coba lagi.')"
   ]
  },
  {
   "cell_type": "code",
   "execution_count": 46,
   "metadata": {},
   "outputs": [
    {
     "name": "stdout",
     "output_type": "stream",
     "text": [
      "Kamu berhasil pulang dengan selamat! Petualanganmu berakhir dengan bahagia.\n"
     ]
    }
   ],
   "source": [
    "akhir_petualangan(True)"
   ]
  },
  {
   "cell_type": "code",
   "execution_count": null,
   "metadata": {},
   "outputs": [],
   "source": []
  }
 ],
 "metadata": {
  "kernelspec": {
   "display_name": "Python 3",
   "language": "python",
   "name": "python3"
  },
  "language_info": {
   "codemirror_mode": {
    "name": "ipython",
    "version": 3
   },
   "file_extension": ".py",
   "mimetype": "text/x-python",
   "name": "python",
   "nbconvert_exporter": "python",
   "pygments_lexer": "ipython3",
   "version": "3.11.2"
  }
 },
 "nbformat": 4,
 "nbformat_minor": 2
}
