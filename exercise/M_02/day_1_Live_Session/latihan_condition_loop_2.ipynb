{
  "cells": [
    {
      "cell_type": "markdown",
      "metadata": {
        "id": "HYf-5yitxuns"
      },
      "source": [
        "### Soal 1: Menentukan Bilangan Ganjil atau Genap\n",
        "Buatlah sebuah program yang menerima input berupa bilangan bulat, kemudian program akan mengecek apakah bilangan tersebut **ganjil** atau **genap**.\n",
        "\n",
        "**Petunjuk:**\n",
        "- Gunakan pernyataan `if-else` untuk memeriksa kondisi bilangan.\n",
        "- Bilangan genap adalah bilangan yang habis dibagi 2, sedangkan bilangan ganjil tidak habis dibagi 2.\n",
        "\n",
        "**Contoh Output:**\n",
        "```\n",
        "Masukkan bilangan: 5\n",
        "5 adalah bilangan ganjil\n",
        "```\n"
      ]
    },
    {
      "cell_type": "code",
      "execution_count": 2,
      "metadata": {},
      "outputs": [
        {
          "name": "stdout",
          "output_type": "stream",
          "text": [
            "number 2 is even\n"
          ]
        }
      ],
      "source": [
        "num = int(input('Input integers: '))\n",
        "\n",
        "if num % 2 == 0:\n",
        "  print(f'number {num} is even')\n",
        "else:\n",
        "  print(f'{num} is odd')"
      ]
    },
    {
      "cell_type": "markdown",
      "metadata": {
        "id": "rWw5dkoAxunz"
      },
      "source": [
        "### Soal 2: Menentukan Nilai Terbesar\n",
        "Buatlah program yang menerima 3 angka, kemudian menentukan angka mana yang paling besar di antara ketiga angka tersebut.\n",
        "\n",
        "**Petunjuk:**\n",
        "- Gunakan beberapa pernyataan `if-elif-else` untuk membandingkan ketiga angka.\n",
        "\n",
        "**Contoh Output:**\n",
        "```\n",
        "Masukkan angka pertama: 10\n",
        "Masukkan angka kedua: 25\n",
        "Masukkan angka ketiga: 7\n",
        "Angka terbesar adalah: 25\n",
        "```\n",
        "\n"
      ]
    },
    {
      "cell_type": "code",
      "execution_count": 4,
      "metadata": {
        "id": "1FZJIYCYxun0"
      },
      "outputs": [],
      "source": [
        "n1 = int(input('First number: '))\n",
        "n2 = int(input('Second number: '))\n",
        "n3 = int(input('Third number: '))\n",
        "\n",
        "if n1 > n2:\n",
        "    print(f'Angka terbesar adalah {n1}')\n",
        "elif n2 > n3:\n",
        "    print(f'Angka terbesar adalah {n2}')\n",
        "else:\n",
        "    print(f'Angka terbesar adalah {n3}')"
      ]
    },
    {
      "cell_type": "markdown",
      "metadata": {
        "id": "RlLZv_xWxun0"
      },
      "source": [
        "### Soal 3: Menghitung Jumlah Angka dari 1 hingga N\n",
        "Buatlah program yang menerima input bilangan bulat positif `N`, kemudian hitung dan tampilkan jumlah dari semua bilangan dari 1 hingga `N`.\n",
        "\n",
        "**Petunjuk:**\n",
        "- Gunakan perulangan `for` untuk menghitung total dari angka 1 hingga N.\n",
        "\n",
        "**Contoh Output:**\n",
        "```\n",
        "Masukkan bilangan: 5\n",
        "Jumlah dari 1 hingga 5 adalah 15\n",
        "```\n",
        "\n"
      ]
    },
    {
      "cell_type": "code",
      "execution_count": 24,
      "metadata": {
        "id": "INlMg6c6xun1"
      },
      "outputs": [
        {
          "name": "stdout",
          "output_type": "stream",
          "text": [
            "Jumlah dari 1 hingga 5 adalah 15\n"
          ]
        }
      ],
      "source": [
        "nums = int(input('Input number: '))\n",
        "res = 0\n",
        "for iteration in range(1, nums+1):\n",
        "  res += iteration\n",
        "\n",
        "print(f'Jumlah dari 1 hingga {nums} adalah {res}')"
      ]
    },
    {
      "cell_type": "markdown",
      "metadata": {
        "id": "sB8igxSNxun1"
      },
      "source": [
        "### Soal 4: Membuat Pola Bintang\n",
        "Buatlah program yang menerima input bilangan bulat `N`, kemudian cetak pola segitiga bintang dengan tinggi N.\n",
        "\n",
        "**Petunjuk:**\n",
        "- Gunakan perulangan `for` untuk membuat pola segitiga bintang.\n",
        "\n",
        "**Contoh Output:**\n",
        "Jika input `N = 5`, maka output:\n",
        "```\n",
        "*\n",
        "**\n",
        "***\n",
        "****\n",
        "*****\n",
        "```\n"
      ]
    },
    {
      "cell_type": "code",
      "execution_count": 28,
      "metadata": {
        "id": "tBMUeGTSxun1"
      },
      "outputs": [
        {
          "name": "stdout",
          "output_type": "stream",
          "text": [
            "*\n",
            "**\n",
            "***\n",
            "****\n",
            "*****\n"
          ]
        }
      ],
      "source": [
        "n = int(input('Input N'))\n",
        "\n",
        "for i in range(0, n):\n",
        "  # print('e', end='')\n",
        "  for j in range(0, i+1):\n",
        "    print('*', end='')\n",
        "  print('')\n"
      ]
    },
    {
      "cell_type": "markdown",
      "metadata": {
        "id": "T1gElwodxun1"
      },
      "source": [
        "\n",
        "### Soal 5: Program Kalkulator Sederhana\n",
        "Buatlah program kalkulator yang meminta dua angka dari pengguna dan melakukan operasi aritmatika dasar (penjumlahan, pengurangan, perkalian, atau pembagian) berdasarkan pilihan pengguna.\n",
        "\n",
        "**Petunjuk:**\n",
        "- Gunakan pernyataan `if-elif-else` untuk memilih operasi yang akan dilakukan.\n",
        "\n",
        "**Contoh Output:**\n",
        "```\n",
        "Masukkan angka pertama: 10\n",
        "Masukkan angka kedua: 2\n",
        "Pilih operasi (+, -, *, /): /\n",
        "Hasil: 5.0\n",
        "```\n"
      ]
    },
    {
      "cell_type": "code",
      "execution_count": 21,
      "metadata": {
        "id": "wFJfxgCVxun2"
      },
      "outputs": [
        {
          "name": "stdout",
          "output_type": "stream",
          "text": [
            "\n",
            "      1. + /n\n",
            "      2. -\n",
            "      3. *\n",
            "      4. /\n",
            "\n"
          ]
        }
      ],
      "source": [
        "\n",
        "n1 = int(input('Input N1: '))\n",
        "n2 = int(input('Input N2: '))\n",
        "print('pilih operasi (+, -, *, -')\n",
        "choice = input('')\n",
        "\n",
        "if choice == '+':\n",
        "    res = n1+n2\n",
        "elif choice == '-':\n",
        "    res = n1-n2\n",
        "elif choice == '*':\n",
        "    res = n1*n2\n",
        "else:\n",
        "    res = n1/n2\n",
        "\n",
        "print(f'Result {res}')"
      ]
    },
    {
      "cell_type": "markdown",
      "metadata": {
        "id": "slv_orygxun2"
      },
      "source": [
        "\n",
        "### Soal 6: Menemukan Bilangan Prima dalam Rentang Tertentu\n",
        "Buat program yang menerima dua bilangan `start` dan `end`, kemudian tampilkan semua bilangan prima dalam rentang tersebut.\n",
        "\n",
        "**Petunjuk:**\n",
        "- Gunakan perulangan `for` dan pernyataan `if` untuk mengecek apakah bilangan dalam rentang tersebut adalah bilangan prima.\n",
        "\n",
        "**Contoh Output:**\n",
        "```\n",
        "Masukkan bilangan awal: 10\n",
        "Masukkan bilangan akhir: 20\n",
        "Bilangan prima antara 10 dan 20 adalah: 11, 13, 17, 19\n",
        "```\n"
      ]
    },
    {
      "cell_type": "code",
      "execution_count": 22,
      "metadata": {
        "id": "X-Ey_8G-xun2"
      },
      "outputs": [
        {
          "ename": "SyntaxError",
          "evalue": "invalid syntax (920442686.py, line 4)",
          "output_type": "error",
          "traceback": [
            "\u001b[1;36m  Cell \u001b[1;32mIn[22], line 4\u001b[1;36m\u001b[0m\n\u001b[1;33m    elif num %\u001b[0m\n\u001b[1;37m              ^\u001b[0m\n\u001b[1;31mSyntaxError\u001b[0m\u001b[1;31m:\u001b[0m invalid syntax\n"
          ]
        }
      ],
      "source": [
        "def prime_numbers(num):\n",
        "  if num < 2:\n",
        "    return False\n",
        "  elif num %\n",
        "\n",
        "n1_prime = int(input('Input N1'))\n",
        "n2_prime = int(input('Input N2'))\n",
        "\n"
      ]
    },
    {
      "cell_type": "markdown",
      "metadata": {
        "id": "VPUlYdKlxun3"
      },
      "source": [
        "\n",
        "### Soal 7: Menentukan Apakah Sebuah String adalah Palindrom\n",
        "Buatlah program yang menerima input berupa string, kemudian cek apakah string tersebut adalah **palindrom** (dibaca sama dari depan maupun belakang).\n",
        "\n",
        "**Petunjuk:**\n",
        "- Gunakan pernyataan `if-else` untuk membandingkan string asli dengan string yang dibalik.\n",
        "\n",
        "**Contoh Output:**\n",
        "```\n",
        "Masukkan sebuah kata: katak\n",
        "katak adalah palindrom\n",
        "```"
      ]
    },
    {
      "cell_type": "code",
      "execution_count": null,
      "metadata": {
        "id": "9lIpSr36xun4"
      },
      "outputs": [],
      "source": []
    },
    {
      "cell_type": "markdown",
      "metadata": {
        "id": "0JlI8a89xun4"
      },
      "source": [
        "Berikut beberapa soal tambahan dengan tingkat kesulitan yang lebih tinggi:\n",
        "\n",
        "### Soal 8: Menghitung Nilai Faktorial\n",
        "Buatlah program yang menerima input berupa bilangan bulat `N`, kemudian hitung dan tampilkan **faktorial** dari bilangan tersebut. Faktorial dari `N` adalah hasil perkalian dari semua bilangan dari 1 hingga `N`.\n",
        "\n",
        "**Petunjuk:**\n",
        "- Gunakan perulangan untuk menghitung faktorial.\n",
        "- Faktorial didefinisikan sebagai `N! = N * (N-1) * (N-2) * ... * 1`\n",
        "\n",
        "**Contoh Output:**\n",
        "```\n",
        "Masukkan bilangan: 5\n",
        "Faktorial dari 5 adalah 120\n",
        "```"
      ]
    },
    {
      "cell_type": "code",
      "execution_count": null,
      "metadata": {
        "id": "NHRJLoJixun4"
      },
      "outputs": [],
      "source": []
    },
    {
      "cell_type": "markdown",
      "metadata": {
        "id": "h23zOEvhxun4"
      },
      "source": [
        "### Soal 9: Mencari Bilangan Fibonacci ke-N\n",
        "Buatlah program yang menerima input berupa bilangan `N`, kemudian hitung dan tampilkan bilangan Fibonacci ke-N. Deret Fibonacci dimulai dari 0, 1, 1, 2, 3, 5, 8, 13, ...\n",
        "\n",
        "**Petunjuk:**\n",
        "- Gunakan perulangan untuk menghitung nilai Fibonacci ke-N.\n",
        "- Deret Fibonacci didefinisikan sebagai: F(0) = 0, F(1) = 1, F(n) = F(n-1) + F(n-2) untuk n >= 2.\n",
        "\n",
        "**Contoh Output:**\n",
        "```\n",
        "Masukkan bilangan: 6\n",
        "Bilangan Fibonacci ke-6 adalah 8\n",
        "```"
      ]
    },
    {
      "cell_type": "code",
      "execution_count": null,
      "metadata": {
        "id": "aDE55RU-xun5"
      },
      "outputs": [],
      "source": []
    },
    {
      "cell_type": "markdown",
      "metadata": {
        "id": "A4WOWXwPxun5"
      },
      "source": [
        "### Soal 10: Mengurutkan Daftar Angka\n",
        "Buatlah program yang menerima input berupa daftar angka yang dipisahkan oleh spasi, kemudian tampilkan daftar angka tersebut dalam urutan **menaik** (ascending).\n",
        "\n",
        "**Petunjuk:**\n",
        "- Gunakan metode pengurutan seperti `sort()` atau implementasi algoritma pengurutan secara manual.\n",
        "- Input bisa diubah menjadi daftar angka menggunakan metode `split()` dan `int()`.\n",
        "\n",
        "**Contoh Output:**\n",
        "```\n",
        "Masukkan daftar angka (pisahkan dengan spasi): 34 2 5 10 99 1\n",
        "Daftar angka terurut: 1 2 5 10 34 99\n",
        "```"
      ]
    },
    {
      "cell_type": "code",
      "execution_count": null,
      "metadata": {
        "id": "CpWGpaYsxun5"
      },
      "outputs": [],
      "source": []
    },
    {
      "cell_type": "markdown",
      "metadata": {
        "id": "rNem1h1nxun6"
      },
      "source": [
        "### Soal 11: Mencari Bilangan Terbesar Kedua\n",
        "Buatlah program yang menerima input berupa daftar angka, kemudian cari dan tampilkan bilangan **terbesar kedua** dari daftar tersebut.\n",
        "\n",
        "**Petunjuk:**\n",
        "- Gunakan teknik seperti penghapusan elemen terbesar pertama, kemudian mencari elemen terbesar kedua.\n",
        "\n",
        "**Contoh Output:**\n",
        "```\n",
        "Masukkan daftar angka (pisahkan dengan spasi): 12 45 7 10 34 45\n",
        "Bilangan terbesar kedua adalah: 34\n",
        "```"
      ]
    },
    {
      "cell_type": "code",
      "execution_count": null,
      "metadata": {
        "id": "iKzvm64jxun6"
      },
      "outputs": [],
      "source": []
    },
    {
      "cell_type": "markdown",
      "metadata": {
        "id": "LtWnt-T2xun6"
      },
      "source": [
        "### Soal 12: Membalik Urutan Kata dalam Kalimat\n",
        "Buatlah program yang menerima input berupa kalimat, kemudian tampilkan kalimat tersebut dengan urutan kata yang dibalik.\n",
        "\n",
        "**Petunjuk:**\n",
        "- Gunakan metode `split()` untuk memecah kalimat menjadi kata-kata, lalu balik urutan kata-kata tersebut menggunakan `[::-1]` atau fungsi `reversed()`.\n",
        "\n",
        "**Contoh Output:**\n",
        "```\n",
        "Masukkan kalimat: Saya suka Python\n",
        "Kalimat dengan urutan kata terbalik: Python suka Saya\n",
        "```"
      ]
    },
    {
      "cell_type": "code",
      "execution_count": null,
      "metadata": {
        "id": "tbln--Azxun6"
      },
      "outputs": [],
      "source": []
    },
    {
      "cell_type": "markdown",
      "metadata": {
        "id": "zN3cU-dmxun7"
      },
      "source": [
        "### Soal 13: Menentukan Bilangan Armstrong\n",
        "Bilangan Armstrong adalah bilangan yang jika setiap digitnya dipangkatkan dengan jumlah digit dari bilangan tersebut, dan hasilnya dijumlahkan, maka akan menghasilkan bilangan itu sendiri. Buat program untuk memeriksa apakah sebuah bilangan adalah bilangan Armstrong.\n",
        "\n",
        "**Petunjuk:**\n",
        "- Misalnya, 153 adalah bilangan Armstrong karena 1³ + 5³ + 3³ = 153.\n",
        "- Gunakan perulangan untuk menjumlahkan hasil pangkat setiap digit.\n",
        "\n",
        "**Contoh Output:**\n",
        "```\n",
        "Masukkan bilangan: 153\n",
        "153 adalah bilangan Armstrong\n",
        "```"
      ]
    },
    {
      "cell_type": "code",
      "execution_count": null,
      "metadata": {
        "id": "sl4j_nKhxun7"
      },
      "outputs": [],
      "source": []
    },
    {
      "cell_type": "markdown",
      "metadata": {
        "id": "Fa1WIEGhxun7"
      },
      "source": [
        "### Soal 14: Menghitung Jumlah Angka yang Dapat Dibagi oleh 3 dan 5\n",
        "Buat program yang menerima input `N`, kemudian hitung berapa banyak angka dari 1 hingga `N` yang dapat dibagi oleh **3** dan **5**.\n",
        "\n",
        "**Petunjuk:**\n",
        "- Gunakan pernyataan `if` di dalam perulangan untuk memeriksa apakah suatu bilangan habis dibagi 3 dan 5.\n",
        "\n",
        "**Contoh Output:**\n",
        "```\n",
        "Masukkan bilangan: 50\n",
        "Jumlah angka yang dapat dibagi oleh 3 dan 5 adalah: 3\n",
        "```"
      ]
    },
    {
      "cell_type": "code",
      "execution_count": null,
      "metadata": {
        "id": "nQmK8mqRxun7"
      },
      "outputs": [],
      "source": []
    },
    {
      "cell_type": "markdown",
      "metadata": {
        "id": "yammc55txun7"
      },
      "source": [
        "### Soal 15: Menemukan Substring dalam String\n",
        "Buatlah program yang menerima dua input: sebuah string dan sebuah substring, lalu cek apakah substring tersebut ada dalam string dan tampilkan berapa kali substring tersebut muncul.\n",
        "\n",
        "**Petunjuk:**\n",
        "- Gunakan perulangan atau metode string bawaan untuk mencari substring dalam string.\n",
        "\n",
        "**Contoh Output:**\n",
        "```\n",
        "Masukkan string: abracadabra\n",
        "Masukkan substring: abra\n",
        "Substring \"abra\" ditemukan 2 kali\n",
        "```"
      ]
    },
    {
      "cell_type": "code",
      "execution_count": null,
      "metadata": {
        "id": "j8fVFHhIxun7"
      },
      "outputs": [],
      "source": []
    }
  ],
  "metadata": {
    "colab": {
      "provenance": []
    },
    "kernelspec": {
      "display_name": "Python 3",
      "language": "python",
      "name": "python3"
    },
    "language_info": {
      "codemirror_mode": {
        "name": "ipython",
        "version": 3
      },
      "file_extension": ".py",
      "mimetype": "text/x-python",
      "name": "python",
      "nbconvert_exporter": "python",
      "pygments_lexer": "ipython3",
      "version": "3.11.2"
    }
  },
  "nbformat": 4,
  "nbformat_minor": 0
}
