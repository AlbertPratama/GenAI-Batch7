{
  "cells": [
    {
      "cell_type": "markdown",
      "metadata": {
        "id": "7UAFXpgMWxW5"
      },
      "source": [
        "# Python list vs Numpy array"
      ]
    },
    {
      "cell_type": "code",
      "execution_count": null,
      "metadata": {
        "id": "KbiYUYe3WxW7",
        "outputId": "c265c793-2ee6-4723-ca56-158a95e74cfa"
      },
      "outputs": [
        {
          "name": "stdout",
          "output_type": "stream",
          "text": [
            "[1, 2, 3, 4, 5, 6]\n"
          ]
        }
      ],
      "source": [
        "# python list vs numpy array\n",
        "\n",
        "# python list\n",
        "\n",
        "a = [1, 2, 3]\n",
        "b = [4, 5, 6]\n",
        "\n",
        "print(a + b)"
      ]
    },
    {
      "cell_type": "code",
      "execution_count": null,
      "metadata": {
        "id": "3CI1fYE2WxW9",
        "outputId": "739bdf7d-a2e4-49e0-ec2f-592dde3ca5b5"
      },
      "outputs": [
        {
          "name": "stdout",
          "output_type": "stream",
          "text": [
            "[5, 7, 9]\n"
          ]
        }
      ],
      "source": [
        "c = [0,0,0]\n",
        "\n",
        "for i in range(len(c)):\n",
        "    c[i] = a[i] + b[i]\n",
        "\n",
        "print(c)"
      ]
    },
    {
      "cell_type": "code",
      "execution_count": null,
      "metadata": {
        "id": "GBjQa4P3WxW-"
      },
      "outputs": [],
      "source": [
        "def add(a, b):\n",
        "    c = [0] * len(a)\n",
        "    for i in range(len(c)):\n",
        "        c[i] = a[i] + b[i]\n",
        "    return c"
      ]
    },
    {
      "cell_type": "code",
      "execution_count": null,
      "metadata": {
        "id": "x5nfdc1VWxW_",
        "outputId": "6d2533ea-24cb-43de-d4c1-dccda23ab33b"
      },
      "outputs": [
        {
          "name": "stdout",
          "output_type": "stream",
          "text": [
            "[5 7 9]\n"
          ]
        }
      ],
      "source": [
        "# numpy array\n",
        "import numpy as np\n",
        "\n",
        "np_a = np.array(a)\n",
        "np_b = np.array(b)\n",
        "\n",
        "print(np_a + np_b)"
      ]
    },
    {
      "cell_type": "markdown",
      "metadata": {
        "id": "RVC-usNRWxW_"
      },
      "source": [
        "## Perbandingan performa"
      ]
    },
    {
      "cell_type": "code",
      "execution_count": null,
      "metadata": {
        "id": "TobR-xpJWxW_"
      },
      "outputs": [],
      "source": [
        "a = range(10000)\n",
        "b = range(10000)\n",
        "\n",
        "np_a = np.array(a)\n",
        "np_b = np.array(b)"
      ]
    },
    {
      "cell_type": "code",
      "execution_count": null,
      "metadata": {
        "id": "mEHEyLeQWxXA",
        "outputId": "b2a06ab3-4069-44c6-dbfa-529ec5b14225"
      },
      "outputs": [
        {
          "name": "stdout",
          "output_type": "stream",
          "text": [
            "4.19 ms ± 531 µs per loop (mean ± std. dev. of 7 runs, 100 loops each)\n"
          ]
        }
      ],
      "source": [
        "%timeit add(a, b)"
      ]
    },
    {
      "cell_type": "code",
      "execution_count": null,
      "metadata": {
        "id": "544CDR-DWxXB",
        "outputId": "966a9049-c242-4c9e-819b-c380ffb9f8c4"
      },
      "outputs": [
        {
          "name": "stdout",
          "output_type": "stream",
          "text": [
            "9.44 µs ± 722 ns per loop (mean ± std. dev. of 7 runs, 100,000 loops each)\n"
          ]
        }
      ],
      "source": [
        "%timeit np_a + np_b"
      ]
    },
    {
      "cell_type": "markdown",
      "metadata": {
        "id": "5MdFKDKTWxXB"
      },
      "source": [
        "# Array"
      ]
    },
    {
      "cell_type": "code",
      "execution_count": null,
      "metadata": {
        "id": "H2BsiwWIWxXC",
        "outputId": "1e8401ca-a8cc-400e-bbd9-97932ca9329e"
      },
      "outputs": [
        {
          "name": "stdout",
          "output_type": "stream",
          "text": [
            "<class 'numpy.ndarray'>\n"
          ]
        }
      ],
      "source": [
        "print(type(np_a))"
      ]
    },
    {
      "cell_type": "code",
      "execution_count": null,
      "metadata": {
        "id": "hlg7f46kWxXC",
        "outputId": "91f1cc44-0974-4f9f-caf6-03e1b1f360d2"
      },
      "outputs": [
        {
          "name": "stdout",
          "output_type": "stream",
          "text": [
            "[1 2 3]\n",
            "[1 3 5 7 9]\n",
            "[0. 0. 0.]\n",
            "[1. 1. 1.]\n"
          ]
        }
      ],
      "source": [
        "# define array\n",
        "\n",
        "a = np.array([1, 2, 3])\n",
        "print(a)\n",
        "b = np.arange(1, 10, 2)\n",
        "print(b)\n",
        "c = np.zeros((3))\n",
        "print(c)\n",
        "d = np.ones((3))\n",
        "print(d)"
      ]
    },
    {
      "cell_type": "markdown",
      "metadata": {
        "id": "n0oJ-spfWxXC"
      },
      "source": [
        "# Array Dimensions"
      ]
    },
    {
      "cell_type": "code",
      "execution_count": null,
      "metadata": {
        "id": "umabvXJYWxXD",
        "outputId": "8e78b584-075e-44b9-c1cc-7a5efa0a4f9b"
      },
      "outputs": [
        {
          "name": "stdout",
          "output_type": "stream",
          "text": [
            "()\n",
            "(3,)\n",
            "(3, 3)\n",
            "(1, 2, 3, 3)\n"
          ]
        }
      ],
      "source": [
        "# 0 dimension array (scalar)\n",
        "a = np.array(1)\n",
        "print(a.shape)\n",
        "\n",
        "# 1 dimension array (vector)\n",
        "b = [1,2,3]\n",
        "b = np.array(b)\n",
        "print(b.shape)\n",
        "\n",
        "# 2 Dimension array (matrix)\n",
        "c = [[1, 2, 3],[4,5,6], [7,8,9]]\n",
        "c = np.array(c)\n",
        "print(c.shape)\n",
        "\n",
        "# 3 or more Dimension array (tensor)\n",
        "d = [[[[1, 2, 3],[4,5,6], [7,8,9]],[[1, 2, 3],[4,5,6], [7,8,9]]]]\n",
        "d = np.array(d)\n",
        "print(d.shape)"
      ]
    },
    {
      "cell_type": "markdown",
      "metadata": {
        "id": "Jr0LXovxWxXD"
      },
      "source": [
        "# Vector"
      ]
    },
    {
      "cell_type": "code",
      "execution_count": null,
      "metadata": {
        "id": "hQHCvT3qWxXD",
        "outputId": "652816fb-a2fe-4dbd-d2e5-c626c91fed3b"
      },
      "outputs": [
        {
          "name": "stdout",
          "output_type": "stream",
          "text": [
            "[5 7 9]\n",
            "[-3 -3 -3]\n",
            "[ 4 10 18]\n",
            "[0.25 0.4  0.5 ]\n",
            "32\n",
            "32\n",
            "32\n",
            "[-3  6 -3]\n"
          ]
        }
      ],
      "source": [
        "# Operasi aritmatika\n",
        "\n",
        "a = np.array([1, 2, 3])\n",
        "b = np.array([4, 5, 6])\n",
        "\n",
        "# antar vektor (element wise)\n",
        "print(a + b)\n",
        "print(a - b)\n",
        "\n",
        "print(a * b)\n",
        "print(a / b)\n",
        "\n",
        "# dot product\n",
        "print(a @ b)\n",
        "print(np.dot(a, b))\n",
        "print(a.dot(b))\n",
        "\n",
        "# cross product\n",
        "print(np.cross(a, b))"
      ]
    },
    {
      "cell_type": "code",
      "execution_count": null,
      "metadata": {
        "id": "BSsNrCyvWxXD",
        "outputId": "3b6c6426-2bad-44ec-9588-7b5c6dfc086e"
      },
      "outputs": [
        {
          "name": "stdout",
          "output_type": "stream",
          "text": [
            "[1 2 3]\n",
            "[4 5 6]\n",
            "[-2 -1  0]\n",
            "[3 6 9]\n",
            "[0.33333333 0.66666667 1.        ]\n"
          ]
        }
      ],
      "source": [
        "# vektor dengan skalar\n",
        "\n",
        "c = 3\n",
        "print(a)\n",
        "print(a + c)\n",
        "print(a - c)\n",
        "print(a * c)\n",
        "print(a / c)"
      ]
    },
    {
      "cell_type": "code",
      "execution_count": null,
      "metadata": {
        "id": "FAMzZNINWxXE",
        "outputId": "59c73e06-f333-4612-d132-34baf3817e10"
      },
      "outputs": [
        {
          "name": "stdout",
          "output_type": "stream",
          "text": [
            "3.7416573867739413\n",
            "3.7416573867739413\n",
            "6.0\n"
          ]
        }
      ],
      "source": [
        "# vector norm\n",
        "# euclidean norm (l2 norm)\n",
        "print(np.linalg.norm(a))\n",
        "print(np.sqrt(1**2 + 2**2 + 3**2))\n",
        "\n",
        "# manhattan norm (L1 norm)\n",
        "print(np.linalg.norm(a, ord=1))\n"
      ]
    },
    {
      "cell_type": "markdown",
      "metadata": {
        "id": "9t5SqzCtWxXE"
      },
      "source": [
        "# Matrix"
      ]
    },
    {
      "cell_type": "code",
      "execution_count": null,
      "metadata": {
        "id": "Iu62t84MWxXE",
        "outputId": "53554505-cce8-4075-ddba-9123b78ab69b"
      },
      "outputs": [
        {
          "name": "stdout",
          "output_type": "stream",
          "text": [
            "(2, 2)\n"
          ]
        }
      ],
      "source": [
        "A = np.array([[1, 2], [3, 4]])\n",
        "B = np.array([[5, 6], [7, 8]])\n",
        "\n",
        "print(A.shape)"
      ]
    },
    {
      "cell_type": "code",
      "execution_count": null,
      "metadata": {
        "id": "7SAvE66kWxXE",
        "outputId": "4e1181b9-33fc-417c-dea4-e067e361ea18"
      },
      "outputs": [
        {
          "name": "stdout",
          "output_type": "stream",
          "text": [
            "[[ 6  8]\n",
            " [10 12]]\n",
            "[[-4 -4]\n",
            " [-4 -4]]\n",
            "[[ 5 12]\n",
            " [21 32]]\n",
            "[[0.2        0.33333333]\n",
            " [0.42857143 0.5       ]]\n",
            "---\n",
            "[[4 5]\n",
            " [6 7]]\n",
            "[[-2 -1]\n",
            " [ 0  1]]\n",
            "[[ 3  6]\n",
            " [ 9 12]]\n",
            "[[0.33333333 0.66666667]\n",
            " [1.         1.33333333]]\n"
          ]
        }
      ],
      "source": [
        "# element-wise operation\n",
        "\n",
        "print(A + B)\n",
        "print(A - B)\n",
        "print(A * B)\n",
        "print(A / B)\n",
        "\n",
        "print('---')\n",
        "\n",
        "# with scalar\n",
        "c = 3\n",
        "print(A + c)\n",
        "print(A - c)\n",
        "print(A * c)\n",
        "print(A / c)"
      ]
    },
    {
      "cell_type": "code",
      "execution_count": null,
      "metadata": {
        "id": "NhKFRE5yWxXE",
        "outputId": "b698ee85-2369-4090-fe44-4ef5e302f285"
      },
      "outputs": [
        {
          "name": "stdout",
          "output_type": "stream",
          "text": [
            "[[1 2]\n",
            " [3 4]]\n",
            "[[5 6]\n",
            " [7 8]]\n",
            "[[19 22]\n",
            " [43 50]]\n"
          ]
        }
      ],
      "source": [
        "# dot product\n",
        "print(A)\n",
        "print(B)\n",
        "print(A @ B)"
      ]
    },
    {
      "cell_type": "code",
      "execution_count": null,
      "metadata": {
        "id": "bl1hLOeXWxXF",
        "outputId": "84ec52cc-d693-4bd8-9ade-cff8ffe24438"
      },
      "outputs": [
        {
          "name": "stdout",
          "output_type": "stream",
          "text": [
            "[[1 2 3]\n",
            " [3 4 6]]\n",
            "[[1 3]\n",
            " [2 4]\n",
            " [3 6]]\n"
          ]
        }
      ],
      "source": [
        "# transpose\n",
        "\n",
        "A= np.array([[1, 2, 3], [3, 4, 6]])\n",
        "print(A)\n",
        "print(A.T)"
      ]
    },
    {
      "cell_type": "markdown",
      "metadata": {
        "id": "InI9LtytWxXF"
      },
      "source": [
        "## Matrix types"
      ]
    },
    {
      "cell_type": "code",
      "execution_count": null,
      "metadata": {
        "id": "bmBI0J5LWxXF",
        "outputId": "feb65cea-c3c7-45b9-a76a-09f49faa24b5"
      },
      "outputs": [
        {
          "name": "stdout",
          "output_type": "stream",
          "text": [
            "[[1. 3.]\n",
            " [3. 4.]]\n"
          ]
        }
      ],
      "source": [
        "# square matrix\n",
        "A = np.array([[1,3], [3, 4]])\n",
        "\n",
        "# identity matrix\n",
        "I = np.eye(2)\n",
        "\n",
        "print(A @ I)"
      ]
    },
    {
      "cell_type": "code",
      "execution_count": null,
      "metadata": {
        "id": "0IEigqYsWxXF",
        "outputId": "2484c2a5-def1-44e7-8363-741de948bed9"
      },
      "outputs": [
        {
          "name": "stdout",
          "output_type": "stream",
          "text": [
            "[[-0.8  0.6]\n",
            " [ 0.6 -0.2]]\n"
          ]
        }
      ],
      "source": [
        "A_inv = np.linalg.inv(A)\n",
        "print(A_inv)"
      ]
    },
    {
      "cell_type": "code",
      "execution_count": null,
      "metadata": {
        "id": "DVeWIkaWWxXF",
        "outputId": "230bf027-6eb9-433f-9389-a65932bec430"
      },
      "outputs": [
        {
          "data": {
            "text/plain": [
              "array([[ 1.00000000e+00, -4.44089210e-16],\n",
              "       [ 2.77555756e-17,  1.00000000e+00]])"
            ]
          },
          "execution_count": 20,
          "metadata": {},
          "output_type": "execute_result"
        }
      ],
      "source": [
        "A_inv @ A"
      ]
    },
    {
      "cell_type": "markdown",
      "metadata": {
        "id": "0hkjh40nWxXG"
      },
      "source": [
        "# Array Manipulation, Aggregation, Indexing, Condition (masking)"
      ]
    },
    {
      "cell_type": "code",
      "execution_count": null,
      "metadata": {
        "id": "gYAw2a6ZWxXG"
      },
      "outputs": [],
      "source": [
        "A = np.array([[0.45053314, 0.17296777, 0.34376245, 0.5510652],\n",
        "              [0.54627315, 0.05093587, 0.40067661, 0.55645993],\n",
        "              [0.12697628, 0.82485143, 0.26590556, 0.56917101]])"
      ]
    },
    {
      "cell_type": "markdown",
      "metadata": {
        "id": "xvGAy-_lWxXG"
      },
      "source": [
        "## Manipulation"
      ]
    },
    {
      "cell_type": "code",
      "execution_count": null,
      "metadata": {
        "id": "DriiErz-WxXG",
        "outputId": "bdb6b4f4-bcab-4059-8f5d-1da867c32491"
      },
      "outputs": [
        {
          "data": {
            "text/plain": [
              "(3, 4)"
            ]
          },
          "execution_count": 22,
          "metadata": {},
          "output_type": "execute_result"
        }
      ],
      "source": [
        "A.shape"
      ]
    },
    {
      "cell_type": "code",
      "execution_count": null,
      "metadata": {
        "id": "LB_jJnGwWxXH",
        "outputId": "4425eb2b-42f8-418d-d596-5454e4f84543"
      },
      "outputs": [
        {
          "data": {
            "text/plain": [
              "2"
            ]
          },
          "execution_count": 23,
          "metadata": {},
          "output_type": "execute_result"
        }
      ],
      "source": [
        "A.ndim"
      ]
    },
    {
      "cell_type": "code",
      "execution_count": null,
      "metadata": {
        "id": "j4yH_I1kWxXH",
        "outputId": "eee72f14-7d26-4acc-950f-d7d1c2f097ef"
      },
      "outputs": [
        {
          "data": {
            "text/plain": [
              "12"
            ]
          },
          "execution_count": 24,
          "metadata": {},
          "output_type": "execute_result"
        }
      ],
      "source": [
        "A.size"
      ]
    },
    {
      "cell_type": "code",
      "execution_count": null,
      "metadata": {
        "id": "DcZgaVBFWxXI",
        "outputId": "e5771b66-dc18-42bf-8153-70c1d95f7216"
      },
      "outputs": [
        {
          "data": {
            "text/plain": [
              "(12,)"
            ]
          },
          "execution_count": 25,
          "metadata": {},
          "output_type": "execute_result"
        }
      ],
      "source": [
        "# flatten (mengubah array nD menjadi 1D)\n",
        "A.flatten().shape"
      ]
    },
    {
      "cell_type": "code",
      "execution_count": null,
      "metadata": {
        "id": "3xfrd7iFWxXI",
        "outputId": "b5299f6f-0418-4edc-888d-e4aca4521ed5"
      },
      "outputs": [
        {
          "data": {
            "text/plain": [
              "array([[0.45053314, 0.17296777, 0.34376245, 0.5510652 , 0.54627315,\n",
              "        0.05093587, 0.40067661, 0.55645993, 0.12697628, 0.82485143,\n",
              "        0.26590556, 0.56917101]])"
            ]
          },
          "execution_count": 26,
          "metadata": {},
          "output_type": "execute_result"
        }
      ],
      "source": [
        "# reshape\n",
        "A.reshape(1,12)"
      ]
    },
    {
      "cell_type": "code",
      "execution_count": null,
      "metadata": {
        "id": "U2rOJsg-WxXI"
      },
      "outputs": [],
      "source": [
        "# copy\n",
        "B = A.copy()"
      ]
    },
    {
      "cell_type": "markdown",
      "metadata": {
        "id": "gZhRIstzWxXI"
      },
      "source": [
        "## Indexing"
      ]
    },
    {
      "cell_type": "code",
      "execution_count": null,
      "metadata": {
        "id": "lWTX1APgWxXI",
        "outputId": "6e2f99e2-aa96-43bf-ecb4-dc9bde87597d"
      },
      "outputs": [
        {
          "data": {
            "text/plain": [
              "array([[0.45053314, 0.17296777, 0.34376245, 0.5510652 ],\n",
              "       [0.54627315, 0.05093587, 0.40067661, 0.55645993],\n",
              "       [0.12697628, 0.82485143, 0.26590556, 0.56917101]])"
            ]
          },
          "execution_count": 28,
          "metadata": {},
          "output_type": "execute_result"
        }
      ],
      "source": [
        "A"
      ]
    },
    {
      "cell_type": "markdown",
      "metadata": {
        "id": "V8fMD4TVWxXJ"
      },
      "source": [
        "## Aggregation"
      ]
    },
    {
      "cell_type": "code",
      "execution_count": null,
      "metadata": {
        "id": "0tPYjC-8WxXM",
        "outputId": "79dda4b5-724c-4f6e-d196-14aeab1edc1a"
      },
      "outputs": [
        {
          "data": {
            "text/plain": [
              "array([[0.45053314, 0.17296777, 0.34376245, 0.5510652 ],\n",
              "       [0.54627315, 0.05093587, 0.40067661, 0.55645993],\n",
              "       [0.12697628, 0.82485143, 0.26590556, 0.56917101]])"
            ]
          },
          "execution_count": 29,
          "metadata": {},
          "output_type": "execute_result"
        }
      ],
      "source": [
        "A"
      ]
    },
    {
      "cell_type": "code",
      "execution_count": null,
      "metadata": {
        "id": "OBY7gkM_WxXM",
        "outputId": "075391b7-cffb-405e-d48c-ab4060f99d53"
      },
      "outputs": [
        {
          "name": "stdout",
          "output_type": "stream",
          "text": [
            "0.82485143\n",
            "0.26590556\n",
            "[1.51832856 1.55434556 1.78690428]\n"
          ]
        }
      ],
      "source": [
        "print(A.max())\n",
        "print(A.min(axis=0)[2])\n",
        "print(A.sum(axis=1))"
      ]
    },
    {
      "cell_type": "markdown",
      "metadata": {
        "id": "MWnJ_O08WxXM"
      },
      "source": [
        "## Condition (masking)"
      ]
    },
    {
      "cell_type": "code",
      "execution_count": null,
      "metadata": {
        "id": "qACBq0EqWxXN",
        "outputId": "70352ea1-8b76-4ca1-9562-00ee0b98be29"
      },
      "outputs": [
        {
          "data": {
            "text/plain": [
              "array([[0.45053314, 0.17296777, 0.34376245, 0.5510652 ],\n",
              "       [0.54627315, 0.05093587, 0.40067661, 0.55645993],\n",
              "       [0.12697628, 0.82485143, 0.26590556, 0.56917101]])"
            ]
          },
          "execution_count": 31,
          "metadata": {},
          "output_type": "execute_result"
        }
      ],
      "source": [
        "A"
      ]
    },
    {
      "cell_type": "code",
      "execution_count": null,
      "metadata": {
        "id": "yo5uX-5iWxXN",
        "outputId": "51b0719d-d4a4-4b83-a1ba-c89fb3355abe"
      },
      "outputs": [
        {
          "data": {
            "text/plain": [
              "array([[ True,  True,  True, False],\n",
              "       [False,  True,  True, False],\n",
              "       [ True, False,  True, False]])"
            ]
          },
          "execution_count": 32,
          "metadata": {},
          "output_type": "execute_result"
        }
      ],
      "source": [
        "A<0.5"
      ]
    },
    {
      "cell_type": "code",
      "execution_count": null,
      "metadata": {
        "id": "DJOw-Qd0WxXN",
        "outputId": "08ee1577-6a8d-4f25-d9e7-86e0016b0bc1"
      },
      "outputs": [
        {
          "data": {
            "text/plain": [
              "array([0.45053314, 0.17296777, 0.34376245, 0.05093587, 0.40067661,\n",
              "       0.12697628, 0.26590556])"
            ]
          },
          "execution_count": 33,
          "metadata": {},
          "output_type": "execute_result"
        }
      ],
      "source": [
        "A[A<0.5]"
      ]
    },
    {
      "cell_type": "code",
      "execution_count": null,
      "metadata": {
        "id": "lQPyW1IgWxXN",
        "outputId": "1a391c18-2b18-4ad2-d0a0-74b2ac5d9d2f"
      },
      "outputs": [
        {
          "data": {
            "text/plain": [
              "array([0.45053314, 0.17296777, 0.34376245, 0.05093587, 0.40067661,\n",
              "       0.12697628, 0.26590556])"
            ]
          },
          "execution_count": 34,
          "metadata": {},
          "output_type": "execute_result"
        }
      ],
      "source": [
        "A[[[ True,  True,  True, False],\n",
        "       [False,  True,  True, False],\n",
        "       [ True, False,  True, False]]]"
      ]
    },
    {
      "cell_type": "markdown",
      "metadata": {
        "id": "L2ZvLPCHWxXN"
      },
      "source": [
        "# Studi kasus"
      ]
    },
    {
      "cell_type": "code",
      "execution_count": null,
      "metadata": {
        "id": "nhWHVF6EWxXN"
      },
      "outputs": [],
      "source": [
        "# dosen dengan 50 mhs\n",
        "\n",
        "# nilai akhir = 0.2 tugas + 0.2 praktikum + 0.3 UTS + 0.3 UAS\n",
        "\n",
        "nilai_tugas = np.random.normal(70, 10, 50)\n",
        "nilai_praktikum = np.random.normal(80, 5, 50)\n",
        "nilai_uts = np.random.normal(70, 5, 50)\n",
        "nilai_uas = np.random.normal(75, 10, 50)\n",
        "absen = np.arange(1,51)"
      ]
    },
    {
      "cell_type": "code",
      "execution_count": null,
      "metadata": {
        "id": "H0yPO0szWxXO",
        "outputId": "679975b2-d529-4482-f6f5-a49bc3f9681e"
      },
      "outputs": [
        {
          "data": {
            "text/plain": [
              "array([ 1,  2,  3,  4,  5,  6,  7,  8,  9, 10, 11, 12, 13, 14, 15, 16, 17,\n",
              "       18, 19, 20, 21, 22, 23, 24, 25, 26, 27, 28, 29, 30, 31, 32, 33, 34,\n",
              "       35, 36, 37, 38, 39, 40, 41, 42, 43, 44, 45, 46, 47, 48, 49, 50])"
            ]
          },
          "execution_count": 36,
          "metadata": {},
          "output_type": "execute_result"
        }
      ],
      "source": [
        "absen"
      ]
    },
    {
      "cell_type": "code",
      "execution_count": null,
      "metadata": {
        "id": "kTn3YrtwWxXO",
        "outputId": "b8bc3c8f-5689-4ade-87cd-a0665d289576"
      },
      "outputs": [
        {
          "data": {
            "text/plain": [
              "array([68.24651528, 69.02948917, 76.66856355, 70.93558794, 66.30755657,\n",
              "       71.3646781 , 69.48724576, 66.53379398, 70.70165518, 67.61195255,\n",
              "       69.53379987, 76.72785741, 77.22224981, 70.82901866, 71.17935465,\n",
              "       75.54549071, 70.44604482, 64.19602482, 70.60587858, 74.16219451,\n",
              "       76.0250289 , 68.76960627, 71.98811472, 75.2504082 , 70.96077651,\n",
              "       65.70184609, 70.34553571, 77.63978614, 76.38086568, 72.55821742,\n",
              "       68.26119791, 71.84891207, 72.38181883, 71.19970831, 76.74105586,\n",
              "       75.12356547, 76.27316268, 73.14377968, 70.26216492, 72.6502416 ,\n",
              "       65.72536606, 72.00606392, 74.45961601, 81.1581977 , 80.96616257,\n",
              "       76.58001623, 71.05252762, 77.56834064, 71.28138233, 75.49730214])"
            ]
          },
          "execution_count": 37,
          "metadata": {},
          "output_type": "execute_result"
        }
      ],
      "source": [
        "nilai_akhir = 0.2 * nilai_tugas + 0.2 * nilai_praktikum + 0.3 * nilai_uts + 0.3 * nilai_uas\n",
        "nilai_akhir"
      ]
    },
    {
      "cell_type": "code",
      "execution_count": null,
      "metadata": {
        "id": "ST3IrpjuWxXO",
        "outputId": "6f2ecc01-9009-486e-fc9d-87d6af1673b3"
      },
      "outputs": [
        {
          "data": {
            "text/plain": [
              "array([ 1,  2,  3,  5,  6,  7,  8,  9, 10, 11, 12, 13, 14, 16, 18, 20, 21,\n",
              "       22, 24, 26, 28, 29, 30, 31, 34, 35, 36, 37, 38, 40, 41, 42, 43, 44,\n",
              "       45, 46, 47, 48])"
            ]
          },
          "execution_count": 38,
          "metadata": {},
          "output_type": "execute_result"
        }
      ],
      "source": [
        "absen[~((nilai_uas < 70) & (nilai_akhir >70))]"
      ]
    },
    {
      "cell_type": "code",
      "execution_count": null,
      "metadata": {
        "id": "c0hdgCWpWxXO",
        "outputId": "8445baac-92da-4bbc-c2cb-1dbb7c6bd124"
      },
      "outputs": [
        {
          "data": {
            "text/plain": [
              "12"
            ]
          },
          "execution_count": 39,
          "metadata": {},
          "output_type": "execute_result"
        }
      ],
      "source": [
        "# jumlah mahasiswa yang tidak lulus\n",
        "nilai_akhir[nilai_akhir < 70].size"
      ]
    },
    {
      "cell_type": "code",
      "execution_count": null,
      "metadata": {
        "id": "u0jvgfUkWxXO",
        "outputId": "cc3f75b4-4855-49e6-a209-3f74eec5f1c0"
      },
      "outputs": [
        {
          "data": {
            "text/plain": [
              "array([ 1,  2,  5,  7,  8, 10, 11, 18, 22, 26, 31, 41])"
            ]
          },
          "execution_count": 40,
          "metadata": {},
          "output_type": "execute_result"
        }
      ],
      "source": [
        "absen[nilai_akhir < 70]"
      ]
    },
    {
      "cell_type": "code",
      "execution_count": null,
      "metadata": {
        "id": "2tL3l93QWxXP",
        "outputId": "d95ce7d5-ce89-4185-cd98-6eb4a7aec4ce"
      },
      "outputs": [
        {
          "data": {
            "text/plain": [
              "72.34271440223654"
            ]
          },
          "execution_count": 41,
          "metadata": {},
          "output_type": "execute_result"
        }
      ],
      "source": [
        "nilai_akhir.mean()"
      ]
    }
  ],
  "metadata": {
    "kernelspec": {
      "display_name": "data_science",
      "language": "python",
      "name": "python3"
    },
    "language_info": {
      "codemirror_mode": {
        "name": "ipython",
        "version": 3
      },
      "file_extension": ".py",
      "mimetype": "text/x-python",
      "name": "python",
      "nbconvert_exporter": "python",
      "pygments_lexer": "ipython3",
      "version": "3.9.18"
    },
    "colab": {
      "provenance": []
    }
  },
  "nbformat": 4,
  "nbformat_minor": 0
}