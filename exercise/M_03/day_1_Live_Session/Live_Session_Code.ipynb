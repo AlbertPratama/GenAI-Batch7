{
 "cells": [
  {
   "cell_type": "code",
   "execution_count": 107,
   "metadata": {},
   "outputs": [],
   "source": [
    "import numpy as np"
   ]
  },
  {
   "cell_type": "code",
   "execution_count": 108,
   "metadata": {},
   "outputs": [
    {
     "name": "stdout",
     "output_type": "stream",
     "text": [
      "[1, 2, 3, 4, 5, 6]\n"
     ]
    }
   ],
   "source": [
    "# python_list \n",
    "a = [1,2,3]\n",
    "b = [4,5,6]\n",
    "\n",
    "print(a+b)"
   ]
  },
  {
   "cell_type": "markdown",
   "metadata": {},
   "source": [
    "#### `List General`"
   ]
  },
  {
   "cell_type": "code",
   "execution_count": 109,
   "metadata": {},
   "outputs": [
    {
     "name": "stdout",
     "output_type": "stream",
     "text": [
      "[5, 7, 9]\n"
     ]
    }
   ],
   "source": [
    "c= [0,0,0]\n",
    "for i in range(len(c)):\n",
    "  c[i] = a[i]+b[i]\n",
    "print(c)"
   ]
  },
  {
   "cell_type": "markdown",
   "metadata": {},
   "source": [
    "#### `Numpy vector mult`"
   ]
  },
  {
   "cell_type": "code",
   "execution_count": 110,
   "metadata": {},
   "outputs": [
    {
     "name": "stdout",
     "output_type": "stream",
     "text": [
      "[5 7 9]\n"
     ]
    }
   ],
   "source": [
    "# python_list\n",
    "a = np.array([1, 2, 3])\n",
    "b = np.array([4, 5, 6])\n",
    "\n",
    "print(a+b)"
   ]
  },
  {
   "cell_type": "code",
   "execution_count": 111,
   "metadata": {},
   "outputs": [],
   "source": [
    "# def add(a,b):\n",
    "#   c[0] = \n",
    "#   for i in range(len(a)):\n",
    "#   c[i] = a[i] + b[i]\n",
    "\n",
    "#   return c"
   ]
  },
  {
   "cell_type": "code",
   "execution_count": 112,
   "metadata": {},
   "outputs": [],
   "source": [
    "a = range(10000)\n",
    "b = range(10000)\n",
    "\n",
    "np_a = np.array(a)\n",
    "np_b = np.array(b)"
   ]
  },
  {
   "cell_type": "code",
   "execution_count": 113,
   "metadata": {},
   "outputs": [],
   "source": [
    "# %timeit add(a,b):"
   ]
  },
  {
   "cell_type": "code",
   "execution_count": 114,
   "metadata": {},
   "outputs": [
    {
     "name": "stdout",
     "output_type": "stream",
     "text": [
      "5.3 µs ± 446 ns per loop (mean ± std. dev. of 7 runs, 100,000 loops each)\n"
     ]
    }
   ],
   "source": [
    "%timeit np_a + np_b"
   ]
  },
  {
   "cell_type": "markdown",
   "metadata": {},
   "source": [
    "# `Vector Arithmetic`"
   ]
  },
  {
   "cell_type": "code",
   "execution_count": 115,
   "metadata": {},
   "outputs": [
    {
     "name": "stdout",
     "output_type": "stream",
     "text": [
      "[5 7 9]\n",
      "[-3 -3 -3]\n",
      "[5 7 9]\n",
      "[0.25 0.4  0.5 ]\n",
      "32\n",
      "32\n",
      "32\n",
      "[-3  6 -3]\n"
     ]
    }
   ],
   "source": [
    "a = np.array([1, 2, 3])\n",
    "b = np.array([4, 5, 6])\n",
    "\n",
    "print(a+b)\n",
    "print(a-b)\n",
    "\n",
    "print(a+b)\n",
    "print(a/b)\n",
    "\n",
    "\n",
    "# dot product \n",
    "print(a @ b)\n",
    "print(np.dot(a,b))\n",
    "print(a.dot(b))\n",
    "\n",
    "# cross product\n",
    "print(np.cross(a,b)) "
   ]
  },
  {
   "cell_type": "code",
   "execution_count": 116,
   "metadata": {},
   "outputs": [
    {
     "name": "stdout",
     "output_type": "stream",
     "text": [
      "[4 5 6]\n",
      "[-2 -1  0]\n",
      "[4 5 6]\n",
      "[0.33333333 0.66666667 1.        ]\n"
     ]
    }
   ],
   "source": [
    "c = 3\n",
    "\n",
    "print(a+c)\n",
    "print(a-c)\n",
    "\n",
    "print(a+c)\n",
    "print(a/c)"
   ]
  },
  {
   "cell_type": "markdown",
   "metadata": {},
   "source": [
    "# `Vector Norm`"
   ]
  },
  {
   "cell_type": "code",
   "execution_count": 117,
   "metadata": {},
   "outputs": [
    {
     "name": "stdout",
     "output_type": "stream",
     "text": [
      "3.7416573867739413\n",
      "3.7416573867739413\n",
      "6.0\n"
     ]
    }
   ],
   "source": [
    "print(np.linalg.norm(a))\n",
    "\n",
    "# Euclidean Distance -> Nearest distance\n",
    "print(np.sqrt(1**2 +  2**2 + 3**2 ))\n",
    "\n",
    "#Manhattan Distance \n",
    "print(np.linalg.norm(a, ord=1))"
   ]
  },
  {
   "cell_type": "markdown",
   "metadata": {},
   "source": [
    "# `Matrix`"
   ]
  },
  {
   "cell_type": "markdown",
   "metadata": {},
   "source": [
    "a = np.array([      -> colomn\n",
    "            [baris]\n",
    "])"
   ]
  },
  {
   "cell_type": "code",
   "execution_count": 118,
   "metadata": {},
   "outputs": [
    {
     "name": "stdout",
     "output_type": "stream",
     "text": [
      "(2, 2)\n",
      "(2, 2)\n"
     ]
    }
   ],
   "source": [
    "A = np.array([[1, 2], [4, 5]])\n",
    "B = np.array([[7,8], [10,11] ])\n",
    "print(A.shape)\n",
    "print(B.shape)"
   ]
  },
  {
   "cell_type": "code",
   "execution_count": 119,
   "metadata": {},
   "outputs": [
    {
     "name": "stdout",
     "output_type": "stream",
     "text": [
      "[[27 30]\n",
      " [78 87]]\n"
     ]
    }
   ],
   "source": [
    "print(A @ B)"
   ]
  },
  {
   "cell_type": "code",
   "execution_count": 120,
   "metadata": {},
   "outputs": [],
   "source": [
    "tugas = np.random.normal(70,10,50)\n",
    "pract = np.random.normal(80, 5, 50)\n",
    "uts = np.random.normal(70, 5, 50)\n",
    "uas = np.random.normal(70, 10, 50)\n",
    "\n",
    "mhs = np.arange(1,51)"
   ]
  },
  {
   "cell_type": "code",
   "execution_count": 121,
   "metadata": {},
   "outputs": [
    {
     "data": {
      "text/plain": [
       "array([73.57706301, 69.92214603, 76.23990766, 70.326128  , 76.62776886,\n",
       "       76.75925826, 72.5917389 , 83.70775489, 75.59103869, 78.17914062,\n",
       "       72.97694626, 74.18291962, 73.00725965, 71.43095074, 74.52909271,\n",
       "       68.52999448, 66.95294877, 64.71843571, 69.25396406, 73.52721397,\n",
       "       62.01326804, 79.70345701, 78.33243335, 71.62453326, 74.52261133,\n",
       "       69.82015871, 70.22697465, 71.6582779 , 67.10273139, 77.52308334,\n",
       "       68.0795441 , 68.56580278, 82.39046341, 70.52118027, 67.43685535,\n",
       "       69.55166636, 66.83959535, 71.608581  , 71.55512732, 70.34135298,\n",
       "       76.04295733, 66.28272388, 75.97455024, 75.21182766, 79.83182774,\n",
       "       73.42521708, 76.30919917, 68.51771667, 76.33884232, 70.79097261])"
      ]
     },
     "execution_count": 121,
     "metadata": {},
     "output_type": "execute_result"
    }
   ],
   "source": [
    "res = 0.2 * tugas + 0.2 * pract + 0.3 * uts + 0.3 * uas\n",
    "res"
   ]
  },
  {
   "cell_type": "code",
   "execution_count": 122,
   "metadata": {},
   "outputs": [
    {
     "name": "stdout",
     "output_type": "stream",
     "text": [
      "15\n",
      "15\n"
     ]
    }
   ],
   "source": [
    "# not pass \n",
    "passgrade = res[res < 70]\n",
    "print(passgrade.size)\n",
    "print(len(passgrade))"
   ]
  },
  {
   "cell_type": "code",
   "execution_count": 123,
   "metadata": {},
   "outputs": [
    {
     "data": {
      "text/plain": [
       "array([ 2, 16, 17, 18, 19, 21, 26, 29, 31, 32, 35, 36, 37, 42, 48])"
      ]
     },
     "execution_count": 123,
     "metadata": {},
     "output_type": "execute_result"
    }
   ],
   "source": [
    "mhs[res <70]"
   ]
  },
  {
   "cell_type": "code",
   "execution_count": 124,
   "metadata": {},
   "outputs": [
    {
     "data": {
      "text/plain": [
       "72.61550406955526"
      ]
     },
     "execution_count": 124,
     "metadata": {},
     "output_type": "execute_result"
    }
   ],
   "source": [
    "res.mean()"
   ]
  },
  {
   "cell_type": "code",
   "execution_count": 125,
   "metadata": {},
   "outputs": [
    {
     "data": {
      "text/plain": [
       "67.57250344589595"
      ]
     },
     "execution_count": 125,
     "metadata": {},
     "output_type": "execute_result"
    }
   ],
   "source": [
    "passgrade.mean()"
   ]
  },
  {
   "cell_type": "code",
   "execution_count": 126,
   "metadata": {},
   "outputs": [
    {
     "data": {
      "text/plain": [
       "36"
      ]
     },
     "execution_count": 126,
     "metadata": {},
     "output_type": "execute_result"
    }
   ],
   "source": [
    "n_pass = (uas <= 70) & (res > 70)\n",
    "n_pass = np.sum(~n_pass)\n",
    "n_pass"
   ]
  }
 ],
 "metadata": {
  "kernelspec": {
   "display_name": "Python 3",
   "language": "python",
   "name": "python3"
  },
  "language_info": {
   "codemirror_mode": {
    "name": "ipython",
    "version": 3
   },
   "file_extension": ".py",
   "mimetype": "text/x-python",
   "name": "python",
   "nbconvert_exporter": "python",
   "pygments_lexer": "ipython3",
   "version": "3.11.2"
  }
 },
 "nbformat": 4,
 "nbformat_minor": 2
}
