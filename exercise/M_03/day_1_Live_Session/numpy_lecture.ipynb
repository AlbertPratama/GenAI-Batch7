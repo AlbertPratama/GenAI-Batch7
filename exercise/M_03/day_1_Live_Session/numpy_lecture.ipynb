{
  "cells": [
    {
      "cell_type": "markdown",
      "metadata": {
        "id": "zyZmoQarWJ2s"
      },
      "source": [
        "## pyhton list vs numpy array"
      ]
    },
    {
      "cell_type": "code",
      "execution_count": null,
      "metadata": {
        "id": "toRtHEn9WJ2w",
        "outputId": "42dbadc4-e71c-40a3-dd0e-3ceb246e9147"
      },
      "outputs": [
        {
          "name": "stdout",
          "output_type": "stream",
          "text": [
            "[1, 2, 3, 4, 5, 6]\n"
          ]
        }
      ],
      "source": [
        "# list python\n",
        "a = [1, 2, 3]\n",
        "b = [4, 5, 6]\n",
        "\n",
        "print(a+b)"
      ]
    },
    {
      "cell_type": "code",
      "execution_count": null,
      "metadata": {
        "id": "yagzsoZ8WJ2y",
        "outputId": "2df69cd4-453c-4c91-9bfd-9d36584af148"
      },
      "outputs": [
        {
          "name": "stdout",
          "output_type": "stream",
          "text": [
            "[5, 7, 9]\n"
          ]
        }
      ],
      "source": [
        "# penjumlahan vektor dengan list python\n",
        "c = [0,0,0]\n",
        "for i in range(len(c)):\n",
        "    c[i] = a[i] + b[i]\n",
        "\n",
        "print(c)"
      ]
    },
    {
      "cell_type": "code",
      "execution_count": null,
      "metadata": {
        "id": "MZoBfYQ6WJ20"
      },
      "outputs": [],
      "source": [
        "def jumlah(a,b):\n",
        "    c = [0] * len(a)\n",
        "    for i in range(len(c)):\n",
        "        c[i] = a[i] + b[i]\n",
        "    return c"
      ]
    },
    {
      "cell_type": "code",
      "execution_count": null,
      "metadata": {
        "id": "IfqjdsS2WJ20"
      },
      "outputs": [],
      "source": [
        "# import numpy\n",
        "import numpy as np"
      ]
    },
    {
      "cell_type": "code",
      "execution_count": null,
      "metadata": {
        "id": "P4sBHLVZWJ21",
        "outputId": "8c62103f-ae43-4eb1-95c1-e6af354533c1"
      },
      "outputs": [
        {
          "name": "stdout",
          "output_type": "stream",
          "text": [
            "[5 7 9]\n"
          ]
        }
      ],
      "source": [
        "# Mendefinisikan vektor dengan numpy\n",
        "a = [1, 2, 3]\n",
        "np_a = np.array(a)\n",
        "b = [4, 5, 6]\n",
        "np_b = np.array(b)\n",
        "\n",
        "# penjumlahan vektor dengan numpy\n",
        "print(np_a + np_b)"
      ]
    },
    {
      "cell_type": "markdown",
      "metadata": {
        "id": "9eLMm5GBWJ21"
      },
      "source": [
        "## Perbandingan Performa"
      ]
    },
    {
      "cell_type": "code",
      "execution_count": null,
      "metadata": {
        "id": "rV_ULb8DWJ22"
      },
      "outputs": [],
      "source": [
        "a = range(10000)\n",
        "b = range(10000)\n",
        "\n",
        "np_a = np.array(a)\n",
        "np_b = np.array(b)"
      ]
    },
    {
      "cell_type": "code",
      "execution_count": null,
      "metadata": {
        "id": "EnTMObXkWJ22",
        "outputId": "175c9877-9b2a-48bf-cc17-7e575f4d35d4"
      },
      "outputs": [
        {
          "name": "stdout",
          "output_type": "stream",
          "text": [
            "1.2 ms ± 28.4 µs per loop (mean ± std. dev. of 7 runs, 1,000 loops each)\n"
          ]
        }
      ],
      "source": [
        "%timeit jumlah(a,b)"
      ]
    },
    {
      "cell_type": "code",
      "execution_count": null,
      "metadata": {
        "id": "kiIFi8XWWJ23",
        "outputId": "193da0bc-1307-4a76-b6e6-4a63794bb56d"
      },
      "outputs": [
        {
          "name": "stdout",
          "output_type": "stream",
          "text": [
            "2.73 µs ± 55.8 ns per loop (mean ± std. dev. of 7 runs, 100,000 loops each)\n"
          ]
        }
      ],
      "source": [
        "%timeit np_a + np_b"
      ]
    },
    {
      "cell_type": "markdown",
      "metadata": {
        "id": "XRACCJBOWJ23"
      },
      "source": [
        "## Array"
      ]
    },
    {
      "cell_type": "code",
      "execution_count": null,
      "metadata": {
        "id": "hXZDGNZpWJ23",
        "outputId": "a2d0067e-3424-4f38-c621-0ffeb88336d4"
      },
      "outputs": [
        {
          "name": "stdout",
          "output_type": "stream",
          "text": [
            "(3,)\n",
            "(2, 2)\n",
            "(2, 2, 2)\n"
          ]
        }
      ],
      "source": [
        "# 1D array (vector)\n",
        "a = [1, 2, 3]\n",
        "np_a = np.array(a)\n",
        "\n",
        "# 2D array (matrix)\n",
        "A = [[1, 2], [3, 4]]\n",
        "np_A = np.array(A)\n",
        "\n",
        "# nD array (tensor)\n",
        "T = [[[1, 2], [3, 4]], [[5, 6], [7, 8]]]\n",
        "np_T = np.array(T)\n",
        "\n",
        "\n",
        "print(np_a.shape)\n",
        "print(np_A.shape)\n",
        "print(np_T.shape)"
      ]
    },
    {
      "cell_type": "markdown",
      "metadata": {
        "id": "3KUW1GVcWJ24"
      },
      "source": [
        "## Operasi vektor"
      ]
    },
    {
      "cell_type": "code",
      "execution_count": null,
      "metadata": {
        "id": "_ePdkD3nWJ24",
        "outputId": "d2ede267-fb3c-4f62-a9e6-e03d77d81ec7"
      },
      "outputs": [
        {
          "name": "stdout",
          "output_type": "stream",
          "text": [
            "penjumlahan:  [5 7 9]\n",
            "pengurangan:  [-3 -3 -3]\n",
            "perkalian:  [ 4 10 18]\n",
            "pembagian:  [0.25 0.4  0.5 ]\n",
            "dot product: \n",
            "32\n",
            "32\n",
            "32\n",
            "cross product:  [-3  6 -3]\n"
          ]
        }
      ],
      "source": [
        "# Operasi aritmatika vektor dengan numpy\n",
        "a = [1, 2, 3]\n",
        "b = [4, 5, 6]\n",
        "\n",
        "np_a = np.array(a)\n",
        "np_b = np.array(b)\n",
        "\n",
        "# Element-wise\n",
        "print('penjumlahan: ', np_a + np_b)\n",
        "print('pengurangan: ', np_a - np_b)\n",
        "print('perkalian: ', np_a * np_b)\n",
        "print('pembagian: ', np_a / np_b)\n",
        "\n",
        "# dot product\n",
        "print('dot product: ')\n",
        "print(np.dot(np_a, np_b))\n",
        "print(np_a.dot(np_b))\n",
        "print(np_a @ np_b)\n",
        "\n",
        "# cross product\n",
        "print('cross product: ', np.cross(np_a, np_b))"
      ]
    },
    {
      "cell_type": "code",
      "execution_count": null,
      "metadata": {
        "id": "0puvkz8GWJ24",
        "outputId": "f81d636c-9455-41fc-8ed7-dd08e68136ff"
      },
      "outputs": [
        {
          "name": "stdout",
          "output_type": "stream",
          "text": [
            "Addition       :  [3 4 5]\n",
            "Substraction   :  [-1  0  1]\n",
            "Multiplication :  [2 4 6]\n",
            "Division       :  [0.5 1.  1.5]\n"
          ]
        }
      ],
      "source": [
        "# operasi vektor dengan skalar\n",
        "c = [1, 2, 3]\n",
        "vect_c = np.array(c)\n",
        "\n",
        "print('Addition       : ', vect_c + 2)\n",
        "print('Substraction   : ', vect_c - 2)\n",
        "print('Multiplication : ', vect_c * 2)\n",
        "print('Division       : ', vect_c / 2)"
      ]
    },
    {
      "cell_type": "code",
      "execution_count": null,
      "metadata": {
        "id": "YD32ts2jWJ25",
        "outputId": "55d7070a-3b06-433d-9967-167b886361fe"
      },
      "outputs": [
        {
          "name": "stdout",
          "output_type": "stream",
          "text": [
            "euclidean norm vektor a:  3.7416573867739413\n",
            "manhattan norm vektor a:  6.0\n"
          ]
        }
      ],
      "source": [
        "# norm vektor\n",
        "\n",
        "a = [1, 2, 3]\n",
        "np_a = np.array(a)\n",
        "\n",
        "print('euclidean norm vektor a: ', np.linalg.norm(np_a))\n",
        "# manhattan norm\n",
        "print('manhattan norm vektor a: ', np.linalg.norm(np_a, ord=1))"
      ]
    },
    {
      "cell_type": "markdown",
      "metadata": {
        "id": "7KJ_cCsfWJ25"
      },
      "source": [
        "## Matrix"
      ]
    },
    {
      "cell_type": "code",
      "execution_count": null,
      "metadata": {
        "id": "AefTu5JZWJ25",
        "outputId": "d81d49e7-0ad7-4e7a-877f-1ac808b230a1"
      },
      "outputs": [
        {
          "data": {
            "text/plain": [
              "array([[1, 2, 3],\n",
              "       [4, 5, 6],\n",
              "       [7, 8, 9]])"
            ]
          },
          "execution_count": 13,
          "metadata": {},
          "output_type": "execute_result"
        }
      ],
      "source": [
        "# Define a matrix\n",
        "A = [[1, 2, 3],\n",
        "     [4, 5, 6],\n",
        "     [7, 8, 9]]\n",
        "\n",
        "matrix_A = np.array(A)\n",
        "matrix_A"
      ]
    },
    {
      "cell_type": "code",
      "execution_count": null,
      "metadata": {
        "id": "WDWaBfLTWJ25",
        "outputId": "f9a62128-e748-4bcc-a110-e96966b658d4"
      },
      "outputs": [
        {
          "name": "stdout",
          "output_type": "stream",
          "text": [
            "Type :  <class 'numpy.ndarray'>\n",
            "Size :  (3, 3)\n"
          ]
        }
      ],
      "source": [
        "# Check type of the variable and matrix size\n",
        "\n",
        "print('Type : ', type(matrix_A))\n",
        "print('Size : ', matrix_A.shape)"
      ]
    },
    {
      "cell_type": "markdown",
      "metadata": {
        "id": "C93Eb-rbWJ25"
      },
      "source": [
        "## Operasi Matrix"
      ]
    },
    {
      "cell_type": "code",
      "execution_count": null,
      "metadata": {
        "id": "6P3WCgSnWJ26",
        "outputId": "f8924b53-d450-4a69-c9b3-f46fa8284e61"
      },
      "outputs": [
        {
          "name": "stdout",
          "output_type": "stream",
          "text": [
            "Addition       : \n",
            " [[3 4]\n",
            " [5 6]\n",
            " [7 8]]\n",
            "\n",
            "Substraction   : \n",
            " [[-1  0]\n",
            " [ 1  2]\n",
            " [ 3  4]]\n",
            "\n",
            "Multiplication : \n",
            " [[ 2  4]\n",
            " [ 6  8]\n",
            " [10 12]]\n",
            "\n",
            "Division       : \n",
            " [[0.5 1. ]\n",
            " [1.5 2. ]\n",
            " [2.5 3. ]]\n",
            "\n"
          ]
        }
      ],
      "source": [
        "# Arithmetic operations with a scalar (addition, substraction, multiplication, and division)\n",
        "\n",
        "B = [[1, 2],\n",
        "     [3, 4],\n",
        "     [5, 6]]\n",
        "\n",
        "matrix_B = np.array(B)\n",
        "\n",
        "print('Addition       : \\n', matrix_B + 2)\n",
        "print('')\n",
        "\n",
        "print('Substraction   : \\n', matrix_B - 2)\n",
        "print('')\n",
        "\n",
        "print('Multiplication : \\n', matrix_B * 2)\n",
        "print('')\n",
        "\n",
        "print('Division       : \\n', matrix_B / 2)\n",
        "print('')"
      ]
    },
    {
      "cell_type": "code",
      "execution_count": null,
      "metadata": {
        "id": "m6HzlvY6WJ26",
        "outputId": "3c928632-c123-4353-9f05-f3a0b9016d43"
      },
      "outputs": [
        {
          "name": "stdout",
          "output_type": "stream",
          "text": [
            "Addition     : \n",
            " [[ 8 10]\n",
            " [12 14]\n",
            " [16 18]]\n",
            "\n",
            "Substraction : \n",
            " [[-6 -6]\n",
            " [-6 -6]\n",
            " [-6 -6]]\n",
            "\n",
            "Division     : \n",
            " [[0.14285714 0.25      ]\n",
            " [0.33333333 0.4       ]\n",
            " [0.45454545 0.5       ]]\n",
            "\n",
            "Multiplication (element-wise) : \n",
            " [[ 7 16]\n",
            " [27 40]\n",
            " [55 72]]\n",
            "\n"
          ]
        }
      ],
      "source": [
        "# Arithmetic operations between matrices (addition, substraction, multiplication, and division)\n",
        "\n",
        "C = [[1, 2],\n",
        "     [3, 4],\n",
        "     [5, 6]]\n",
        "\n",
        "matrix_C = np.array(C)\n",
        "\n",
        "D = [[7, 8],\n",
        "     [9, 10],\n",
        "     [11, 12]]\n",
        "matrix_D = np.array(D)\n",
        "\n",
        "print('Addition     : \\n', matrix_C + matrix_D)\n",
        "print('')\n",
        "\n",
        "print('Substraction : \\n', matrix_C - matrix_D)\n",
        "print('')\n",
        "\n",
        "print('Division     : \\n', matrix_C / matrix_D)\n",
        "print('')\n",
        "\n",
        "print('Multiplication (element-wise) : \\n', matrix_C * matrix_D)\n",
        "print('')"
      ]
    },
    {
      "cell_type": "code",
      "execution_count": null,
      "metadata": {
        "id": "0OM8KhGXWJ26",
        "outputId": "e8155e56-3808-4d63-9c72-660649f5ccea"
      },
      "outputs": [
        {
          "name": "stdout",
          "output_type": "stream",
          "text": [
            "Multiplication (dot product)\n",
            "Syntax 1 : \n",
            " [[ 7 10]\n",
            " [15 22]\n",
            " [23 34]]\n",
            "\n",
            "Syntax 2 : \n",
            " [[ 7 10]\n",
            " [15 22]\n",
            " [23 34]]\n",
            "\n",
            "Syntax 3 : \n",
            " [[ 7 10]\n",
            " [15 22]\n",
            " [23 34]]\n",
            "\n"
          ]
        }
      ],
      "source": [
        "# Multiplication (dot product) between matrices\n",
        "\n",
        "E = [[1, 2],\n",
        "     [3, 4],\n",
        "     [5, 6]]\n",
        "\n",
        "F = [[1, 2],\n",
        "     [3, 4]]\n",
        "\n",
        "matrix_E = np.array(E)\n",
        "matrix_F = np.array(F)\n",
        "\n",
        "print('Multiplication (dot product)')\n",
        "\n",
        "print('Syntax 1 : \\n', matrix_E @ matrix_F)\n",
        "print('')\n",
        "\n",
        "print('Syntax 2 : \\n', matrix_E.dot(matrix_F))\n",
        "print('')\n",
        "\n",
        "print('Syntax 3 : \\n', np.dot(matrix_E, matrix_F))\n",
        "print('')"
      ]
    },
    {
      "cell_type": "code",
      "execution_count": null,
      "metadata": {
        "id": "w12JxZUCWJ26",
        "outputId": "0bfa2413-2da7-4091-fe19-964fcb648e50"
      },
      "outputs": [
        {
          "name": "stdout",
          "output_type": "stream",
          "text": [
            "Original matrix : \n",
            " [[1 2 3]\n",
            " [4 5 6]\n",
            " [7 8 9]]\n",
            "\n",
            "Identity matrix : \n",
            " [[1. 0. 0.]\n",
            " [0. 1. 0.]\n",
            " [0. 0. 1.]]\n",
            "\n",
            "Multiplication result : \n",
            " [[1. 2. 3.]\n",
            " [4. 5. 6.]\n",
            " [7. 8. 9.]]\n"
          ]
        }
      ],
      "source": [
        "# Multiplication between a matrix and an identity matrix\n",
        "\n",
        "G = [[1, 2, 3],\n",
        "     [4, 5, 6],\n",
        "     [7, 8, 9]]\n",
        "\n",
        "matrix_G = np.array(G)\n",
        "print('Original matrix : \\n', matrix_G)\n",
        "print('')\n",
        "\n",
        "matrix_I = np.eye(3, 3)\n",
        "print('Identity matrix : \\n', matrix_I)\n",
        "print('')\n",
        "\n",
        "print('Multiplication result : \\n', matrix_G @ matrix_I)"
      ]
    },
    {
      "cell_type": "markdown",
      "metadata": {
        "id": "JYj4Gs99WJ26"
      },
      "source": [
        "## Tipe Matrix"
      ]
    },
    {
      "cell_type": "code",
      "execution_count": null,
      "metadata": {
        "id": "YhUN5pmoWJ26",
        "outputId": "dbba98a3-5d79-4bb3-f722-b4f023cb482a"
      },
      "outputs": [
        {
          "name": "stdout",
          "output_type": "stream",
          "text": [
            "Upper triangular matrix : \n",
            " [[1 2 3]\n",
            " [0 5 6]\n",
            " [0 0 9]]\n",
            "\n",
            "Lower triangular matrix : \n",
            " [[1 0 0]\n",
            " [4 5 0]\n",
            " [7 8 9]]\n",
            "\n",
            "Diagonal matrix         : \n",
            " [1 5 9]\n",
            "\n",
            "Identity matrix (3,3)   : \n",
            " [[1. 0. 0.]\n",
            " [0. 1. 0.]\n",
            " [0. 0. 1.]]\n",
            "\n"
          ]
        }
      ],
      "source": [
        "# Type of matrix\n",
        "\n",
        "print('Upper triangular matrix : \\n', np.triu(matrix_A))\n",
        "print('')\n",
        "\n",
        "print('Lower triangular matrix : \\n', np.tril(matrix_A))\n",
        "print('')\n",
        "\n",
        "print('Diagonal matrix         : \\n', np.diag(matrix_A))\n",
        "print('')\n",
        "\n",
        "print('Identity matrix (3,3)   : \\n', np.eye(3, 3))\n",
        "print('')"
      ]
    },
    {
      "cell_type": "markdown",
      "metadata": {
        "id": "vfRJ0b_IWJ27"
      },
      "source": [
        "## Transpose & Determinant"
      ]
    },
    {
      "cell_type": "code",
      "execution_count": null,
      "metadata": {
        "id": "yBEchizFWJ27",
        "outputId": "e1ce11c0-bd9f-43e1-f348-ca557468b2b1"
      },
      "outputs": [
        {
          "name": "stdout",
          "output_type": "stream",
          "text": [
            "Original matrix : \n",
            " [[1 2]\n",
            " [3 4]\n",
            " [5 6]]\n",
            "\n",
            "Transpose matrix : \n",
            " [[1 3 5]\n",
            " [2 4 6]]\n",
            "\n"
          ]
        }
      ],
      "source": [
        "# Transpose of a matrix\n",
        "\n",
        "H = [[1, 2],\n",
        "     [3, 4],\n",
        "     [5, 6]]\n",
        "\n",
        "matrix_H = np.array(H)\n",
        "\n",
        "print('Original matrix : \\n', matrix_H)\n",
        "print('')\n",
        "\n",
        "print('Transpose matrix : \\n', matrix_H.T)\n",
        "print('')"
      ]
    },
    {
      "cell_type": "code",
      "execution_count": null,
      "metadata": {
        "id": "3oCJR5WrWJ28",
        "outputId": "86e53f7e-1fc5-4604-cd79-84684754f2cf"
      },
      "outputs": [
        {
          "name": "stdout",
          "output_type": "stream",
          "text": [
            "Determinant of matrix_H :  -2.0000000000000004\n",
            "Determinant of matrix_J :  -26.99999999999998\n"
          ]
        }
      ],
      "source": [
        "# Determinant of a matrix\n",
        "\n",
        "J = [[1, 2],\n",
        "     [3, 4]]\n",
        "\n",
        "K = [[10, 2, 3],\n",
        "     [4, 5, 6],\n",
        "     [7, 8, 9]]\n",
        "\n",
        "matrix_J = np.array(J)\n",
        "matrix_K = np.array(K)\n",
        "\n",
        "print('Determinant of matrix_H : ', np.linalg.det(matrix_J))\n",
        "print('Determinant of matrix_J : ', np.linalg.det(matrix_K))"
      ]
    },
    {
      "cell_type": "markdown",
      "metadata": {
        "id": "Zl1Z8PbgWJ28"
      },
      "source": [
        "## Inverse"
      ]
    },
    {
      "cell_type": "code",
      "execution_count": null,
      "metadata": {
        "id": "KIRPXHNxWJ28",
        "outputId": "fed2778a-abeb-41e4-e868-6cd664d966ef"
      },
      "outputs": [
        {
          "name": "stdout",
          "output_type": "stream",
          "text": [
            "Original matrix : \n",
            " [[1 2]\n",
            " [3 4]]\n",
            "\n",
            "Inverse matrix  : \n",
            " [[-2.   1. ]\n",
            " [ 1.5 -0.5]]\n",
            "\n",
            "Multiplication between a matrix and its inverse : \n",
            " [[1.0000000e+00 0.0000000e+00]\n",
            " [8.8817842e-16 1.0000000e+00]]\n"
          ]
        }
      ],
      "source": [
        "# Inverse of matrix\n",
        "\n",
        "L = [[1, 2],\n",
        "     [3, 4]]\n",
        "\n",
        "matrix_L = np.array(L)\n",
        "inverse_matrix_L = np.linalg.inv(matrix_L)\n",
        "\n",
        "print('Original matrix : \\n', matrix_L)\n",
        "print('')\n",
        "\n",
        "print('Inverse matrix  : \\n', inverse_matrix_L)\n",
        "print('')\n",
        "\n",
        "print('Multiplication between a matrix and its inverse : \\n', matrix_L @ inverse_matrix_L)"
      ]
    },
    {
      "cell_type": "markdown",
      "metadata": {
        "id": "X4CSQV1TWJ28"
      },
      "source": [
        "## Slicing & Indexing"
      ]
    },
    {
      "cell_type": "markdown",
      "metadata": {
        "id": "8vTCIEk_WJ29"
      },
      "source": [
        "## Studi Kasus"
      ]
    },
    {
      "cell_type": "code",
      "execution_count": null,
      "metadata": {
        "id": "FAmhR_MBWJ29"
      },
      "outputs": [],
      "source": [
        "# dosen dgn 50 mhs\n",
        "# tugas, praktikum, UTS, UAS\n",
        "\n",
        "# nilai akhir = 10%(nilai tugas) + 15%(nilai praktikum) + 35%(nilai UTS) + 40%(nilai UAS)\n",
        "\n",
        "nilai_tugas = np.random.normal(70, 10, 50)\n",
        "nilai_praktikum = np.random.normal(80, 5, 50)\n",
        "nilai_uts = np.random.normal(75, 7, 50)\n",
        "nilai_uas = np.random.normal(85, 3, 50)\n",
        "absen = np.array(range(1,51))"
      ]
    },
    {
      "cell_type": "code",
      "execution_count": null,
      "metadata": {
        "id": "2zPNKl-TWJ2-",
        "outputId": "4e683465-5a5c-49c7-a500-9a5ef279d4e8"
      },
      "outputs": [
        {
          "data": {
            "text/plain": [
              "array([ 1,  2,  3,  4,  5,  6,  7,  8,  9, 10, 11, 12, 13, 14, 15, 16, 17,\n",
              "       18, 19, 20, 21, 22, 23, 24, 25, 26, 27, 28, 29, 30, 31, 32, 33, 34,\n",
              "       35, 36, 37, 38, 39, 40, 41, 42, 43, 44, 45, 46, 47, 48, 49, 50])"
            ]
          },
          "execution_count": 24,
          "metadata": {},
          "output_type": "execute_result"
        }
      ],
      "source": [
        "absen"
      ]
    },
    {
      "cell_type": "code",
      "execution_count": null,
      "metadata": {
        "id": "rFYw3CEiWJ2-"
      },
      "outputs": [],
      "source": []
    }
  ],
  "metadata": {
    "kernelspec": {
      "display_name": "data_science",
      "language": "python",
      "name": "python3"
    },
    "language_info": {
      "codemirror_mode": {
        "name": "ipython",
        "version": 3
      },
      "file_extension": ".py",
      "mimetype": "text/x-python",
      "name": "python",
      "nbconvert_exporter": "python",
      "pygments_lexer": "ipython3",
      "version": "3.9.18"
    },
    "colab": {
      "provenance": []
    }
  },
  "nbformat": 4,
  "nbformat_minor": 0
}