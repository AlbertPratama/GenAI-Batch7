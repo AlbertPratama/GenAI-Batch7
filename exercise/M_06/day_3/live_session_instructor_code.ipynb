{
  "cells": [
    {
      "cell_type": "markdown",
      "metadata": {
        "id": "UY5MLx-QE5KC"
      },
      "source": [
        "# Import Libraries"
      ]
    },
    {
      "cell_type": "code",
      "execution_count": null,
      "metadata": {
        "id": "-9Nqdl3ME5KE"
      },
      "outputs": [],
      "source": [
        "import pandas as pd\n",
        "import numpy as np\n",
        "\n",
        "import matplotlib.pyplot as plt\n",
        "import seaborn as sns\n",
        "\n",
        "from sklearn.model_selection import train_test_split\n",
        "from sklearn.preprocessing import StandardScaler, MinMaxScaler, OrdinalEncoder, OneHotEncoder\n",
        "from sklearn.impute import SimpleImputer, KNNImputer\n",
        "\n",
        "from sklearn.linear_model import LogisticRegression\n",
        "from sklearn.neighbors import KNeighborsClassifier\n",
        "from sklearn.tree import DecisionTreeClassifier\n",
        "from sklearn.ensemble import RandomForestClassifier, AdaBoostClassifier\n",
        "\n",
        "import phik\n",
        "\n",
        "# evaluation\n",
        "from sklearn.model_selection import cross_val_score\n",
        "from sklearn.metrics import classification_report, confusion_matrix, ConfusionMatrixDisplay\n",
        "\n",
        "# Tuning\n",
        "from sklearn.model_selection import GridSearchCV, RandomizedSearchCV\n",
        "\n",
        "# pipeline\n",
        "from sklearn.pipeline import make_pipeline, Pipeline\n",
        "from sklearn.compose import ColumnTransformer"
      ]
    },
    {
      "cell_type": "markdown",
      "metadata": {
        "id": "xUF9TkNpE5KI"
      },
      "source": [
        "# Problem Statement\n",
        "\n",
        "Melakukan pembuatan model machine learning yang dapat memprediksi apakah pengguna akan mengklik iklan atau tidak. Untuk meningkatkan strategi pengiklanan, optimalisasi penempatan iklan, dan memahami interaksi dengan iklan online. Model akan dinilai berdasarkan metrics precision untuk mengurangi kasus terprediksi akan klik padahal tidak.\n",
        "\n",
        "metrics untuk klasifikasi\n",
        "- akurasi\n",
        "- f1\n",
        "- precision *\n",
        "- recall\n",
        "\n",
        "\n",
        "- fp -> terprediksi akan klik padahal tidak\n",
        "- fn -> terprediksi tidak klik padahal klik"
      ]
    },
    {
      "cell_type": "markdown",
      "metadata": {
        "id": "TyTY75f3E5KK"
      },
      "source": [
        "# Data Loading\n",
        "The dataset contains user demographic information, browsing habits, and details related to the display of the advertisement.\n",
        "This dataset is ideal for building binary classification models to predict user interactions with online ads.\n",
        "\n",
        "Features\n",
        "\n",
        "- id: Unique identifier for each user.\n",
        "- full_name: User's name formatted as \"UserX\" for anonymity.\n",
        "- age: Age of the user (ranging from 18 to 64 years).\n",
        "- gender: The gender of the user (categorized as Male, Female, or Non-Binary).\n",
        "- device_type: The type of device used by the user when viewing the ad (Mobile, Desktop, Tablet).\n",
        "- ad_position: The position of the ad on the webpage (Top, Side, Bottom).\n",
        "- browsing_history: The user's browsing activity prior to seeing the ad (Shopping, News, Entertainment, Education, Social Media).\n",
        "- time_of_day: The time when the user viewed the ad (Morning, Afternoon, Evening, Night).\n",
        "- click: The target label indicating whether the user clicked on the ad (1 for a click, 0 for no click).\n"
      ]
    },
    {
      "cell_type": "code",
      "execution_count": null,
      "metadata": {
        "id": "SbpO6SsYE5KL",
        "outputId": "55b36df0-4dce-40ea-86bc-aff482b7d778"
      },
      "outputs": [
        {
          "data": {
            "text/html": [
              "<div>\n",
              "<style scoped>\n",
              "    .dataframe tbody tr th:only-of-type {\n",
              "        vertical-align: middle;\n",
              "    }\n",
              "\n",
              "    .dataframe tbody tr th {\n",
              "        vertical-align: top;\n",
              "    }\n",
              "\n",
              "    .dataframe thead th {\n",
              "        text-align: right;\n",
              "    }\n",
              "</style>\n",
              "<table border=\"1\" class=\"dataframe\">\n",
              "  <thead>\n",
              "    <tr style=\"text-align: right;\">\n",
              "      <th></th>\n",
              "      <th>id</th>\n",
              "      <th>full_name</th>\n",
              "      <th>age</th>\n",
              "      <th>gender</th>\n",
              "      <th>device_type</th>\n",
              "      <th>ad_position</th>\n",
              "      <th>browsing_history</th>\n",
              "      <th>time_of_day</th>\n",
              "      <th>click</th>\n",
              "    </tr>\n",
              "  </thead>\n",
              "  <tbody>\n",
              "    <tr>\n",
              "      <th>0</th>\n",
              "      <td>670</td>\n",
              "      <td>User670</td>\n",
              "      <td>22.0</td>\n",
              "      <td>NaN</td>\n",
              "      <td>Desktop</td>\n",
              "      <td>Top</td>\n",
              "      <td>Shopping</td>\n",
              "      <td>Afternoon</td>\n",
              "      <td>1</td>\n",
              "    </tr>\n",
              "    <tr>\n",
              "      <th>1</th>\n",
              "      <td>3044</td>\n",
              "      <td>User3044</td>\n",
              "      <td>NaN</td>\n",
              "      <td>Male</td>\n",
              "      <td>Desktop</td>\n",
              "      <td>Top</td>\n",
              "      <td>NaN</td>\n",
              "      <td>NaN</td>\n",
              "      <td>1</td>\n",
              "    </tr>\n",
              "    <tr>\n",
              "      <th>2</th>\n",
              "      <td>5912</td>\n",
              "      <td>User5912</td>\n",
              "      <td>41.0</td>\n",
              "      <td>Non-Binary</td>\n",
              "      <td>NaN</td>\n",
              "      <td>Side</td>\n",
              "      <td>Education</td>\n",
              "      <td>Night</td>\n",
              "      <td>1</td>\n",
              "    </tr>\n",
              "    <tr>\n",
              "      <th>3</th>\n",
              "      <td>5418</td>\n",
              "      <td>User5418</td>\n",
              "      <td>34.0</td>\n",
              "      <td>Male</td>\n",
              "      <td>NaN</td>\n",
              "      <td>NaN</td>\n",
              "      <td>Entertainment</td>\n",
              "      <td>Evening</td>\n",
              "      <td>1</td>\n",
              "    </tr>\n",
              "    <tr>\n",
              "      <th>4</th>\n",
              "      <td>9452</td>\n",
              "      <td>User9452</td>\n",
              "      <td>39.0</td>\n",
              "      <td>Non-Binary</td>\n",
              "      <td>NaN</td>\n",
              "      <td>NaN</td>\n",
              "      <td>Social Media</td>\n",
              "      <td>Morning</td>\n",
              "      <td>0</td>\n",
              "    </tr>\n",
              "    <tr>\n",
              "      <th>...</th>\n",
              "      <td>...</td>\n",
              "      <td>...</td>\n",
              "      <td>...</td>\n",
              "      <td>...</td>\n",
              "      <td>...</td>\n",
              "      <td>...</td>\n",
              "      <td>...</td>\n",
              "      <td>...</td>\n",
              "      <td>...</td>\n",
              "    </tr>\n",
              "    <tr>\n",
              "      <th>9995</th>\n",
              "      <td>8510</td>\n",
              "      <td>User8510</td>\n",
              "      <td>NaN</td>\n",
              "      <td>NaN</td>\n",
              "      <td>Mobile</td>\n",
              "      <td>Top</td>\n",
              "      <td>Education</td>\n",
              "      <td>NaN</td>\n",
              "      <td>0</td>\n",
              "    </tr>\n",
              "    <tr>\n",
              "      <th>9996</th>\n",
              "      <td>7843</td>\n",
              "      <td>User7843</td>\n",
              "      <td>NaN</td>\n",
              "      <td>Female</td>\n",
              "      <td>Desktop</td>\n",
              "      <td>Bottom</td>\n",
              "      <td>Entertainment</td>\n",
              "      <td>NaN</td>\n",
              "      <td>0</td>\n",
              "    </tr>\n",
              "    <tr>\n",
              "      <th>9997</th>\n",
              "      <td>3914</td>\n",
              "      <td>User3914</td>\n",
              "      <td>NaN</td>\n",
              "      <td>Male</td>\n",
              "      <td>Mobile</td>\n",
              "      <td>Side</td>\n",
              "      <td>NaN</td>\n",
              "      <td>Morning</td>\n",
              "      <td>0</td>\n",
              "    </tr>\n",
              "    <tr>\n",
              "      <th>9998</th>\n",
              "      <td>7924</td>\n",
              "      <td>User7924</td>\n",
              "      <td>NaN</td>\n",
              "      <td>NaN</td>\n",
              "      <td>Desktop</td>\n",
              "      <td>NaN</td>\n",
              "      <td>Shopping</td>\n",
              "      <td>Morning</td>\n",
              "      <td>1</td>\n",
              "    </tr>\n",
              "    <tr>\n",
              "      <th>9999</th>\n",
              "      <td>3056</td>\n",
              "      <td>User3056</td>\n",
              "      <td>44.0</td>\n",
              "      <td>Male</td>\n",
              "      <td>Tablet</td>\n",
              "      <td>Top</td>\n",
              "      <td>Social Media</td>\n",
              "      <td>Morning</td>\n",
              "      <td>0</td>\n",
              "    </tr>\n",
              "  </tbody>\n",
              "</table>\n",
              "<p>10000 rows × 9 columns</p>\n",
              "</div>"
            ],
            "text/plain": [
              "        id full_name   age      gender device_type ad_position  \\\n",
              "0      670   User670  22.0         NaN     Desktop         Top   \n",
              "1     3044  User3044   NaN        Male     Desktop         Top   \n",
              "2     5912  User5912  41.0  Non-Binary         NaN        Side   \n",
              "3     5418  User5418  34.0        Male         NaN         NaN   \n",
              "4     9452  User9452  39.0  Non-Binary         NaN         NaN   \n",
              "...    ...       ...   ...         ...         ...         ...   \n",
              "9995  8510  User8510   NaN         NaN      Mobile         Top   \n",
              "9996  7843  User7843   NaN      Female     Desktop      Bottom   \n",
              "9997  3914  User3914   NaN        Male      Mobile        Side   \n",
              "9998  7924  User7924   NaN         NaN     Desktop         NaN   \n",
              "9999  3056  User3056  44.0        Male      Tablet         Top   \n",
              "\n",
              "     browsing_history time_of_day  click  \n",
              "0            Shopping   Afternoon      1  \n",
              "1                 NaN         NaN      1  \n",
              "2           Education       Night      1  \n",
              "3       Entertainment     Evening      1  \n",
              "4        Social Media     Morning      0  \n",
              "...               ...         ...    ...  \n",
              "9995        Education         NaN      0  \n",
              "9996    Entertainment         NaN      0  \n",
              "9997              NaN     Morning      0  \n",
              "9998         Shopping     Morning      1  \n",
              "9999     Social Media     Morning      0  \n",
              "\n",
              "[10000 rows x 9 columns]"
            ]
          },
          "execution_count": 2,
          "metadata": {},
          "output_type": "execute_result"
        }
      ],
      "source": [
        "df = pd.read_csv('ad_click_dataset.csv')\n",
        "df"
      ]
    },
    {
      "cell_type": "code",
      "execution_count": null,
      "metadata": {
        "id": "wrDD547IE5KL",
        "outputId": "2957df08-772e-4b1e-c950-26eb52258060"
      },
      "outputs": [
        {
          "name": "stdout",
          "output_type": "stream",
          "text": [
            "<class 'pandas.core.frame.DataFrame'>\n",
            "RangeIndex: 10000 entries, 0 to 9999\n",
            "Data columns (total 9 columns):\n",
            " #   Column            Non-Null Count  Dtype  \n",
            "---  ------            --------------  -----  \n",
            " 0   id                10000 non-null  int64  \n",
            " 1   full_name         10000 non-null  object \n",
            " 2   age               5234 non-null   float64\n",
            " 3   gender            5307 non-null   object \n",
            " 4   device_type       8000 non-null   object \n",
            " 5   ad_position       8000 non-null   object \n",
            " 6   browsing_history  5218 non-null   object \n",
            " 7   time_of_day       8000 non-null   object \n",
            " 8   click             10000 non-null  int64  \n",
            "dtypes: float64(1), int64(2), object(6)\n",
            "memory usage: 703.2+ KB\n"
          ]
        }
      ],
      "source": [
        "df.info()"
      ]
    },
    {
      "cell_type": "markdown",
      "metadata": {
        "id": "8Z3Y2C96E5KN"
      },
      "source": [
        "Terdapat missing value dengan jumlah yang signifikan."
      ]
    },
    {
      "cell_type": "code",
      "execution_count": null,
      "metadata": {
        "id": "aQnkkIFcE5KT",
        "outputId": "d0f3a857-956c-466d-b5c6-1b1cc39f4ac5"
      },
      "outputs": [
        {
          "data": {
            "text/plain": [
              "2853"
            ]
          },
          "execution_count": 4,
          "metadata": {},
          "output_type": "execute_result"
        }
      ],
      "source": [
        "df.duplicated().sum()"
      ]
    },
    {
      "cell_type": "code",
      "execution_count": null,
      "metadata": {
        "id": "sdDbrm_FE5KV"
      },
      "outputs": [],
      "source": [
        "df.drop_duplicates(inplace=True)"
      ]
    },
    {
      "cell_type": "code",
      "execution_count": null,
      "metadata": {
        "id": "MrQqI8faE5KW",
        "outputId": "4665799c-f1ab-47e8-c2c7-3b49c9da7cba"
      },
      "outputs": [
        {
          "name": "stdout",
          "output_type": "stream",
          "text": [
            "<class 'pandas.core.frame.DataFrame'>\n",
            "Index: 7147 entries, 0 to 9999\n",
            "Data columns (total 9 columns):\n",
            " #   Column            Non-Null Count  Dtype  \n",
            "---  ------            --------------  -----  \n",
            " 0   id                7147 non-null   int64  \n",
            " 1   full_name         7147 non-null   object \n",
            " 2   age               3671 non-null   float64\n",
            " 3   gender            3747 non-null   object \n",
            " 4   device_type       5419 non-null   object \n",
            " 5   ad_position       5404 non-null   object \n",
            " 6   browsing_history  3667 non-null   object \n",
            " 7   time_of_day       5435 non-null   object \n",
            " 8   click             7147 non-null   int64  \n",
            "dtypes: float64(1), int64(2), object(6)\n",
            "memory usage: 558.4+ KB\n"
          ]
        }
      ],
      "source": [
        "df.info()"
      ]
    },
    {
      "cell_type": "markdown",
      "metadata": {
        "id": "0T9Hal1kE5KY"
      },
      "source": [
        "# Exploratory Data Analysis"
      ]
    },
    {
      "cell_type": "code",
      "execution_count": null,
      "metadata": {
        "id": "dPLWINGrE5KZ",
        "outputId": "a41e23ea-45a7-4144-803d-4b5474dda4b6"
      },
      "outputs": [
        {
          "data": {
            "text/plain": [
              "<Axes: xlabel='age', ylabel='Count'>"
            ]
          },
          "execution_count": 7,
          "metadata": {},
          "output_type": "execute_result"
        },
        {
          "data": {
            "image/png": "[encoded data removed]",
            "text/plain": [
              "<Figure size 1000x600 with 1 Axes>"
            ]
          },
          "metadata": {},
          "output_type": "display_data"
        }
      ],
      "source": [
        "# age distribution based on wether they click the ads or not\n",
        "plt.figure(figsize=(10, 6))\n",
        "sns.histplot(data=df, x='age', hue='click', bins=30, kde=True)"
      ]
    },
    {
      "cell_type": "markdown",
      "metadata": {
        "id": "4Ff2FdqOE5KZ"
      },
      "source": [
        "Tidak ada perbedaan yang signifikan untuk usia antara visitor yang klik iklan dengan yang tidak, namun dapat dilihat untuk visitor dengan usia 20 - 40 lebih cenderung untuk klik iklan."
      ]
    },
    {
      "cell_type": "code",
      "execution_count": null,
      "metadata": {
        "id": "xzUpcMxaE5Ka",
        "outputId": "5eb268d3-36db-4112-df34-5d83c4965401"
      },
      "outputs": [
        {
          "data": {
            "text/plain": [
              "<Axes: xlabel='ad_position', ylabel='count'>"
            ]
          },
          "execution_count": 8,
          "metadata": {},
          "output_type": "execute_result"
        },
        {
          "data": {
            "image/png": "[encoded data removed]",
            "text/plain": [
              "<Figure size 1000x600 with 1 Axes>"
            ]
          },
          "metadata": {},
          "output_type": "display_data"
        }
      ],
      "source": [
        "# barplot of ad position based on wether they click the ads or not\n",
        "plt.figure(figsize=(10, 6))\n",
        "sns.countplot(data=df, x='ad_position', hue='click')"
      ]
    },
    {
      "cell_type": "markdown",
      "metadata": {
        "id": "UEgCCcoLE5Kb"
      },
      "source": [
        "Tidak ada perbedaan yang begitu signifikan namun dapat dilihat visito cenderung lebih banyak klik iklan di penempatan `bottom`"
      ]
    },
    {
      "cell_type": "code",
      "execution_count": null,
      "metadata": {
        "id": "hr6OJggnE5Kb",
        "outputId": "7cd79f32-8095-452d-f749-6e3bcd2f89cf"
      },
      "outputs": [
        {
          "data": {
            "image/png": "[encoded data removed]",
            "text/plain": [
              "<Figure size 1000x600 with 1 Axes>"
            ]
          },
          "metadata": {},
          "output_type": "display_data"
        },
        {
          "data": {
            "image/png": "[encoded data removed]",
            "text/plain": [
              "<Figure size 1000x600 with 1 Axes>"
            ]
          },
          "metadata": {},
          "output_type": "display_data"
        },
        {
          "data": {
            "image/png": "[encoded data removed]",
            "text/plain": [
              "<Figure size 1000x600 with 1 Axes>"
            ]
          },
          "metadata": {},
          "output_type": "display_data"
        },
        {
          "data": {
            "image/png": "[encoded data removed]",
            "text/plain": [
              "<Figure size 1000x600 with 1 Axes>"
            ]
          },
          "metadata": {},
          "output_type": "display_data"
        },
        {
          "data": {
            "image/png": "[encoded data removed]",
            "text/plain": [
              "<Figure size 1000x600 with 1 Axes>"
            ]
          },
          "metadata": {},
          "output_type": "display_data"
        }
      ],
      "source": [
        "for i in df.select_dtypes('object').columns:\n",
        "    if i != 'full_name':\n",
        "        plt.figure(figsize=(10, 6))\n",
        "        sns.countplot(data=df, x=i, hue='click')\n",
        "        plt.title(i)\n",
        "        plt.show()\n"
      ]
    },
    {
      "cell_type": "code",
      "execution_count": null,
      "metadata": {
        "id": "25XhJQzEE5Kc",
        "outputId": "37c1eb92-24ec-4902-be50-dbf2b7ceccd1"
      },
      "outputs": [
        {
          "data": {
            "text/html": [
              "<div>\n",
              "<style scoped>\n",
              "    .dataframe tbody tr th:only-of-type {\n",
              "        vertical-align: middle;\n",
              "    }\n",
              "\n",
              "    .dataframe tbody tr th {\n",
              "        vertical-align: top;\n",
              "    }\n",
              "\n",
              "    .dataframe thead th {\n",
              "        text-align: right;\n",
              "    }\n",
              "</style>\n",
              "<table border=\"1\" class=\"dataframe\">\n",
              "  <thead>\n",
              "    <tr style=\"text-align: right;\">\n",
              "      <th></th>\n",
              "      <th>age</th>\n",
              "      <th>gender</th>\n",
              "      <th>device_type</th>\n",
              "      <th>ad_position</th>\n",
              "      <th>browsing_history</th>\n",
              "      <th>time_of_day</th>\n",
              "      <th>click</th>\n",
              "    </tr>\n",
              "  </thead>\n",
              "  <tbody>\n",
              "    <tr>\n",
              "      <th>age</th>\n",
              "      <td>1.000000</td>\n",
              "      <td>0.161269</td>\n",
              "      <td>0.082407</td>\n",
              "      <td>0.131456</td>\n",
              "      <td>0.260083</td>\n",
              "      <td>0.092209</td>\n",
              "      <td>0.167283</td>\n",
              "    </tr>\n",
              "    <tr>\n",
              "      <th>gender</th>\n",
              "      <td>0.161269</td>\n",
              "      <td>1.000000</td>\n",
              "      <td>0.113159</td>\n",
              "      <td>0.082392</td>\n",
              "      <td>0.072692</td>\n",
              "      <td>0.038745</td>\n",
              "      <td>0.002085</td>\n",
              "    </tr>\n",
              "    <tr>\n",
              "      <th>device_type</th>\n",
              "      <td>0.082407</td>\n",
              "      <td>0.113159</td>\n",
              "      <td>1.000000</td>\n",
              "      <td>0.084955</td>\n",
              "      <td>0.095959</td>\n",
              "      <td>0.033903</td>\n",
              "      <td>0.011050</td>\n",
              "    </tr>\n",
              "    <tr>\n",
              "      <th>ad_position</th>\n",
              "      <td>0.131456</td>\n",
              "      <td>0.082392</td>\n",
              "      <td>0.084955</td>\n",
              "      <td>1.000000</td>\n",
              "      <td>0.078897</td>\n",
              "      <td>0.000000</td>\n",
              "      <td>0.039303</td>\n",
              "    </tr>\n",
              "    <tr>\n",
              "      <th>browsing_history</th>\n",
              "      <td>0.260083</td>\n",
              "      <td>0.072692</td>\n",
              "      <td>0.095959</td>\n",
              "      <td>0.078897</td>\n",
              "      <td>1.000000</td>\n",
              "      <td>0.038073</td>\n",
              "      <td>0.052428</td>\n",
              "    </tr>\n",
              "    <tr>\n",
              "      <th>time_of_day</th>\n",
              "      <td>0.092209</td>\n",
              "      <td>0.038745</td>\n",
              "      <td>0.033903</td>\n",
              "      <td>0.000000</td>\n",
              "      <td>0.038073</td>\n",
              "      <td>1.000000</td>\n",
              "      <td>0.081994</td>\n",
              "    </tr>\n",
              "    <tr>\n",
              "      <th>click</th>\n",
              "      <td>0.167283</td>\n",
              "      <td>0.002085</td>\n",
              "      <td>0.011050</td>\n",
              "      <td>0.039303</td>\n",
              "      <td>0.052428</td>\n",
              "      <td>0.081994</td>\n",
              "      <td>1.000000</td>\n",
              "    </tr>\n",
              "  </tbody>\n",
              "</table>\n",
              "</div>"
            ],
            "text/plain": [
              "                       age    gender  device_type  ad_position  \\\n",
              "age               1.000000  0.161269     0.082407     0.131456   \n",
              "gender            0.161269  1.000000     0.113159     0.082392   \n",
              "device_type       0.082407  0.113159     1.000000     0.084955   \n",
              "ad_position       0.131456  0.082392     0.084955     1.000000   \n",
              "browsing_history  0.260083  0.072692     0.095959     0.078897   \n",
              "time_of_day       0.092209  0.038745     0.033903     0.000000   \n",
              "click             0.167283  0.002085     0.011050     0.039303   \n",
              "\n",
              "                  browsing_history  time_of_day     click  \n",
              "age                       0.260083     0.092209  0.167283  \n",
              "gender                    0.072692     0.038745  0.002085  \n",
              "device_type               0.095959     0.033903  0.011050  \n",
              "ad_position               0.078897     0.000000  0.039303  \n",
              "browsing_history          1.000000     0.038073  0.052428  \n",
              "time_of_day               0.038073     1.000000  0.081994  \n",
              "click                     0.052428     0.081994  1.000000  "
            ]
          },
          "execution_count": 10,
          "metadata": {},
          "output_type": "execute_result"
        }
      ],
      "source": [
        "# correlation matrix\n",
        "phik_overview = df.drop(['id', 'full_name'], axis=1).phik_matrix(interval_cols=['age'])\n",
        "phik_overview"
      ]
    },
    {
      "cell_type": "markdown",
      "metadata": {
        "id": "pd7H6oOJE5Kd"
      },
      "source": [
        "Dari semua fitur tidak ada yang memiliki korelasi signifikan terhadap click. Yang memiliki efek terbesar adalah age dengan nilai korelasi `0.16`"
      ]
    },
    {
      "cell_type": "markdown",
      "metadata": {
        "id": "xgW04AmmE5Ke"
      },
      "source": [
        "# Feature Engineering"
      ]
    },
    {
      "cell_type": "code",
      "execution_count": null,
      "metadata": {
        "id": "_3V1MJzoE5Ke"
      },
      "outputs": [],
      "source": [
        "# Pilih yang mana fitur dan yang mana target\n",
        "X = df.drop(['id', 'full_name', 'click'], axis=1)\n",
        "y = df['click']"
      ]
    },
    {
      "cell_type": "code",
      "execution_count": null,
      "metadata": {
        "id": "74D1L5DiE5Ke"
      },
      "outputs": [],
      "source": [
        "# split train dan test\n",
        "X_train, X_test, y_train, y_test = train_test_split(X, y,\n",
        "                                                    test_size=0.2,\n",
        "                                                    stratify= y,\n",
        "                                                    random_state=42)"
      ]
    },
    {
      "cell_type": "code",
      "execution_count": null,
      "metadata": {
        "id": "XO5fO3DME5Kf",
        "outputId": "41628491-35e5-438d-bdab-7285b7ba3753"
      },
      "outputs": [
        {
          "name": "stdout",
          "output_type": "stream",
          "text": [
            "(5717, 6)\n",
            "(1430, 6)\n",
            "(5717,)\n",
            "(1430,)\n"
          ]
        }
      ],
      "source": [
        "print(X_train.shape)\n",
        "print(X_test.shape)\n",
        "print(y_train.shape)\n",
        "print(y_test.shape)"
      ]
    },
    {
      "cell_type": "code",
      "execution_count": null,
      "metadata": {
        "id": "Zm9MMwboE5Kg",
        "outputId": "f49af221-5cba-4bc1-f4f3-39688a517ef9"
      },
      "outputs": [
        {
          "data": {
            "text/plain": [
              "click\n",
              "1    0.510233\n",
              "0    0.489767\n",
              "Name: proportion, dtype: float64"
            ]
          },
          "execution_count": 14,
          "metadata": {},
          "output_type": "execute_result"
        }
      ],
      "source": [
        "y_train.value_counts(normalize=True)"
      ]
    },
    {
      "cell_type": "markdown",
      "metadata": {
        "id": "a9k6rlRrE5Kg"
      },
      "source": [
        "target class balanced"
      ]
    },
    {
      "cell_type": "markdown",
      "metadata": {
        "id": "IuhaSoJ9E5Kh"
      },
      "source": [
        "## Missing Values"
      ]
    },
    {
      "cell_type": "code",
      "execution_count": null,
      "metadata": {
        "id": "-wghaW6vE5Kh",
        "outputId": "f3dff7d0-4807-4baa-e76d-c4472222788c"
      },
      "outputs": [
        {
          "data": {
            "text/html": [
              "<div>\n",
              "<style scoped>\n",
              "    .dataframe tbody tr th:only-of-type {\n",
              "        vertical-align: middle;\n",
              "    }\n",
              "\n",
              "    .dataframe tbody tr th {\n",
              "        vertical-align: top;\n",
              "    }\n",
              "\n",
              "    .dataframe thead th {\n",
              "        text-align: right;\n",
              "    }\n",
              "</style>\n",
              "<table border=\"1\" class=\"dataframe\">\n",
              "  <thead>\n",
              "    <tr style=\"text-align: right;\">\n",
              "      <th></th>\n",
              "      <th>age</th>\n",
              "      <th>gender</th>\n",
              "      <th>device_type</th>\n",
              "      <th>ad_position</th>\n",
              "      <th>browsing_history</th>\n",
              "      <th>time_of_day</th>\n",
              "    </tr>\n",
              "  </thead>\n",
              "  <tbody>\n",
              "    <tr>\n",
              "      <th>4377</th>\n",
              "      <td>42.0</td>\n",
              "      <td>NaN</td>\n",
              "      <td>Desktop</td>\n",
              "      <td>Side</td>\n",
              "      <td>Shopping</td>\n",
              "      <td>Night</td>\n",
              "    </tr>\n",
              "    <tr>\n",
              "      <th>6478</th>\n",
              "      <td>53.0</td>\n",
              "      <td>Male</td>\n",
              "      <td>Tablet</td>\n",
              "      <td>Bottom</td>\n",
              "      <td>Education</td>\n",
              "      <td>Night</td>\n",
              "    </tr>\n",
              "    <tr>\n",
              "      <th>3376</th>\n",
              "      <td>NaN</td>\n",
              "      <td>Female</td>\n",
              "      <td>Desktop</td>\n",
              "      <td>Bottom</td>\n",
              "      <td>Shopping</td>\n",
              "      <td>NaN</td>\n",
              "    </tr>\n",
              "    <tr>\n",
              "      <th>4570</th>\n",
              "      <td>32.0</td>\n",
              "      <td>NaN</td>\n",
              "      <td>Mobile</td>\n",
              "      <td>Top</td>\n",
              "      <td>Education</td>\n",
              "      <td>NaN</td>\n",
              "    </tr>\n",
              "    <tr>\n",
              "      <th>3811</th>\n",
              "      <td>NaN</td>\n",
              "      <td>Non-Binary</td>\n",
              "      <td>Desktop</td>\n",
              "      <td>Bottom</td>\n",
              "      <td>NaN</td>\n",
              "      <td>NaN</td>\n",
              "    </tr>\n",
              "    <tr>\n",
              "      <th>7636</th>\n",
              "      <td>25.0</td>\n",
              "      <td>Female</td>\n",
              "      <td>Desktop</td>\n",
              "      <td>Top</td>\n",
              "      <td>NaN</td>\n",
              "      <td>Morning</td>\n",
              "    </tr>\n",
              "    <tr>\n",
              "      <th>8183</th>\n",
              "      <td>NaN</td>\n",
              "      <td>NaN</td>\n",
              "      <td>Desktop</td>\n",
              "      <td>Top</td>\n",
              "      <td>NaN</td>\n",
              "      <td>NaN</td>\n",
              "    </tr>\n",
              "    <tr>\n",
              "      <th>2375</th>\n",
              "      <td>NaN</td>\n",
              "      <td>Female</td>\n",
              "      <td>Desktop</td>\n",
              "      <td>Side</td>\n",
              "      <td>Education</td>\n",
              "      <td>NaN</td>\n",
              "    </tr>\n",
              "    <tr>\n",
              "      <th>1993</th>\n",
              "      <td>NaN</td>\n",
              "      <td>Female</td>\n",
              "      <td>NaN</td>\n",
              "      <td>Top</td>\n",
              "      <td>Entertainment</td>\n",
              "      <td>NaN</td>\n",
              "    </tr>\n",
              "    <tr>\n",
              "      <th>1745</th>\n",
              "      <td>NaN</td>\n",
              "      <td>Male</td>\n",
              "      <td>Desktop</td>\n",
              "      <td>Side</td>\n",
              "      <td>NaN</td>\n",
              "      <td>NaN</td>\n",
              "    </tr>\n",
              "  </tbody>\n",
              "</table>\n",
              "</div>"
            ],
            "text/plain": [
              "       age      gender device_type ad_position browsing_history time_of_day\n",
              "4377  42.0         NaN     Desktop        Side         Shopping       Night\n",
              "6478  53.0        Male      Tablet      Bottom        Education       Night\n",
              "3376   NaN      Female     Desktop      Bottom         Shopping         NaN\n",
              "4570  32.0         NaN      Mobile         Top        Education         NaN\n",
              "3811   NaN  Non-Binary     Desktop      Bottom              NaN         NaN\n",
              "7636  25.0      Female     Desktop         Top              NaN     Morning\n",
              "8183   NaN         NaN     Desktop         Top              NaN         NaN\n",
              "2375   NaN      Female     Desktop        Side        Education         NaN\n",
              "1993   NaN      Female         NaN         Top    Entertainment         NaN\n",
              "1745   NaN        Male     Desktop        Side              NaN         NaN"
            ]
          },
          "execution_count": 15,
          "metadata": {},
          "output_type": "execute_result"
        }
      ],
      "source": [
        "X_train.head(10)"
      ]
    },
    {
      "cell_type": "code",
      "execution_count": null,
      "metadata": {
        "id": "x2oH3gEYE5Kh",
        "outputId": "5c12940c-e94c-46bd-c994-46cbeff17e7e"
      },
      "outputs": [
        {
          "data": {
            "text/plain": [
              "age                 2748\n",
              "gender              2732\n",
              "device_type         1381\n",
              "ad_position         1396\n",
              "browsing_history    2759\n",
              "time_of_day         1372\n",
              "dtype: int64"
            ]
          },
          "execution_count": 16,
          "metadata": {},
          "output_type": "execute_result"
        }
      ],
      "source": [
        "X_train.isna().sum()"
      ]
    },
    {
      "cell_type": "markdown",
      "metadata": {
        "id": "kpEW4gu3E5Ki"
      },
      "source": [
        "Karena Missing terdapat sangat banyak missing values, kita tidak akan drop melainkan akan diisi dengan menggunakan `KNNImputer`"
      ]
    },
    {
      "cell_type": "code",
      "execution_count": null,
      "metadata": {
        "id": "rV6Gr2biE5Ki"
      },
      "outputs": [],
      "source": [
        "imputer_knn = KNNImputer(n_neighbors=5)\n",
        "imputer_simple = SimpleImputer(strategy='most_frequent')\n",
        "impute_constant = SimpleImputer(strategy='constant', fill_value='unknown')"
      ]
    },
    {
      "cell_type": "markdown",
      "metadata": {
        "id": "mKyFJbwzE5Kj"
      },
      "source": [
        "## Scaling"
      ]
    },
    {
      "cell_type": "code",
      "execution_count": null,
      "metadata": {
        "id": "DufWqt0CE5Kk"
      },
      "outputs": [],
      "source": [
        "scaler = StandardScaler()"
      ]
    },
    {
      "cell_type": "markdown",
      "metadata": {
        "id": "d6l05_5CE5Kk"
      },
      "source": [
        "## Encoding"
      ]
    },
    {
      "cell_type": "code",
      "execution_count": null,
      "metadata": {
        "id": "EnPChaIbE5Km"
      },
      "outputs": [],
      "source": [
        "nominal = ['gender', 'device_type', 'ad_position', 'browsing_history']\n",
        "ordinal = ['time_of_day']\n",
        "\n",
        "ohe = OneHotEncoder(handle_unknown='ignore', sparse_output=False)\n",
        "\n",
        "oe = OrdinalEncoder(categories=[['Morning', 'Afternoon', 'Evening', 'Night']])"
      ]
    },
    {
      "cell_type": "markdown",
      "metadata": {
        "id": "F6TXQ89BE5Km"
      },
      "source": [
        "## Preprocess Pipeline"
      ]
    },
    {
      "cell_type": "code",
      "execution_count": null,
      "metadata": {
        "id": "p5heN8N6E5Km",
        "outputId": "ca3d33af-6c1c-4476-ba1e-151cfb664fd2"
      },
      "outputs": [
        {
          "data": {
            "text/html": [
              "<style>#sk-container-id-1 {color: black;}#sk-container-id-1 pre{padding: 0;}#sk-container-id-1 div.sk-toggleable {background-color: white;}#sk-container-id-1 label.sk-toggleable__label {cursor: pointer;display: block;width: 100%;margin-bottom: 0;padding: 0.3em;box-sizing: border-box;text-align: center;}#sk-container-id-1 label.sk-toggleable__label-arrow:before {content: \"▸\";float: left;margin-right: 0.25em;color: #696969;}#sk-container-id-1 label.sk-toggleable__label-arrow:hover:before {color: black;}#sk-container-id-1 div.sk-estimator:hover label.sk-toggleable__label-arrow:before {color: black;}#sk-container-id-1 div.sk-toggleable__content {max-height: 0;max-width: 0;overflow: hidden;text-align: left;background-color: #f0f8ff;}#sk-container-id-1 div.sk-toggleable__content pre {margin: 0.2em;color: black;border-radius: 0.25em;background-color: #f0f8ff;}#sk-container-id-1 input.sk-toggleable__control:checked~div.sk-toggleable__content {max-height: 200px;max-width: 100%;overflow: auto;}#sk-container-id-1 input.sk-toggleable__control:checked~label.sk-toggleable__label-arrow:before {content: \"▾\";}#sk-container-id-1 div.sk-estimator input.sk-toggleable__control:checked~label.sk-toggleable__label {background-color: #d4ebff;}#sk-container-id-1 div.sk-label input.sk-toggleable__control:checked~label.sk-toggleable__label {background-color: #d4ebff;}#sk-container-id-1 input.sk-hidden--visually {border: 0;clip: rect(1px 1px 1px 1px);clip: rect(1px, 1px, 1px, 1px);height: 1px;margin: -1px;overflow: hidden;padding: 0;position: absolute;width: 1px;}#sk-container-id-1 div.sk-estimator {font-family: monospace;background-color: #f0f8ff;border: 1px dotted black;border-radius: 0.25em;box-sizing: border-box;margin-bottom: 0.5em;}#sk-container-id-1 div.sk-estimator:hover {background-color: #d4ebff;}#sk-container-id-1 div.sk-parallel-item::after {content: \"\";width: 100%;border-bottom: 1px solid gray;flex-grow: 1;}#sk-container-id-1 div.sk-label:hover label.sk-toggleable__label {background-color: #d4ebff;}#sk-container-id-1 div.sk-serial::before {content: \"\";position: absolute;border-left: 1px solid gray;box-sizing: border-box;top: 0;bottom: 0;left: 50%;z-index: 0;}#sk-container-id-1 div.sk-serial {display: flex;flex-direction: column;align-items: center;background-color: white;padding-right: 0.2em;padding-left: 0.2em;position: relative;}#sk-container-id-1 div.sk-item {position: relative;z-index: 1;}#sk-container-id-1 div.sk-parallel {display: flex;align-items: stretch;justify-content: center;background-color: white;position: relative;}#sk-container-id-1 div.sk-item::before, #sk-container-id-1 div.sk-parallel-item::before {content: \"\";position: absolute;border-left: 1px solid gray;box-sizing: border-box;top: 0;bottom: 0;left: 50%;z-index: -1;}#sk-container-id-1 div.sk-parallel-item {display: flex;flex-direction: column;z-index: 1;position: relative;background-color: white;}#sk-container-id-1 div.sk-parallel-item:first-child::after {align-self: flex-end;width: 50%;}#sk-container-id-1 div.sk-parallel-item:last-child::after {align-self: flex-start;width: 50%;}#sk-container-id-1 div.sk-parallel-item:only-child::after {width: 0;}#sk-container-id-1 div.sk-dashed-wrapped {border: 1px dashed gray;margin: 0 0.4em 0.5em 0.4em;box-sizing: border-box;padding-bottom: 0.4em;background-color: white;}#sk-container-id-1 div.sk-label label {font-family: monospace;font-weight: bold;display: inline-block;line-height: 1.2em;}#sk-container-id-1 div.sk-label-container {text-align: center;}#sk-container-id-1 div.sk-container {/* jupyter's `normalize.less` sets `[hidden] { display: none; }` but bootstrap.min.css set `[hidden] { display: none !important; }` so we also need the `!important` here to be able to override the default hidden behavior on the sphinx rendered scikit-learn.org. See: https://github.com/scikit-learn/scikit-learn/issues/21755 */display: inline-block !important;position: relative;}#sk-container-id-1 div.sk-text-repr-fallback {display: none;}</style><div id=\"sk-container-id-1\" class=\"sk-top-container\"><div class=\"sk-text-repr-fallback\"><pre>ColumnTransformer(transformers=[(&#x27;numerical&#x27;,\n",
              "                                 Pipeline(steps=[(&#x27;knnimputer&#x27;, KNNImputer()),\n",
              "                                                 (&#x27;standardscaler&#x27;,\n",
              "                                                  StandardScaler())]),\n",
              "                                 [&#x27;age&#x27;]),\n",
              "                                (&#x27;nominal&#x27;,\n",
              "                                 Pipeline(steps=[(&#x27;simpleimputer&#x27;,\n",
              "                                                  SimpleImputer(fill_value=&#x27;unknown&#x27;,\n",
              "                                                                strategy=&#x27;constant&#x27;)),\n",
              "                                                 (&#x27;onehotencoder&#x27;,\n",
              "                                                  OneHotEncoder(handle_unknown=&#x27;ignore&#x27;,\n",
              "                                                                sparse_output=False))]),\n",
              "                                 [&#x27;gender&#x27;, &#x27;device_type&#x27;, &#x27;ad_position&#x27;,\n",
              "                                  &#x27;browsing_history&#x27;]),\n",
              "                                (&#x27;ordinal&#x27;,\n",
              "                                 Pipeline(steps=[(&#x27;simpleimputer&#x27;,\n",
              "                                                  SimpleImputer(strategy=&#x27;most_frequent&#x27;)),\n",
              "                                                 (&#x27;ordinalencoder&#x27;,\n",
              "                                                  OrdinalEncoder(categories=[[&#x27;Morning&#x27;,\n",
              "                                                                              &#x27;Afternoon&#x27;,\n",
              "                                                                              &#x27;Evening&#x27;,\n",
              "                                                                              &#x27;Night&#x27;]]))]),\n",
              "                                 [&#x27;time_of_day&#x27;])])</pre><b>In a Jupyter environment, please rerun this cell to show the HTML representation or trust the notebook. <br />On GitHub, the HTML representation is unable to render, please try loading this page with nbviewer.org.</b></div><div class=\"sk-container\" hidden><div class=\"sk-item sk-dashed-wrapped\"><div class=\"sk-label-container\"><div class=\"sk-label sk-toggleable\"><input class=\"sk-toggleable__control sk-hidden--visually\" id=\"sk-estimator-id-1\" type=\"checkbox\" ><label for=\"sk-estimator-id-1\" class=\"sk-toggleable__label sk-toggleable__label-arrow\">ColumnTransformer</label><div class=\"sk-toggleable__content\"><pre>ColumnTransformer(transformers=[(&#x27;numerical&#x27;,\n",
              "                                 Pipeline(steps=[(&#x27;knnimputer&#x27;, KNNImputer()),\n",
              "                                                 (&#x27;standardscaler&#x27;,\n",
              "                                                  StandardScaler())]),\n",
              "                                 [&#x27;age&#x27;]),\n",
              "                                (&#x27;nominal&#x27;,\n",
              "                                 Pipeline(steps=[(&#x27;simpleimputer&#x27;,\n",
              "                                                  SimpleImputer(fill_value=&#x27;unknown&#x27;,\n",
              "                                                                strategy=&#x27;constant&#x27;)),\n",
              "                                                 (&#x27;onehotencoder&#x27;,\n",
              "                                                  OneHotEncoder(handle_unknown=&#x27;ignore&#x27;,\n",
              "                                                                sparse_output=False))]),\n",
              "                                 [&#x27;gender&#x27;, &#x27;device_type&#x27;, &#x27;ad_position&#x27;,\n",
              "                                  &#x27;browsing_history&#x27;]),\n",
              "                                (&#x27;ordinal&#x27;,\n",
              "                                 Pipeline(steps=[(&#x27;simpleimputer&#x27;,\n",
              "                                                  SimpleImputer(strategy=&#x27;most_frequent&#x27;)),\n",
              "                                                 (&#x27;ordinalencoder&#x27;,\n",
              "                                                  OrdinalEncoder(categories=[[&#x27;Morning&#x27;,\n",
              "                                                                              &#x27;Afternoon&#x27;,\n",
              "                                                                              &#x27;Evening&#x27;,\n",
              "                                                                              &#x27;Night&#x27;]]))]),\n",
              "                                 [&#x27;time_of_day&#x27;])])</pre></div></div></div><div class=\"sk-parallel\"><div class=\"sk-parallel-item\"><div class=\"sk-item\"><div class=\"sk-label-container\"><div class=\"sk-label sk-toggleable\"><input class=\"sk-toggleable__control sk-hidden--visually\" id=\"sk-estimator-id-2\" type=\"checkbox\" ><label for=\"sk-estimator-id-2\" class=\"sk-toggleable__label sk-toggleable__label-arrow\">numerical</label><div class=\"sk-toggleable__content\"><pre>[&#x27;age&#x27;]</pre></div></div></div><div class=\"sk-serial\"><div class=\"sk-item\"><div class=\"sk-serial\"><div class=\"sk-item\"><div class=\"sk-estimator sk-toggleable\"><input class=\"sk-toggleable__control sk-hidden--visually\" id=\"sk-estimator-id-3\" type=\"checkbox\" ><label for=\"sk-estimator-id-3\" class=\"sk-toggleable__label sk-toggleable__label-arrow\">KNNImputer</label><div class=\"sk-toggleable__content\"><pre>KNNImputer()</pre></div></div></div><div class=\"sk-item\"><div class=\"sk-estimator sk-toggleable\"><input class=\"sk-toggleable__control sk-hidden--visually\" id=\"sk-estimator-id-4\" type=\"checkbox\" ><label for=\"sk-estimator-id-4\" class=\"sk-toggleable__label sk-toggleable__label-arrow\">StandardScaler</label><div class=\"sk-toggleable__content\"><pre>StandardScaler()</pre></div></div></div></div></div></div></div></div><div class=\"sk-parallel-item\"><div class=\"sk-item\"><div class=\"sk-label-container\"><div class=\"sk-label sk-toggleable\"><input class=\"sk-toggleable__control sk-hidden--visually\" id=\"sk-estimator-id-5\" type=\"checkbox\" ><label for=\"sk-estimator-id-5\" class=\"sk-toggleable__label sk-toggleable__label-arrow\">nominal</label><div class=\"sk-toggleable__content\"><pre>[&#x27;gender&#x27;, &#x27;device_type&#x27;, &#x27;ad_position&#x27;, &#x27;browsing_history&#x27;]</pre></div></div></div><div class=\"sk-serial\"><div class=\"sk-item\"><div class=\"sk-serial\"><div class=\"sk-item\"><div class=\"sk-estimator sk-toggleable\"><input class=\"sk-toggleable__control sk-hidden--visually\" id=\"sk-estimator-id-6\" type=\"checkbox\" ><label for=\"sk-estimator-id-6\" class=\"sk-toggleable__label sk-toggleable__label-arrow\">SimpleImputer</label><div class=\"sk-toggleable__content\"><pre>SimpleImputer(fill_value=&#x27;unknown&#x27;, strategy=&#x27;constant&#x27;)</pre></div></div></div><div class=\"sk-item\"><div class=\"sk-estimator sk-toggleable\"><input class=\"sk-toggleable__control sk-hidden--visually\" id=\"sk-estimator-id-7\" type=\"checkbox\" ><label for=\"sk-estimator-id-7\" class=\"sk-toggleable__label sk-toggleable__label-arrow\">OneHotEncoder</label><div class=\"sk-toggleable__content\"><pre>OneHotEncoder(handle_unknown=&#x27;ignore&#x27;, sparse_output=False)</pre></div></div></div></div></div></div></div></div><div class=\"sk-parallel-item\"><div class=\"sk-item\"><div class=\"sk-label-container\"><div class=\"sk-label sk-toggleable\"><input class=\"sk-toggleable__control sk-hidden--visually\" id=\"sk-estimator-id-8\" type=\"checkbox\" ><label for=\"sk-estimator-id-8\" class=\"sk-toggleable__label sk-toggleable__label-arrow\">ordinal</label><div class=\"sk-toggleable__content\"><pre>[&#x27;time_of_day&#x27;]</pre></div></div></div><div class=\"sk-serial\"><div class=\"sk-item\"><div class=\"sk-serial\"><div class=\"sk-item\"><div class=\"sk-estimator sk-toggleable\"><input class=\"sk-toggleable__control sk-hidden--visually\" id=\"sk-estimator-id-9\" type=\"checkbox\" ><label for=\"sk-estimator-id-9\" class=\"sk-toggleable__label sk-toggleable__label-arrow\">SimpleImputer</label><div class=\"sk-toggleable__content\"><pre>SimpleImputer(strategy=&#x27;most_frequent&#x27;)</pre></div></div></div><div class=\"sk-item\"><div class=\"sk-estimator sk-toggleable\"><input class=\"sk-toggleable__control sk-hidden--visually\" id=\"sk-estimator-id-10\" type=\"checkbox\" ><label for=\"sk-estimator-id-10\" class=\"sk-toggleable__label sk-toggleable__label-arrow\">OrdinalEncoder</label><div class=\"sk-toggleable__content\"><pre>OrdinalEncoder(categories=[[&#x27;Morning&#x27;, &#x27;Afternoon&#x27;, &#x27;Evening&#x27;, &#x27;Night&#x27;]])</pre></div></div></div></div></div></div></div></div></div></div></div></div>"
            ],
            "text/plain": [
              "ColumnTransformer(transformers=[('numerical',\n",
              "                                 Pipeline(steps=[('knnimputer', KNNImputer()),\n",
              "                                                 ('standardscaler',\n",
              "                                                  StandardScaler())]),\n",
              "                                 ['age']),\n",
              "                                ('nominal',\n",
              "                                 Pipeline(steps=[('simpleimputer',\n",
              "                                                  SimpleImputer(fill_value='unknown',\n",
              "                                                                strategy='constant')),\n",
              "                                                 ('onehotencoder',\n",
              "                                                  OneHotEncoder(handle_unknown='ignore',\n",
              "                                                                sparse_output=False))]),\n",
              "                                 ['gender', 'device_type', 'ad_position',\n",
              "                                  'browsing_history']),\n",
              "                                ('ordinal',\n",
              "                                 Pipeline(steps=[('simpleimputer',\n",
              "                                                  SimpleImputer(strategy='most_frequent')),\n",
              "                                                 ('ordinalencoder',\n",
              "                                                  OrdinalEncoder(categories=[['Morning',\n",
              "                                                                              'Afternoon',\n",
              "                                                                              'Evening',\n",
              "                                                                              'Night']]))]),\n",
              "                                 ['time_of_day'])])"
            ]
          },
          "execution_count": 20,
          "metadata": {},
          "output_type": "execute_result"
        }
      ],
      "source": [
        "num_pipe = make_pipeline(imputer_knn, scaler)\n",
        "nom_pipe = make_pipeline(impute_constant, ohe)\n",
        "ord_pipe = make_pipeline(imputer_simple, oe)\n",
        "\n",
        "preprocess = ColumnTransformer([('numerical', num_pipe, ['age']),\n",
        "                                ('nominal', nom_pipe, nominal),\n",
        "                                ('ordinal', ord_pipe, ordinal)],\n",
        "                                remainder='drop')\n",
        "\n",
        "preprocess"
      ]
    },
    {
      "cell_type": "code",
      "execution_count": null,
      "metadata": {
        "id": "AaF2AoYpE5Kn",
        "outputId": "056af214-f984-460b-c613-0509cd46af66"
      },
      "outputs": [
        {
          "data": {
            "text/html": [
              "<div>\n",
              "<style scoped>\n",
              "    .dataframe tbody tr th:only-of-type {\n",
              "        vertical-align: middle;\n",
              "    }\n",
              "\n",
              "    .dataframe tbody tr th {\n",
              "        vertical-align: top;\n",
              "    }\n",
              "\n",
              "    .dataframe thead th {\n",
              "        text-align: right;\n",
              "    }\n",
              "</style>\n",
              "<table border=\"1\" class=\"dataframe\">\n",
              "  <thead>\n",
              "    <tr style=\"text-align: right;\">\n",
              "      <th></th>\n",
              "      <th>numerical__age</th>\n",
              "      <th>nominal__gender_Female</th>\n",
              "      <th>nominal__gender_Male</th>\n",
              "      <th>nominal__gender_Non-Binary</th>\n",
              "      <th>nominal__gender_unknown</th>\n",
              "      <th>nominal__device_type_Desktop</th>\n",
              "      <th>nominal__device_type_Mobile</th>\n",
              "      <th>nominal__device_type_Tablet</th>\n",
              "      <th>nominal__device_type_unknown</th>\n",
              "      <th>nominal__ad_position_Bottom</th>\n",
              "      <th>nominal__ad_position_Side</th>\n",
              "      <th>nominal__ad_position_Top</th>\n",
              "      <th>nominal__ad_position_unknown</th>\n",
              "      <th>nominal__browsing_history_Education</th>\n",
              "      <th>nominal__browsing_history_Entertainment</th>\n",
              "      <th>nominal__browsing_history_News</th>\n",
              "      <th>nominal__browsing_history_Shopping</th>\n",
              "      <th>nominal__browsing_history_Social Media</th>\n",
              "      <th>nominal__browsing_history_unknown</th>\n",
              "      <th>ordinal__time_of_day</th>\n",
              "    </tr>\n",
              "  </thead>\n",
              "  <tbody>\n",
              "    <tr>\n",
              "      <th>0</th>\n",
              "      <td>1.596513e-01</td>\n",
              "      <td>0.0</td>\n",
              "      <td>0.0</td>\n",
              "      <td>0.0</td>\n",
              "      <td>1.0</td>\n",
              "      <td>1.0</td>\n",
              "      <td>0.0</td>\n",
              "      <td>0.0</td>\n",
              "      <td>0.0</td>\n",
              "      <td>0.0</td>\n",
              "      <td>1.0</td>\n",
              "      <td>0.0</td>\n",
              "      <td>0.0</td>\n",
              "      <td>0.0</td>\n",
              "      <td>0.0</td>\n",
              "      <td>0.0</td>\n",
              "      <td>1.0</td>\n",
              "      <td>0.0</td>\n",
              "      <td>0.0</td>\n",
              "      <td>3.0</td>\n",
              "    </tr>\n",
              "    <tr>\n",
              "      <th>1</th>\n",
              "      <td>1.314736e+00</td>\n",
              "      <td>0.0</td>\n",
              "      <td>1.0</td>\n",
              "      <td>0.0</td>\n",
              "      <td>0.0</td>\n",
              "      <td>0.0</td>\n",
              "      <td>0.0</td>\n",
              "      <td>1.0</td>\n",
              "      <td>0.0</td>\n",
              "      <td>1.0</td>\n",
              "      <td>0.0</td>\n",
              "      <td>0.0</td>\n",
              "      <td>0.0</td>\n",
              "      <td>1.0</td>\n",
              "      <td>0.0</td>\n",
              "      <td>0.0</td>\n",
              "      <td>0.0</td>\n",
              "      <td>0.0</td>\n",
              "      <td>0.0</td>\n",
              "      <td>3.0</td>\n",
              "    </tr>\n",
              "    <tr>\n",
              "      <th>2</th>\n",
              "      <td>-7.461244e-16</td>\n",
              "      <td>1.0</td>\n",
              "      <td>0.0</td>\n",
              "      <td>0.0</td>\n",
              "      <td>0.0</td>\n",
              "      <td>1.0</td>\n",
              "      <td>0.0</td>\n",
              "      <td>0.0</td>\n",
              "      <td>0.0</td>\n",
              "      <td>1.0</td>\n",
              "      <td>0.0</td>\n",
              "      <td>0.0</td>\n",
              "      <td>0.0</td>\n",
              "      <td>0.0</td>\n",
              "      <td>0.0</td>\n",
              "      <td>0.0</td>\n",
              "      <td>1.0</td>\n",
              "      <td>0.0</td>\n",
              "      <td>0.0</td>\n",
              "      <td>0.0</td>\n",
              "    </tr>\n",
              "    <tr>\n",
              "      <th>3</th>\n",
              "      <td>-8.904254e-01</td>\n",
              "      <td>0.0</td>\n",
              "      <td>0.0</td>\n",
              "      <td>0.0</td>\n",
              "      <td>1.0</td>\n",
              "      <td>0.0</td>\n",
              "      <td>1.0</td>\n",
              "      <td>0.0</td>\n",
              "      <td>0.0</td>\n",
              "      <td>0.0</td>\n",
              "      <td>0.0</td>\n",
              "      <td>1.0</td>\n",
              "      <td>0.0</td>\n",
              "      <td>1.0</td>\n",
              "      <td>0.0</td>\n",
              "      <td>0.0</td>\n",
              "      <td>0.0</td>\n",
              "      <td>0.0</td>\n",
              "      <td>0.0</td>\n",
              "      <td>0.0</td>\n",
              "    </tr>\n",
              "    <tr>\n",
              "      <th>4</th>\n",
              "      <td>-7.461244e-16</td>\n",
              "      <td>0.0</td>\n",
              "      <td>0.0</td>\n",
              "      <td>1.0</td>\n",
              "      <td>0.0</td>\n",
              "      <td>1.0</td>\n",
              "      <td>0.0</td>\n",
              "      <td>0.0</td>\n",
              "      <td>0.0</td>\n",
              "      <td>1.0</td>\n",
              "      <td>0.0</td>\n",
              "      <td>0.0</td>\n",
              "      <td>0.0</td>\n",
              "      <td>0.0</td>\n",
              "      <td>0.0</td>\n",
              "      <td>0.0</td>\n",
              "      <td>0.0</td>\n",
              "      <td>0.0</td>\n",
              "      <td>1.0</td>\n",
              "      <td>0.0</td>\n",
              "    </tr>\n",
              "    <tr>\n",
              "      <th>...</th>\n",
              "      <td>...</td>\n",
              "      <td>...</td>\n",
              "      <td>...</td>\n",
              "      <td>...</td>\n",
              "      <td>...</td>\n",
              "      <td>...</td>\n",
              "      <td>...</td>\n",
              "      <td>...</td>\n",
              "      <td>...</td>\n",
              "      <td>...</td>\n",
              "      <td>...</td>\n",
              "      <td>...</td>\n",
              "      <td>...</td>\n",
              "      <td>...</td>\n",
              "      <td>...</td>\n",
              "      <td>...</td>\n",
              "      <td>...</td>\n",
              "      <td>...</td>\n",
              "      <td>...</td>\n",
              "      <td>...</td>\n",
              "    </tr>\n",
              "    <tr>\n",
              "      <th>5712</th>\n",
              "      <td>-7.461244e-16</td>\n",
              "      <td>0.0</td>\n",
              "      <td>0.0</td>\n",
              "      <td>0.0</td>\n",
              "      <td>1.0</td>\n",
              "      <td>0.0</td>\n",
              "      <td>0.0</td>\n",
              "      <td>1.0</td>\n",
              "      <td>0.0</td>\n",
              "      <td>0.0</td>\n",
              "      <td>1.0</td>\n",
              "      <td>0.0</td>\n",
              "      <td>0.0</td>\n",
              "      <td>0.0</td>\n",
              "      <td>0.0</td>\n",
              "      <td>0.0</td>\n",
              "      <td>0.0</td>\n",
              "      <td>1.0</td>\n",
              "      <td>0.0</td>\n",
              "      <td>0.0</td>\n",
              "    </tr>\n",
              "    <tr>\n",
              "      <th>5713</th>\n",
              "      <td>-7.461244e-16</td>\n",
              "      <td>1.0</td>\n",
              "      <td>0.0</td>\n",
              "      <td>0.0</td>\n",
              "      <td>0.0</td>\n",
              "      <td>0.0</td>\n",
              "      <td>0.0</td>\n",
              "      <td>1.0</td>\n",
              "      <td>0.0</td>\n",
              "      <td>0.0</td>\n",
              "      <td>0.0</td>\n",
              "      <td>0.0</td>\n",
              "      <td>1.0</td>\n",
              "      <td>0.0</td>\n",
              "      <td>0.0</td>\n",
              "      <td>0.0</td>\n",
              "      <td>0.0</td>\n",
              "      <td>0.0</td>\n",
              "      <td>1.0</td>\n",
              "      <td>0.0</td>\n",
              "    </tr>\n",
              "    <tr>\n",
              "      <th>5714</th>\n",
              "      <td>-7.461244e-16</td>\n",
              "      <td>0.0</td>\n",
              "      <td>0.0</td>\n",
              "      <td>0.0</td>\n",
              "      <td>1.0</td>\n",
              "      <td>1.0</td>\n",
              "      <td>0.0</td>\n",
              "      <td>0.0</td>\n",
              "      <td>0.0</td>\n",
              "      <td>1.0</td>\n",
              "      <td>0.0</td>\n",
              "      <td>0.0</td>\n",
              "      <td>0.0</td>\n",
              "      <td>0.0</td>\n",
              "      <td>1.0</td>\n",
              "      <td>0.0</td>\n",
              "      <td>0.0</td>\n",
              "      <td>0.0</td>\n",
              "      <td>0.0</td>\n",
              "      <td>1.0</td>\n",
              "    </tr>\n",
              "    <tr>\n",
              "      <th>5715</th>\n",
              "      <td>-4.703947e-01</td>\n",
              "      <td>0.0</td>\n",
              "      <td>0.0</td>\n",
              "      <td>0.0</td>\n",
              "      <td>1.0</td>\n",
              "      <td>0.0</td>\n",
              "      <td>1.0</td>\n",
              "      <td>0.0</td>\n",
              "      <td>0.0</td>\n",
              "      <td>0.0</td>\n",
              "      <td>1.0</td>\n",
              "      <td>0.0</td>\n",
              "      <td>0.0</td>\n",
              "      <td>0.0</td>\n",
              "      <td>0.0</td>\n",
              "      <td>1.0</td>\n",
              "      <td>0.0</td>\n",
              "      <td>0.0</td>\n",
              "      <td>0.0</td>\n",
              "      <td>0.0</td>\n",
              "    </tr>\n",
              "    <tr>\n",
              "      <th>5716</th>\n",
              "      <td>2.646589e-01</td>\n",
              "      <td>0.0</td>\n",
              "      <td>0.0</td>\n",
              "      <td>0.0</td>\n",
              "      <td>1.0</td>\n",
              "      <td>0.0</td>\n",
              "      <td>0.0</td>\n",
              "      <td>0.0</td>\n",
              "      <td>1.0</td>\n",
              "      <td>0.0</td>\n",
              "      <td>1.0</td>\n",
              "      <td>0.0</td>\n",
              "      <td>0.0</td>\n",
              "      <td>0.0</td>\n",
              "      <td>1.0</td>\n",
              "      <td>0.0</td>\n",
              "      <td>0.0</td>\n",
              "      <td>0.0</td>\n",
              "      <td>0.0</td>\n",
              "      <td>3.0</td>\n",
              "    </tr>\n",
              "  </tbody>\n",
              "</table>\n",
              "<p>5717 rows × 20 columns</p>\n",
              "</div>"
            ],
            "text/plain": [
              "      numerical__age  nominal__gender_Female  nominal__gender_Male  \\\n",
              "0       1.596513e-01                     0.0                   0.0   \n",
              "1       1.314736e+00                     0.0                   1.0   \n",
              "2      -7.461244e-16                     1.0                   0.0   \n",
              "3      -8.904254e-01                     0.0                   0.0   \n",
              "4      -7.461244e-16                     0.0                   0.0   \n",
              "...              ...                     ...                   ...   \n",
              "5712   -7.461244e-16                     0.0                   0.0   \n",
              "5713   -7.461244e-16                     1.0                   0.0   \n",
              "5714   -7.461244e-16                     0.0                   0.0   \n",
              "5715   -4.703947e-01                     0.0                   0.0   \n",
              "5716    2.646589e-01                     0.0                   0.0   \n",
              "\n",
              "      nominal__gender_Non-Binary  nominal__gender_unknown  \\\n",
              "0                            0.0                      1.0   \n",
              "1                            0.0                      0.0   \n",
              "2                            0.0                      0.0   \n",
              "3                            0.0                      1.0   \n",
              "4                            1.0                      0.0   \n",
              "...                          ...                      ...   \n",
              "5712                         0.0                      1.0   \n",
              "5713                         0.0                      0.0   \n",
              "5714                         0.0                      1.0   \n",
              "5715                         0.0                      1.0   \n",
              "5716                         0.0                      1.0   \n",
              "\n",
              "      nominal__device_type_Desktop  nominal__device_type_Mobile  \\\n",
              "0                              1.0                          0.0   \n",
              "1                              0.0                          0.0   \n",
              "2                              1.0                          0.0   \n",
              "3                              0.0                          1.0   \n",
              "4                              1.0                          0.0   \n",
              "...                            ...                          ...   \n",
              "5712                           0.0                          0.0   \n",
              "5713                           0.0                          0.0   \n",
              "5714                           1.0                          0.0   \n",
              "5715                           0.0                          1.0   \n",
              "5716                           0.0                          0.0   \n",
              "\n",
              "      nominal__device_type_Tablet  nominal__device_type_unknown  \\\n",
              "0                             0.0                           0.0   \n",
              "1                             1.0                           0.0   \n",
              "2                             0.0                           0.0   \n",
              "3                             0.0                           0.0   \n",
              "4                             0.0                           0.0   \n",
              "...                           ...                           ...   \n",
              "5712                          1.0                           0.0   \n",
              "5713                          1.0                           0.0   \n",
              "5714                          0.0                           0.0   \n",
              "5715                          0.0                           0.0   \n",
              "5716                          0.0                           1.0   \n",
              "\n",
              "      nominal__ad_position_Bottom  nominal__ad_position_Side  \\\n",
              "0                             0.0                        1.0   \n",
              "1                             1.0                        0.0   \n",
              "2                             1.0                        0.0   \n",
              "3                             0.0                        0.0   \n",
              "4                             1.0                        0.0   \n",
              "...                           ...                        ...   \n",
              "5712                          0.0                        1.0   \n",
              "5713                          0.0                        0.0   \n",
              "5714                          1.0                        0.0   \n",
              "5715                          0.0                        1.0   \n",
              "5716                          0.0                        1.0   \n",
              "\n",
              "      nominal__ad_position_Top  nominal__ad_position_unknown  \\\n",
              "0                          0.0                           0.0   \n",
              "1                          0.0                           0.0   \n",
              "2                          0.0                           0.0   \n",
              "3                          1.0                           0.0   \n",
              "4                          0.0                           0.0   \n",
              "...                        ...                           ...   \n",
              "5712                       0.0                           0.0   \n",
              "5713                       0.0                           1.0   \n",
              "5714                       0.0                           0.0   \n",
              "5715                       0.0                           0.0   \n",
              "5716                       0.0                           0.0   \n",
              "\n",
              "      nominal__browsing_history_Education  \\\n",
              "0                                     0.0   \n",
              "1                                     1.0   \n",
              "2                                     0.0   \n",
              "3                                     1.0   \n",
              "4                                     0.0   \n",
              "...                                   ...   \n",
              "5712                                  0.0   \n",
              "5713                                  0.0   \n",
              "5714                                  0.0   \n",
              "5715                                  0.0   \n",
              "5716                                  0.0   \n",
              "\n",
              "      nominal__browsing_history_Entertainment  nominal__browsing_history_News  \\\n",
              "0                                         0.0                             0.0   \n",
              "1                                         0.0                             0.0   \n",
              "2                                         0.0                             0.0   \n",
              "3                                         0.0                             0.0   \n",
              "4                                         0.0                             0.0   \n",
              "...                                       ...                             ...   \n",
              "5712                                      0.0                             0.0   \n",
              "5713                                      0.0                             0.0   \n",
              "5714                                      1.0                             0.0   \n",
              "5715                                      0.0                             1.0   \n",
              "5716                                      1.0                             0.0   \n",
              "\n",
              "      nominal__browsing_history_Shopping  \\\n",
              "0                                    1.0   \n",
              "1                                    0.0   \n",
              "2                                    1.0   \n",
              "3                                    0.0   \n",
              "4                                    0.0   \n",
              "...                                  ...   \n",
              "5712                                 0.0   \n",
              "5713                                 0.0   \n",
              "5714                                 0.0   \n",
              "5715                                 0.0   \n",
              "5716                                 0.0   \n",
              "\n",
              "      nominal__browsing_history_Social Media  \\\n",
              "0                                        0.0   \n",
              "1                                        0.0   \n",
              "2                                        0.0   \n",
              "3                                        0.0   \n",
              "4                                        0.0   \n",
              "...                                      ...   \n",
              "5712                                     1.0   \n",
              "5713                                     0.0   \n",
              "5714                                     0.0   \n",
              "5715                                     0.0   \n",
              "5716                                     0.0   \n",
              "\n",
              "      nominal__browsing_history_unknown  ordinal__time_of_day  \n",
              "0                                   0.0                   3.0  \n",
              "1                                   0.0                   3.0  \n",
              "2                                   0.0                   0.0  \n",
              "3                                   0.0                   0.0  \n",
              "4                                   1.0                   0.0  \n",
              "...                                 ...                   ...  \n",
              "5712                                0.0                   0.0  \n",
              "5713                                1.0                   0.0  \n",
              "5714                                0.0                   1.0  \n",
              "5715                                0.0                   0.0  \n",
              "5716                                0.0                   3.0  \n",
              "\n",
              "[5717 rows x 20 columns]"
            ]
          },
          "execution_count": 21,
          "metadata": {},
          "output_type": "execute_result"
        }
      ],
      "source": [
        "a = preprocess.fit_transform(X_train)\n",
        "pd.DataFrame(a, columns = preprocess.get_feature_names_out())"
      ]
    },
    {
      "cell_type": "markdown",
      "metadata": {
        "id": "pkov_7NaE5K3"
      },
      "source": [
        "# Modeling"
      ]
    },
    {
      "cell_type": "markdown",
      "metadata": {
        "id": "WG39mwoXE5K3"
      },
      "source": [
        "model yang akan dicoba:\n",
        "- knn\n",
        "- logistic regression\n",
        "- random forest\n",
        "- adaboost"
      ]
    },
    {
      "cell_type": "markdown",
      "metadata": {
        "id": "7ELG3fwzE5K4"
      },
      "source": [
        "## Model Definition"
      ]
    },
    {
      "cell_type": "code",
      "execution_count": null,
      "metadata": {
        "id": "ZVG1zIfcE5K6"
      },
      "outputs": [],
      "source": [
        "knn = KNeighborsClassifier()\n",
        "logreg = LogisticRegression()\n",
        "rf_cls = RandomForestClassifier()\n",
        "ada_cls = AdaBoostClassifier()"
      ]
    },
    {
      "cell_type": "code",
      "execution_count": null,
      "metadata": {
        "id": "pnLqIfCkE5K6"
      },
      "outputs": [],
      "source": [
        "# model pipeline\n",
        "pipe_knn = Pipeline([('prep', preprocess), ('knn', knn)])\n",
        "pipe_logreg = Pipeline([('prep', preprocess), ('logreg', logreg)])\n",
        "pipe_rf = Pipeline([('prep', preprocess), ('rf', rf_cls)])\n",
        "pipe_ada = Pipeline([('prep', preprocess), ('ada', ada_cls)])\n"
      ]
    },
    {
      "cell_type": "markdown",
      "metadata": {
        "id": "Gf4VSCbyE5K7"
      },
      "source": [
        "Model akan dipilih untuk dilakukan hyperparameter tuning dengan membandingkan hasil cross validation tiap model."
      ]
    },
    {
      "cell_type": "markdown",
      "metadata": {
        "id": "J6jhmmOVE5K7"
      },
      "source": [
        "## Cross Validation"
      ]
    },
    {
      "cell_type": "code",
      "execution_count": null,
      "metadata": {
        "id": "-ka9Pun-E5K8"
      },
      "outputs": [],
      "source": [
        "# cross validation\n",
        "\n",
        "cv_knn = cross_val_score(pipe_knn, X_train, y_train, cv=5, scoring='precision')\n",
        "cv_logreg = cross_val_score(pipe_logreg, X_train, y_train, cv=5, scoring='precision')\n",
        "cv_rf = cross_val_score(pipe_rf, X_train, y_train, cv=5, scoring='precision')\n",
        "cv_ada = cross_val_score(pipe_ada, X_train, y_train, cv=5, scoring='precision')"
      ]
    },
    {
      "cell_type": "code",
      "execution_count": null,
      "metadata": {
        "id": "aTGPh4oxE5K8",
        "outputId": "fd904d76-bc0e-4c3f-9e0e-91b254e338a2"
      },
      "outputs": [
        {
          "data": {
            "text/html": [
              "<div>\n",
              "<style scoped>\n",
              "    .dataframe tbody tr th:only-of-type {\n",
              "        vertical-align: middle;\n",
              "    }\n",
              "\n",
              "    .dataframe tbody tr th {\n",
              "        vertical-align: top;\n",
              "    }\n",
              "\n",
              "    .dataframe thead th {\n",
              "        text-align: right;\n",
              "    }\n",
              "</style>\n",
              "<table border=\"1\" class=\"dataframe\">\n",
              "  <thead>\n",
              "    <tr style=\"text-align: right;\">\n",
              "      <th></th>\n",
              "      <th>model</th>\n",
              "      <th>cv_mean</th>\n",
              "      <th>cv_std</th>\n",
              "    </tr>\n",
              "  </thead>\n",
              "  <tbody>\n",
              "    <tr>\n",
              "      <th>0</th>\n",
              "      <td>KNN</td>\n",
              "      <td>0.563511</td>\n",
              "      <td>0.004063</td>\n",
              "    </tr>\n",
              "    <tr>\n",
              "      <th>1</th>\n",
              "      <td>Logistic Regression</td>\n",
              "      <td>0.581897</td>\n",
              "      <td>0.009467</td>\n",
              "    </tr>\n",
              "    <tr>\n",
              "      <th>2</th>\n",
              "      <td>Random Forest</td>\n",
              "      <td>0.564521</td>\n",
              "      <td>0.004578</td>\n",
              "    </tr>\n",
              "    <tr>\n",
              "      <th>3</th>\n",
              "      <td>AdaBoost</td>\n",
              "      <td>0.588788</td>\n",
              "      <td>0.012130</td>\n",
              "    </tr>\n",
              "  </tbody>\n",
              "</table>\n",
              "</div>"
            ],
            "text/plain": [
              "                 model   cv_mean    cv_std\n",
              "0                  KNN  0.563511  0.004063\n",
              "1  Logistic Regression  0.581897  0.009467\n",
              "2        Random Forest  0.564521  0.004578\n",
              "3             AdaBoost  0.588788  0.012130"
            ]
          },
          "execution_count": 25,
          "metadata": {},
          "output_type": "execute_result"
        }
      ],
      "source": [
        "model = ['KNN', 'Logistic Regression', 'Random Forest', 'AdaBoost']\n",
        "cv_mean = [cv_knn.mean(), cv_logreg.mean(), cv_rf.mean(), cv_ada.mean()]\n",
        "cv_std = [cv_knn.std(), cv_logreg.std(), cv_rf.std(), cv_ada.std()]\n",
        "\n",
        "result = pd.DataFrame({'model': model, 'cv_mean': cv_mean, 'cv_std': cv_std})\n",
        "result"
      ]
    },
    {
      "cell_type": "markdown",
      "metadata": {
        "id": "iAgXdf4yE5K9"
      },
      "source": [
        "Berdasarkan hasil cross validation didapatkan bahwa adaboost dengan default hyperparameter menghasilkan score paling baik diantara yang lain. Adaboost akan dilanjutkan untuk hyperparameter tuning"
      ]
    },
    {
      "cell_type": "markdown",
      "metadata": {
        "id": "OXzgaBRnE5K9"
      },
      "source": [
        "## Hyperparameter Tuning"
      ]
    },
    {
      "cell_type": "code",
      "execution_count": null,
      "metadata": {
        "id": "GCUi4E7eE5K-"
      },
      "outputs": [],
      "source": [
        "# Hyperparameter tuning\n",
        "\n",
        "ada_param_grid = {'ada__n_estimators': [50, 100, 200],\n",
        "                  'ada__learning_rate': [0.1, 0.5, 1]\n",
        "                  }"
      ]
    },
    {
      "cell_type": "code",
      "execution_count": null,
      "metadata": {
        "id": "dDFkL7tiE5K-",
        "outputId": "9fc00958-6ade-477d-e2e0-a1077d53ae3e"
      },
      "outputs": [
        {
          "name": "stdout",
          "output_type": "stream",
          "text": [
            "Fitting 5 folds for each of 9 candidates, totalling 45 fits\n"
          ]
        },
        {
          "data": {
            "text/html": [
              "<style>#sk-container-id-2 {color: black;}#sk-container-id-2 pre{padding: 0;}#sk-container-id-2 div.sk-toggleable {background-color: white;}#sk-container-id-2 label.sk-toggleable__label {cursor: pointer;display: block;width: 100%;margin-bottom: 0;padding: 0.3em;box-sizing: border-box;text-align: center;}#sk-container-id-2 label.sk-toggleable__label-arrow:before {content: \"▸\";float: left;margin-right: 0.25em;color: #696969;}#sk-container-id-2 label.sk-toggleable__label-arrow:hover:before {color: black;}#sk-container-id-2 div.sk-estimator:hover label.sk-toggleable__label-arrow:before {color: black;}#sk-container-id-2 div.sk-toggleable__content {max-height: 0;max-width: 0;overflow: hidden;text-align: left;background-color: #f0f8ff;}#sk-container-id-2 div.sk-toggleable__content pre {margin: 0.2em;color: black;border-radius: 0.25em;background-color: #f0f8ff;}#sk-container-id-2 input.sk-toggleable__control:checked~div.sk-toggleable__content {max-height: 200px;max-width: 100%;overflow: auto;}#sk-container-id-2 input.sk-toggleable__control:checked~label.sk-toggleable__label-arrow:before {content: \"▾\";}#sk-container-id-2 div.sk-estimator input.sk-toggleable__control:checked~label.sk-toggleable__label {background-color: #d4ebff;}#sk-container-id-2 div.sk-label input.sk-toggleable__control:checked~label.sk-toggleable__label {background-color: #d4ebff;}#sk-container-id-2 input.sk-hidden--visually {border: 0;clip: rect(1px 1px 1px 1px);clip: rect(1px, 1px, 1px, 1px);height: 1px;margin: -1px;overflow: hidden;padding: 0;position: absolute;width: 1px;}#sk-container-id-2 div.sk-estimator {font-family: monospace;background-color: #f0f8ff;border: 1px dotted black;border-radius: 0.25em;box-sizing: border-box;margin-bottom: 0.5em;}#sk-container-id-2 div.sk-estimator:hover {background-color: #d4ebff;}#sk-container-id-2 div.sk-parallel-item::after {content: \"\";width: 100%;border-bottom: 1px solid gray;flex-grow: 1;}#sk-container-id-2 div.sk-label:hover label.sk-toggleable__label {background-color: #d4ebff;}#sk-container-id-2 div.sk-serial::before {content: \"\";position: absolute;border-left: 1px solid gray;box-sizing: border-box;top: 0;bottom: 0;left: 50%;z-index: 0;}#sk-container-id-2 div.sk-serial {display: flex;flex-direction: column;align-items: center;background-color: white;padding-right: 0.2em;padding-left: 0.2em;position: relative;}#sk-container-id-2 div.sk-item {position: relative;z-index: 1;}#sk-container-id-2 div.sk-parallel {display: flex;align-items: stretch;justify-content: center;background-color: white;position: relative;}#sk-container-id-2 div.sk-item::before, #sk-container-id-2 div.sk-parallel-item::before {content: \"\";position: absolute;border-left: 1px solid gray;box-sizing: border-box;top: 0;bottom: 0;left: 50%;z-index: -1;}#sk-container-id-2 div.sk-parallel-item {display: flex;flex-direction: column;z-index: 1;position: relative;background-color: white;}#sk-container-id-2 div.sk-parallel-item:first-child::after {align-self: flex-end;width: 50%;}#sk-container-id-2 div.sk-parallel-item:last-child::after {align-self: flex-start;width: 50%;}#sk-container-id-2 div.sk-parallel-item:only-child::after {width: 0;}#sk-container-id-2 div.sk-dashed-wrapped {border: 1px dashed gray;margin: 0 0.4em 0.5em 0.4em;box-sizing: border-box;padding-bottom: 0.4em;background-color: white;}#sk-container-id-2 div.sk-label label {font-family: monospace;font-weight: bold;display: inline-block;line-height: 1.2em;}#sk-container-id-2 div.sk-label-container {text-align: center;}#sk-container-id-2 div.sk-container {/* jupyter's `normalize.less` sets `[hidden] { display: none; }` but bootstrap.min.css set `[hidden] { display: none !important; }` so we also need the `!important` here to be able to override the default hidden behavior on the sphinx rendered scikit-learn.org. See: https://github.com/scikit-learn/scikit-learn/issues/21755 */display: inline-block !important;position: relative;}#sk-container-id-2 div.sk-text-repr-fallback {display: none;}</style><div id=\"sk-container-id-2\" class=\"sk-top-container\"><div class=\"sk-text-repr-fallback\"><pre>GridSearchCV(cv=5,\n",
              "             estimator=Pipeline(steps=[(&#x27;prep&#x27;,\n",
              "                                        ColumnTransformer(transformers=[(&#x27;numerical&#x27;,\n",
              "                                                                         Pipeline(steps=[(&#x27;knnimputer&#x27;,\n",
              "                                                                                          KNNImputer()),\n",
              "                                                                                         (&#x27;standardscaler&#x27;,\n",
              "                                                                                          StandardScaler())]),\n",
              "                                                                         [&#x27;age&#x27;]),\n",
              "                                                                        (&#x27;nominal&#x27;,\n",
              "                                                                         Pipeline(steps=[(&#x27;simpleimputer&#x27;,\n",
              "                                                                                          SimpleImputer(fill_value=&#x27;unknown&#x27;,\n",
              "                                                                                                        strategy=&#x27;constant&#x27;)),\n",
              "                                                                                         (&#x27;onehotencoder&#x27;,\n",
              "                                                                                          OneHotEncoder(handle_unknown=&#x27;ignore&#x27;,\n",
              "                                                                                                        sparse...\n",
              "                                                                          &#x27;browsing_history&#x27;]),\n",
              "                                                                        (&#x27;ordinal&#x27;,\n",
              "                                                                         Pipeline(steps=[(&#x27;simpleimputer&#x27;,\n",
              "                                                                                          SimpleImputer(strategy=&#x27;most_frequent&#x27;)),\n",
              "                                                                                         (&#x27;ordinalencoder&#x27;,\n",
              "                                                                                          OrdinalEncoder(categories=[[&#x27;Morning&#x27;,\n",
              "                                                                                                                      &#x27;Afternoon&#x27;,\n",
              "                                                                                                                      &#x27;Evening&#x27;,\n",
              "                                                                                                                      &#x27;Night&#x27;]]))]),\n",
              "                                                                         [&#x27;time_of_day&#x27;])])),\n",
              "                                       (&#x27;ada&#x27;, AdaBoostClassifier())]),\n",
              "             n_jobs=-1,\n",
              "             param_grid={&#x27;ada__learning_rate&#x27;: [0.1, 0.5, 1],\n",
              "                         &#x27;ada__n_estimators&#x27;: [50, 100, 200]},\n",
              "             scoring=&#x27;precision&#x27;, verbose=1)</pre><b>In a Jupyter environment, please rerun this cell to show the HTML representation or trust the notebook. <br />On GitHub, the HTML representation is unable to render, please try loading this page with nbviewer.org.</b></div><div class=\"sk-container\" hidden><div class=\"sk-item sk-dashed-wrapped\"><div class=\"sk-label-container\"><div class=\"sk-label sk-toggleable\"><input class=\"sk-toggleable__control sk-hidden--visually\" id=\"sk-estimator-id-11\" type=\"checkbox\" ><label for=\"sk-estimator-id-11\" class=\"sk-toggleable__label sk-toggleable__label-arrow\">GridSearchCV</label><div class=\"sk-toggleable__content\"><pre>GridSearchCV(cv=5,\n",
              "             estimator=Pipeline(steps=[(&#x27;prep&#x27;,\n",
              "                                        ColumnTransformer(transformers=[(&#x27;numerical&#x27;,\n",
              "                                                                         Pipeline(steps=[(&#x27;knnimputer&#x27;,\n",
              "                                                                                          KNNImputer()),\n",
              "                                                                                         (&#x27;standardscaler&#x27;,\n",
              "                                                                                          StandardScaler())]),\n",
              "                                                                         [&#x27;age&#x27;]),\n",
              "                                                                        (&#x27;nominal&#x27;,\n",
              "                                                                         Pipeline(steps=[(&#x27;simpleimputer&#x27;,\n",
              "                                                                                          SimpleImputer(fill_value=&#x27;unknown&#x27;,\n",
              "                                                                                                        strategy=&#x27;constant&#x27;)),\n",
              "                                                                                         (&#x27;onehotencoder&#x27;,\n",
              "                                                                                          OneHotEncoder(handle_unknown=&#x27;ignore&#x27;,\n",
              "                                                                                                        sparse...\n",
              "                                                                          &#x27;browsing_history&#x27;]),\n",
              "                                                                        (&#x27;ordinal&#x27;,\n",
              "                                                                         Pipeline(steps=[(&#x27;simpleimputer&#x27;,\n",
              "                                                                                          SimpleImputer(strategy=&#x27;most_frequent&#x27;)),\n",
              "                                                                                         (&#x27;ordinalencoder&#x27;,\n",
              "                                                                                          OrdinalEncoder(categories=[[&#x27;Morning&#x27;,\n",
              "                                                                                                                      &#x27;Afternoon&#x27;,\n",
              "                                                                                                                      &#x27;Evening&#x27;,\n",
              "                                                                                                                      &#x27;Night&#x27;]]))]),\n",
              "                                                                         [&#x27;time_of_day&#x27;])])),\n",
              "                                       (&#x27;ada&#x27;, AdaBoostClassifier())]),\n",
              "             n_jobs=-1,\n",
              "             param_grid={&#x27;ada__learning_rate&#x27;: [0.1, 0.5, 1],\n",
              "                         &#x27;ada__n_estimators&#x27;: [50, 100, 200]},\n",
              "             scoring=&#x27;precision&#x27;, verbose=1)</pre></div></div></div><div class=\"sk-parallel\"><div class=\"sk-parallel-item\"><div class=\"sk-item\"><div class=\"sk-label-container\"><div class=\"sk-label sk-toggleable\"><input class=\"sk-toggleable__control sk-hidden--visually\" id=\"sk-estimator-id-12\" type=\"checkbox\" ><label for=\"sk-estimator-id-12\" class=\"sk-toggleable__label sk-toggleable__label-arrow\">estimator: Pipeline</label><div class=\"sk-toggleable__content\"><pre>Pipeline(steps=[(&#x27;prep&#x27;,\n",
              "                 ColumnTransformer(transformers=[(&#x27;numerical&#x27;,\n",
              "                                                  Pipeline(steps=[(&#x27;knnimputer&#x27;,\n",
              "                                                                   KNNImputer()),\n",
              "                                                                  (&#x27;standardscaler&#x27;,\n",
              "                                                                   StandardScaler())]),\n",
              "                                                  [&#x27;age&#x27;]),\n",
              "                                                 (&#x27;nominal&#x27;,\n",
              "                                                  Pipeline(steps=[(&#x27;simpleimputer&#x27;,\n",
              "                                                                   SimpleImputer(fill_value=&#x27;unknown&#x27;,\n",
              "                                                                                 strategy=&#x27;constant&#x27;)),\n",
              "                                                                  (&#x27;onehotencoder&#x27;,\n",
              "                                                                   OneHotEncoder(handle_unknown=&#x27;ignore&#x27;,\n",
              "                                                                                 sparse_output=False))]),\n",
              "                                                  [&#x27;gender&#x27;, &#x27;device_type&#x27;,\n",
              "                                                   &#x27;ad_position&#x27;,\n",
              "                                                   &#x27;browsing_history&#x27;]),\n",
              "                                                 (&#x27;ordinal&#x27;,\n",
              "                                                  Pipeline(steps=[(&#x27;simpleimputer&#x27;,\n",
              "                                                                   SimpleImputer(strategy=&#x27;most_frequent&#x27;)),\n",
              "                                                                  (&#x27;ordinalencoder&#x27;,\n",
              "                                                                   OrdinalEncoder(categories=[[&#x27;Morning&#x27;,\n",
              "                                                                                               &#x27;Afternoon&#x27;,\n",
              "                                                                                               &#x27;Evening&#x27;,\n",
              "                                                                                               &#x27;Night&#x27;]]))]),\n",
              "                                                  [&#x27;time_of_day&#x27;])])),\n",
              "                (&#x27;ada&#x27;, AdaBoostClassifier())])</pre></div></div></div><div class=\"sk-serial\"><div class=\"sk-item\"><div class=\"sk-serial\"><div class=\"sk-item sk-dashed-wrapped\"><div class=\"sk-label-container\"><div class=\"sk-label sk-toggleable\"><input class=\"sk-toggleable__control sk-hidden--visually\" id=\"sk-estimator-id-13\" type=\"checkbox\" ><label for=\"sk-estimator-id-13\" class=\"sk-toggleable__label sk-toggleable__label-arrow\">prep: ColumnTransformer</label><div class=\"sk-toggleable__content\"><pre>ColumnTransformer(transformers=[(&#x27;numerical&#x27;,\n",
              "                                 Pipeline(steps=[(&#x27;knnimputer&#x27;, KNNImputer()),\n",
              "                                                 (&#x27;standardscaler&#x27;,\n",
              "                                                  StandardScaler())]),\n",
              "                                 [&#x27;age&#x27;]),\n",
              "                                (&#x27;nominal&#x27;,\n",
              "                                 Pipeline(steps=[(&#x27;simpleimputer&#x27;,\n",
              "                                                  SimpleImputer(fill_value=&#x27;unknown&#x27;,\n",
              "                                                                strategy=&#x27;constant&#x27;)),\n",
              "                                                 (&#x27;onehotencoder&#x27;,\n",
              "                                                  OneHotEncoder(handle_unknown=&#x27;ignore&#x27;,\n",
              "                                                                sparse_output=False))]),\n",
              "                                 [&#x27;gender&#x27;, &#x27;device_type&#x27;, &#x27;ad_position&#x27;,\n",
              "                                  &#x27;browsing_history&#x27;]),\n",
              "                                (&#x27;ordinal&#x27;,\n",
              "                                 Pipeline(steps=[(&#x27;simpleimputer&#x27;,\n",
              "                                                  SimpleImputer(strategy=&#x27;most_frequent&#x27;)),\n",
              "                                                 (&#x27;ordinalencoder&#x27;,\n",
              "                                                  OrdinalEncoder(categories=[[&#x27;Morning&#x27;,\n",
              "                                                                              &#x27;Afternoon&#x27;,\n",
              "                                                                              &#x27;Evening&#x27;,\n",
              "                                                                              &#x27;Night&#x27;]]))]),\n",
              "                                 [&#x27;time_of_day&#x27;])])</pre></div></div></div><div class=\"sk-parallel\"><div class=\"sk-parallel-item\"><div class=\"sk-item\"><div class=\"sk-label-container\"><div class=\"sk-label sk-toggleable\"><input class=\"sk-toggleable__control sk-hidden--visually\" id=\"sk-estimator-id-14\" type=\"checkbox\" ><label for=\"sk-estimator-id-14\" class=\"sk-toggleable__label sk-toggleable__label-arrow\">numerical</label><div class=\"sk-toggleable__content\"><pre>[&#x27;age&#x27;]</pre></div></div></div><div class=\"sk-serial\"><div class=\"sk-item\"><div class=\"sk-serial\"><div class=\"sk-item\"><div class=\"sk-estimator sk-toggleable\"><input class=\"sk-toggleable__control sk-hidden--visually\" id=\"sk-estimator-id-15\" type=\"checkbox\" ><label for=\"sk-estimator-id-15\" class=\"sk-toggleable__label sk-toggleable__label-arrow\">KNNImputer</label><div class=\"sk-toggleable__content\"><pre>KNNImputer()</pre></div></div></div><div class=\"sk-item\"><div class=\"sk-estimator sk-toggleable\"><input class=\"sk-toggleable__control sk-hidden--visually\" id=\"sk-estimator-id-16\" type=\"checkbox\" ><label for=\"sk-estimator-id-16\" class=\"sk-toggleable__label sk-toggleable__label-arrow\">StandardScaler</label><div class=\"sk-toggleable__content\"><pre>StandardScaler()</pre></div></div></div></div></div></div></div></div><div class=\"sk-parallel-item\"><div class=\"sk-item\"><div class=\"sk-label-container\"><div class=\"sk-label sk-toggleable\"><input class=\"sk-toggleable__control sk-hidden--visually\" id=\"sk-estimator-id-17\" type=\"checkbox\" ><label for=\"sk-estimator-id-17\" class=\"sk-toggleable__label sk-toggleable__label-arrow\">nominal</label><div class=\"sk-toggleable__content\"><pre>[&#x27;gender&#x27;, &#x27;device_type&#x27;, &#x27;ad_position&#x27;, &#x27;browsing_history&#x27;]</pre></div></div></div><div class=\"sk-serial\"><div class=\"sk-item\"><div class=\"sk-serial\"><div class=\"sk-item\"><div class=\"sk-estimator sk-toggleable\"><input class=\"sk-toggleable__control sk-hidden--visually\" id=\"sk-estimator-id-18\" type=\"checkbox\" ><label for=\"sk-estimator-id-18\" class=\"sk-toggleable__label sk-toggleable__label-arrow\">SimpleImputer</label><div class=\"sk-toggleable__content\"><pre>SimpleImputer(fill_value=&#x27;unknown&#x27;, strategy=&#x27;constant&#x27;)</pre></div></div></div><div class=\"sk-item\"><div class=\"sk-estimator sk-toggleable\"><input class=\"sk-toggleable__control sk-hidden--visually\" id=\"sk-estimator-id-19\" type=\"checkbox\" ><label for=\"sk-estimator-id-19\" class=\"sk-toggleable__label sk-toggleable__label-arrow\">OneHotEncoder</label><div class=\"sk-toggleable__content\"><pre>OneHotEncoder(handle_unknown=&#x27;ignore&#x27;, sparse_output=False)</pre></div></div></div></div></div></div></div></div><div class=\"sk-parallel-item\"><div class=\"sk-item\"><div class=\"sk-label-container\"><div class=\"sk-label sk-toggleable\"><input class=\"sk-toggleable__control sk-hidden--visually\" id=\"sk-estimator-id-20\" type=\"checkbox\" ><label for=\"sk-estimator-id-20\" class=\"sk-toggleable__label sk-toggleable__label-arrow\">ordinal</label><div class=\"sk-toggleable__content\"><pre>[&#x27;time_of_day&#x27;]</pre></div></div></div><div class=\"sk-serial\"><div class=\"sk-item\"><div class=\"sk-serial\"><div class=\"sk-item\"><div class=\"sk-estimator sk-toggleable\"><input class=\"sk-toggleable__control sk-hidden--visually\" id=\"sk-estimator-id-21\" type=\"checkbox\" ><label for=\"sk-estimator-id-21\" class=\"sk-toggleable__label sk-toggleable__label-arrow\">SimpleImputer</label><div class=\"sk-toggleable__content\"><pre>SimpleImputer(strategy=&#x27;most_frequent&#x27;)</pre></div></div></div><div class=\"sk-item\"><div class=\"sk-estimator sk-toggleable\"><input class=\"sk-toggleable__control sk-hidden--visually\" id=\"sk-estimator-id-22\" type=\"checkbox\" ><label for=\"sk-estimator-id-22\" class=\"sk-toggleable__label sk-toggleable__label-arrow\">OrdinalEncoder</label><div class=\"sk-toggleable__content\"><pre>OrdinalEncoder(categories=[[&#x27;Morning&#x27;, &#x27;Afternoon&#x27;, &#x27;Evening&#x27;, &#x27;Night&#x27;]])</pre></div></div></div></div></div></div></div></div></div></div><div class=\"sk-item\"><div class=\"sk-estimator sk-toggleable\"><input class=\"sk-toggleable__control sk-hidden--visually\" id=\"sk-estimator-id-23\" type=\"checkbox\" ><label for=\"sk-estimator-id-23\" class=\"sk-toggleable__label sk-toggleable__label-arrow\">AdaBoostClassifier</label><div class=\"sk-toggleable__content\"><pre>AdaBoostClassifier()</pre></div></div></div></div></div></div></div></div></div></div></div></div>"
            ],
            "text/plain": [
              "GridSearchCV(cv=5,\n",
              "             estimator=Pipeline(steps=[('prep',\n",
              "                                        ColumnTransformer(transformers=[('numerical',\n",
              "                                                                         Pipeline(steps=[('knnimputer',\n",
              "                                                                                          KNNImputer()),\n",
              "                                                                                         ('standardscaler',\n",
              "                                                                                          StandardScaler())]),\n",
              "                                                                         ['age']),\n",
              "                                                                        ('nominal',\n",
              "                                                                         Pipeline(steps=[('simpleimputer',\n",
              "                                                                                          SimpleImputer(fill_value='unknown',\n",
              "                                                                                                        strategy='constant')),\n",
              "                                                                                         ('onehotencoder',\n",
              "                                                                                          OneHotEncoder(handle_unknown='ignore',\n",
              "                                                                                                        sparse...\n",
              "                                                                          'browsing_history']),\n",
              "                                                                        ('ordinal',\n",
              "                                                                         Pipeline(steps=[('simpleimputer',\n",
              "                                                                                          SimpleImputer(strategy='most_frequent')),\n",
              "                                                                                         ('ordinalencoder',\n",
              "                                                                                          OrdinalEncoder(categories=[['Morning',\n",
              "                                                                                                                      'Afternoon',\n",
              "                                                                                                                      'Evening',\n",
              "                                                                                                                      'Night']]))]),\n",
              "                                                                         ['time_of_day'])])),\n",
              "                                       ('ada', AdaBoostClassifier())]),\n",
              "             n_jobs=-1,\n",
              "             param_grid={'ada__learning_rate': [0.1, 0.5, 1],\n",
              "                         'ada__n_estimators': [50, 100, 200]},\n",
              "             scoring='precision', verbose=1)"
            ]
          },
          "execution_count": 35,
          "metadata": {},
          "output_type": "execute_result"
        }
      ],
      "source": [
        "# gridsearch\n",
        "ada_grid = GridSearchCV(pipe_ada,\n",
        "                        param_grid=ada_param_grid,\n",
        "                        cv=5,\n",
        "                        scoring='precision',\n",
        "                        n_jobs=-1,\n",
        "                        verbose=1)\n",
        "\n",
        "ada_grid.fit(X_train, y_train)"
      ]
    },
    {
      "cell_type": "code",
      "execution_count": null,
      "metadata": {
        "id": "AL6svz7nE5K_",
        "outputId": "30b83cfe-9cc6-400b-80f9-c06533feedcb"
      },
      "outputs": [
        {
          "data": {
            "text/html": [
              "<div>\n",
              "<style scoped>\n",
              "    .dataframe tbody tr th:only-of-type {\n",
              "        vertical-align: middle;\n",
              "    }\n",
              "\n",
              "    .dataframe tbody tr th {\n",
              "        vertical-align: top;\n",
              "    }\n",
              "\n",
              "    .dataframe thead th {\n",
              "        text-align: right;\n",
              "    }\n",
              "</style>\n",
              "<table border=\"1\" class=\"dataframe\">\n",
              "  <thead>\n",
              "    <tr style=\"text-align: right;\">\n",
              "      <th></th>\n",
              "      <th>mean_fit_time</th>\n",
              "      <th>std_fit_time</th>\n",
              "      <th>mean_score_time</th>\n",
              "      <th>std_score_time</th>\n",
              "      <th>param_ada__learning_rate</th>\n",
              "      <th>param_ada__n_estimators</th>\n",
              "      <th>params</th>\n",
              "      <th>split0_test_score</th>\n",
              "      <th>split1_test_score</th>\n",
              "      <th>split2_test_score</th>\n",
              "      <th>split3_test_score</th>\n",
              "      <th>split4_test_score</th>\n",
              "      <th>mean_test_score</th>\n",
              "      <th>std_test_score</th>\n",
              "      <th>rank_test_score</th>\n",
              "    </tr>\n",
              "  </thead>\n",
              "  <tbody>\n",
              "    <tr>\n",
              "      <th>0</th>\n",
              "      <td>2.532246</td>\n",
              "      <td>0.102434</td>\n",
              "      <td>0.247145</td>\n",
              "      <td>0.039917</td>\n",
              "      <td>0.1</td>\n",
              "      <td>50</td>\n",
              "      <td>{'ada__learning_rate': 0.1, 'ada__n_estimators...</td>\n",
              "      <td>0.562743</td>\n",
              "      <td>0.572917</td>\n",
              "      <td>0.598621</td>\n",
              "      <td>0.570093</td>\n",
              "      <td>0.571221</td>\n",
              "      <td>0.575119</td>\n",
              "      <td>0.012254</td>\n",
              "      <td>9</td>\n",
              "    </tr>\n",
              "    <tr>\n",
              "      <th>1</th>\n",
              "      <td>2.070443</td>\n",
              "      <td>0.317177</td>\n",
              "      <td>0.218399</td>\n",
              "      <td>0.043072</td>\n",
              "      <td>0.1</td>\n",
              "      <td>100</td>\n",
              "      <td>{'ada__learning_rate': 0.1, 'ada__n_estimators...</td>\n",
              "      <td>0.571010</td>\n",
              "      <td>0.571429</td>\n",
              "      <td>0.606607</td>\n",
              "      <td>0.581159</td>\n",
              "      <td>0.574303</td>\n",
              "      <td>0.580902</td>\n",
              "      <td>0.013356</td>\n",
              "      <td>8</td>\n",
              "    </tr>\n",
              "    <tr>\n",
              "      <th>2</th>\n",
              "      <td>2.455407</td>\n",
              "      <td>0.067093</td>\n",
              "      <td>0.197687</td>\n",
              "      <td>0.052553</td>\n",
              "      <td>0.1</td>\n",
              "      <td>200</td>\n",
              "      <td>{'ada__learning_rate': 0.1, 'ada__n_estimators...</td>\n",
              "      <td>0.572508</td>\n",
              "      <td>0.577419</td>\n",
              "      <td>0.606383</td>\n",
              "      <td>0.586790</td>\n",
              "      <td>0.577953</td>\n",
              "      <td>0.584210</td>\n",
              "      <td>0.012004</td>\n",
              "      <td>7</td>\n",
              "    </tr>\n",
              "    <tr>\n",
              "      <th>3</th>\n",
              "      <td>1.167139</td>\n",
              "      <td>0.353913</td>\n",
              "      <td>0.246204</td>\n",
              "      <td>0.098070</td>\n",
              "      <td>0.5</td>\n",
              "      <td>50</td>\n",
              "      <td>{'ada__learning_rate': 0.5, 'ada__n_estimators...</td>\n",
              "      <td>0.574695</td>\n",
              "      <td>0.586601</td>\n",
              "      <td>0.604615</td>\n",
              "      <td>0.595469</td>\n",
              "      <td>0.580952</td>\n",
              "      <td>0.588467</td>\n",
              "      <td>0.010577</td>\n",
              "      <td>5</td>\n",
              "    </tr>\n",
              "    <tr>\n",
              "      <th>4</th>\n",
              "      <td>1.758992</td>\n",
              "      <td>0.121642</td>\n",
              "      <td>0.223794</td>\n",
              "      <td>0.030090</td>\n",
              "      <td>0.5</td>\n",
              "      <td>100</td>\n",
              "      <td>{'ada__learning_rate': 0.5, 'ada__n_estimators...</td>\n",
              "      <td>0.574242</td>\n",
              "      <td>0.586583</td>\n",
              "      <td>0.597809</td>\n",
              "      <td>0.595122</td>\n",
              "      <td>0.584375</td>\n",
              "      <td>0.587626</td>\n",
              "      <td>0.008374</td>\n",
              "      <td>6</td>\n",
              "    </tr>\n",
              "    <tr>\n",
              "      <th>5</th>\n",
              "      <td>2.082408</td>\n",
              "      <td>0.204066</td>\n",
              "      <td>0.255505</td>\n",
              "      <td>0.039368</td>\n",
              "      <td>0.5</td>\n",
              "      <td>200</td>\n",
              "      <td>{'ada__learning_rate': 0.5, 'ada__n_estimators...</td>\n",
              "      <td>0.568862</td>\n",
              "      <td>0.589425</td>\n",
              "      <td>0.599057</td>\n",
              "      <td>0.602236</td>\n",
              "      <td>0.586047</td>\n",
              "      <td>0.589125</td>\n",
              "      <td>0.011753</td>\n",
              "      <td>3</td>\n",
              "    </tr>\n",
              "    <tr>\n",
              "      <th>6</th>\n",
              "      <td>0.890909</td>\n",
              "      <td>0.087810</td>\n",
              "      <td>0.170217</td>\n",
              "      <td>0.020381</td>\n",
              "      <td>1</td>\n",
              "      <td>50</td>\n",
              "      <td>{'ada__learning_rate': 1, 'ada__n_estimators':...</td>\n",
              "      <td>0.567608</td>\n",
              "      <td>0.600000</td>\n",
              "      <td>0.592949</td>\n",
              "      <td>0.599665</td>\n",
              "      <td>0.583717</td>\n",
              "      <td>0.588788</td>\n",
              "      <td>0.012130</td>\n",
              "      <td>4</td>\n",
              "    </tr>\n",
              "    <tr>\n",
              "      <th>7</th>\n",
              "      <td>1.345340</td>\n",
              "      <td>0.049091</td>\n",
              "      <td>0.217075</td>\n",
              "      <td>0.031674</td>\n",
              "      <td>1</td>\n",
              "      <td>100</td>\n",
              "      <td>{'ada__learning_rate': 1, 'ada__n_estimators':...</td>\n",
              "      <td>0.567809</td>\n",
              "      <td>0.600316</td>\n",
              "      <td>0.592248</td>\n",
              "      <td>0.598361</td>\n",
              "      <td>0.589704</td>\n",
              "      <td>0.589688</td>\n",
              "      <td>0.011605</td>\n",
              "      <td>2</td>\n",
              "    </tr>\n",
              "    <tr>\n",
              "      <th>8</th>\n",
              "      <td>1.355793</td>\n",
              "      <td>0.213389</td>\n",
              "      <td>0.080142</td>\n",
              "      <td>0.014914</td>\n",
              "      <td>1</td>\n",
              "      <td>200</td>\n",
              "      <td>{'ada__learning_rate': 1, 'ada__n_estimators':...</td>\n",
              "      <td>0.569322</td>\n",
              "      <td>0.603421</td>\n",
              "      <td>0.597484</td>\n",
              "      <td>0.591415</td>\n",
              "      <td>0.592248</td>\n",
              "      <td>0.590778</td>\n",
              "      <td>0.011557</td>\n",
              "      <td>1</td>\n",
              "    </tr>\n",
              "  </tbody>\n",
              "</table>\n",
              "</div>"
            ],
            "text/plain": [
              "   mean_fit_time  std_fit_time  mean_score_time  std_score_time  \\\n",
              "0       2.532246      0.102434         0.247145        0.039917   \n",
              "1       2.070443      0.317177         0.218399        0.043072   \n",
              "2       2.455407      0.067093         0.197687        0.052553   \n",
              "3       1.167139      0.353913         0.246204        0.098070   \n",
              "4       1.758992      0.121642         0.223794        0.030090   \n",
              "5       2.082408      0.204066         0.255505        0.039368   \n",
              "6       0.890909      0.087810         0.170217        0.020381   \n",
              "7       1.345340      0.049091         0.217075        0.031674   \n",
              "8       1.355793      0.213389         0.080142        0.014914   \n",
              "\n",
              "  param_ada__learning_rate param_ada__n_estimators  \\\n",
              "0                      0.1                      50   \n",
              "1                      0.1                     100   \n",
              "2                      0.1                     200   \n",
              "3                      0.5                      50   \n",
              "4                      0.5                     100   \n",
              "5                      0.5                     200   \n",
              "6                        1                      50   \n",
              "7                        1                     100   \n",
              "8                        1                     200   \n",
              "\n",
              "                                              params  split0_test_score  \\\n",
              "0  {'ada__learning_rate': 0.1, 'ada__n_estimators...           0.562743   \n",
              "1  {'ada__learning_rate': 0.1, 'ada__n_estimators...           0.571010   \n",
              "2  {'ada__learning_rate': 0.1, 'ada__n_estimators...           0.572508   \n",
              "3  {'ada__learning_rate': 0.5, 'ada__n_estimators...           0.574695   \n",
              "4  {'ada__learning_rate': 0.5, 'ada__n_estimators...           0.574242   \n",
              "5  {'ada__learning_rate': 0.5, 'ada__n_estimators...           0.568862   \n",
              "6  {'ada__learning_rate': 1, 'ada__n_estimators':...           0.567608   \n",
              "7  {'ada__learning_rate': 1, 'ada__n_estimators':...           0.567809   \n",
              "8  {'ada__learning_rate': 1, 'ada__n_estimators':...           0.569322   \n",
              "\n",
              "   split1_test_score  split2_test_score  split3_test_score  split4_test_score  \\\n",
              "0           0.572917           0.598621           0.570093           0.571221   \n",
              "1           0.571429           0.606607           0.581159           0.574303   \n",
              "2           0.577419           0.606383           0.586790           0.577953   \n",
              "3           0.586601           0.604615           0.595469           0.580952   \n",
              "4           0.586583           0.597809           0.595122           0.584375   \n",
              "5           0.589425           0.599057           0.602236           0.586047   \n",
              "6           0.600000           0.592949           0.599665           0.583717   \n",
              "7           0.600316           0.592248           0.598361           0.589704   \n",
              "8           0.603421           0.597484           0.591415           0.592248   \n",
              "\n",
              "   mean_test_score  std_test_score  rank_test_score  \n",
              "0         0.575119        0.012254                9  \n",
              "1         0.580902        0.013356                8  \n",
              "2         0.584210        0.012004                7  \n",
              "3         0.588467        0.010577                5  \n",
              "4         0.587626        0.008374                6  \n",
              "5         0.589125        0.011753                3  \n",
              "6         0.588788        0.012130                4  \n",
              "7         0.589688        0.011605                2  \n",
              "8         0.590778        0.011557                1  "
            ]
          },
          "execution_count": 38,
          "metadata": {},
          "output_type": "execute_result"
        }
      ],
      "source": [
        "pd.DataFrame(ada_grid.cv_results_)"
      ]
    },
    {
      "cell_type": "code",
      "execution_count": null,
      "metadata": {
        "id": "E42_RMzSE5LA",
        "outputId": "0fd1bcf6-479a-40dc-e9e2-f2128a1823a3"
      },
      "outputs": [
        {
          "data": {
            "text/plain": [
              "{'ada__learning_rate': 1, 'ada__n_estimators': 200}"
            ]
          },
          "execution_count": 42,
          "metadata": {},
          "output_type": "execute_result"
        }
      ],
      "source": [
        "ada_grid.best_params_"
      ]
    },
    {
      "cell_type": "code",
      "execution_count": null,
      "metadata": {
        "id": "RrEy3ZlwE5LB",
        "outputId": "11c7b838-533f-4f1f-d0a8-b2a47e1a8ad0"
      },
      "outputs": [
        {
          "data": {
            "text/plain": [
              "0.5907780557843689"
            ]
          },
          "execution_count": 43,
          "metadata": {},
          "output_type": "execute_result"
        }
      ],
      "source": [
        "ada_grid.best_score_"
      ]
    },
    {
      "cell_type": "code",
      "execution_count": null,
      "metadata": {
        "id": "4uavcSkCE5LB",
        "outputId": "a9959e03-a3bc-4a58-b289-07a6d461f2c1"
      },
      "outputs": [
        {
          "data": {
            "text/html": [
              "<style>#sk-container-id-4 {color: black;}#sk-container-id-4 pre{padding: 0;}#sk-container-id-4 div.sk-toggleable {background-color: white;}#sk-container-id-4 label.sk-toggleable__label {cursor: pointer;display: block;width: 100%;margin-bottom: 0;padding: 0.3em;box-sizing: border-box;text-align: center;}#sk-container-id-4 label.sk-toggleable__label-arrow:before {content: \"▸\";float: left;margin-right: 0.25em;color: #696969;}#sk-container-id-4 label.sk-toggleable__label-arrow:hover:before {color: black;}#sk-container-id-4 div.sk-estimator:hover label.sk-toggleable__label-arrow:before {color: black;}#sk-container-id-4 div.sk-toggleable__content {max-height: 0;max-width: 0;overflow: hidden;text-align: left;background-color: #f0f8ff;}#sk-container-id-4 div.sk-toggleable__content pre {margin: 0.2em;color: black;border-radius: 0.25em;background-color: #f0f8ff;}#sk-container-id-4 input.sk-toggleable__control:checked~div.sk-toggleable__content {max-height: 200px;max-width: 100%;overflow: auto;}#sk-container-id-4 input.sk-toggleable__control:checked~label.sk-toggleable__label-arrow:before {content: \"▾\";}#sk-container-id-4 div.sk-estimator input.sk-toggleable__control:checked~label.sk-toggleable__label {background-color: #d4ebff;}#sk-container-id-4 div.sk-label input.sk-toggleable__control:checked~label.sk-toggleable__label {background-color: #d4ebff;}#sk-container-id-4 input.sk-hidden--visually {border: 0;clip: rect(1px 1px 1px 1px);clip: rect(1px, 1px, 1px, 1px);height: 1px;margin: -1px;overflow: hidden;padding: 0;position: absolute;width: 1px;}#sk-container-id-4 div.sk-estimator {font-family: monospace;background-color: #f0f8ff;border: 1px dotted black;border-radius: 0.25em;box-sizing: border-box;margin-bottom: 0.5em;}#sk-container-id-4 div.sk-estimator:hover {background-color: #d4ebff;}#sk-container-id-4 div.sk-parallel-item::after {content: \"\";width: 100%;border-bottom: 1px solid gray;flex-grow: 1;}#sk-container-id-4 div.sk-label:hover label.sk-toggleable__label {background-color: #d4ebff;}#sk-container-id-4 div.sk-serial::before {content: \"\";position: absolute;border-left: 1px solid gray;box-sizing: border-box;top: 0;bottom: 0;left: 50%;z-index: 0;}#sk-container-id-4 div.sk-serial {display: flex;flex-direction: column;align-items: center;background-color: white;padding-right: 0.2em;padding-left: 0.2em;position: relative;}#sk-container-id-4 div.sk-item {position: relative;z-index: 1;}#sk-container-id-4 div.sk-parallel {display: flex;align-items: stretch;justify-content: center;background-color: white;position: relative;}#sk-container-id-4 div.sk-item::before, #sk-container-id-4 div.sk-parallel-item::before {content: \"\";position: absolute;border-left: 1px solid gray;box-sizing: border-box;top: 0;bottom: 0;left: 50%;z-index: -1;}#sk-container-id-4 div.sk-parallel-item {display: flex;flex-direction: column;z-index: 1;position: relative;background-color: white;}#sk-container-id-4 div.sk-parallel-item:first-child::after {align-self: flex-end;width: 50%;}#sk-container-id-4 div.sk-parallel-item:last-child::after {align-self: flex-start;width: 50%;}#sk-container-id-4 div.sk-parallel-item:only-child::after {width: 0;}#sk-container-id-4 div.sk-dashed-wrapped {border: 1px dashed gray;margin: 0 0.4em 0.5em 0.4em;box-sizing: border-box;padding-bottom: 0.4em;background-color: white;}#sk-container-id-4 div.sk-label label {font-family: monospace;font-weight: bold;display: inline-block;line-height: 1.2em;}#sk-container-id-4 div.sk-label-container {text-align: center;}#sk-container-id-4 div.sk-container {/* jupyter's `normalize.less` sets `[hidden] { display: none; }` but bootstrap.min.css set `[hidden] { display: none !important; }` so we also need the `!important` here to be able to override the default hidden behavior on the sphinx rendered scikit-learn.org. See: https://github.com/scikit-learn/scikit-learn/issues/21755 */display: inline-block !important;position: relative;}#sk-container-id-4 div.sk-text-repr-fallback {display: none;}</style><div id=\"sk-container-id-4\" class=\"sk-top-container\"><div class=\"sk-text-repr-fallback\"><pre>Pipeline(steps=[(&#x27;prep&#x27;,\n",
              "                 ColumnTransformer(transformers=[(&#x27;numerical&#x27;,\n",
              "                                                  Pipeline(steps=[(&#x27;knnimputer&#x27;,\n",
              "                                                                   KNNImputer()),\n",
              "                                                                  (&#x27;standardscaler&#x27;,\n",
              "                                                                   StandardScaler())]),\n",
              "                                                  [&#x27;age&#x27;]),\n",
              "                                                 (&#x27;nominal&#x27;,\n",
              "                                                  Pipeline(steps=[(&#x27;simpleimputer&#x27;,\n",
              "                                                                   SimpleImputer(fill_value=&#x27;unknown&#x27;,\n",
              "                                                                                 strategy=&#x27;constant&#x27;)),\n",
              "                                                                  (&#x27;onehotencoder&#x27;,\n",
              "                                                                   OneHotEncoder(handle_unknown=&#x27;ignore&#x27;,\n",
              "                                                                                 sparse_output=False))]),\n",
              "                                                  [&#x27;gender&#x27;, &#x27;device_type&#x27;,\n",
              "                                                   &#x27;ad_position&#x27;,\n",
              "                                                   &#x27;browsing_history&#x27;]),\n",
              "                                                 (&#x27;ordinal&#x27;,\n",
              "                                                  Pipeline(steps=[(&#x27;simpleimputer&#x27;,\n",
              "                                                                   SimpleImputer(strategy=&#x27;most_frequent&#x27;)),\n",
              "                                                                  (&#x27;ordinalencoder&#x27;,\n",
              "                                                                   OrdinalEncoder(categories=[[&#x27;Morning&#x27;,\n",
              "                                                                                               &#x27;Afternoon&#x27;,\n",
              "                                                                                               &#x27;Evening&#x27;,\n",
              "                                                                                               &#x27;Night&#x27;]]))]),\n",
              "                                                  [&#x27;time_of_day&#x27;])])),\n",
              "                (&#x27;ada&#x27;, AdaBoostClassifier(learning_rate=1, n_estimators=200))])</pre><b>In a Jupyter environment, please rerun this cell to show the HTML representation or trust the notebook. <br />On GitHub, the HTML representation is unable to render, please try loading this page with nbviewer.org.</b></div><div class=\"sk-container\" hidden><div class=\"sk-item sk-dashed-wrapped\"><div class=\"sk-label-container\"><div class=\"sk-label sk-toggleable\"><input class=\"sk-toggleable__control sk-hidden--visually\" id=\"sk-estimator-id-36\" type=\"checkbox\" ><label for=\"sk-estimator-id-36\" class=\"sk-toggleable__label sk-toggleable__label-arrow\">Pipeline</label><div class=\"sk-toggleable__content\"><pre>Pipeline(steps=[(&#x27;prep&#x27;,\n",
              "                 ColumnTransformer(transformers=[(&#x27;numerical&#x27;,\n",
              "                                                  Pipeline(steps=[(&#x27;knnimputer&#x27;,\n",
              "                                                                   KNNImputer()),\n",
              "                                                                  (&#x27;standardscaler&#x27;,\n",
              "                                                                   StandardScaler())]),\n",
              "                                                  [&#x27;age&#x27;]),\n",
              "                                                 (&#x27;nominal&#x27;,\n",
              "                                                  Pipeline(steps=[(&#x27;simpleimputer&#x27;,\n",
              "                                                                   SimpleImputer(fill_value=&#x27;unknown&#x27;,\n",
              "                                                                                 strategy=&#x27;constant&#x27;)),\n",
              "                                                                  (&#x27;onehotencoder&#x27;,\n",
              "                                                                   OneHotEncoder(handle_unknown=&#x27;ignore&#x27;,\n",
              "                                                                                 sparse_output=False))]),\n",
              "                                                  [&#x27;gender&#x27;, &#x27;device_type&#x27;,\n",
              "                                                   &#x27;ad_position&#x27;,\n",
              "                                                   &#x27;browsing_history&#x27;]),\n",
              "                                                 (&#x27;ordinal&#x27;,\n",
              "                                                  Pipeline(steps=[(&#x27;simpleimputer&#x27;,\n",
              "                                                                   SimpleImputer(strategy=&#x27;most_frequent&#x27;)),\n",
              "                                                                  (&#x27;ordinalencoder&#x27;,\n",
              "                                                                   OrdinalEncoder(categories=[[&#x27;Morning&#x27;,\n",
              "                                                                                               &#x27;Afternoon&#x27;,\n",
              "                                                                                               &#x27;Evening&#x27;,\n",
              "                                                                                               &#x27;Night&#x27;]]))]),\n",
              "                                                  [&#x27;time_of_day&#x27;])])),\n",
              "                (&#x27;ada&#x27;, AdaBoostClassifier(learning_rate=1, n_estimators=200))])</pre></div></div></div><div class=\"sk-serial\"><div class=\"sk-item sk-dashed-wrapped\"><div class=\"sk-label-container\"><div class=\"sk-label sk-toggleable\"><input class=\"sk-toggleable__control sk-hidden--visually\" id=\"sk-estimator-id-37\" type=\"checkbox\" ><label for=\"sk-estimator-id-37\" class=\"sk-toggleable__label sk-toggleable__label-arrow\">prep: ColumnTransformer</label><div class=\"sk-toggleable__content\"><pre>ColumnTransformer(transformers=[(&#x27;numerical&#x27;,\n",
              "                                 Pipeline(steps=[(&#x27;knnimputer&#x27;, KNNImputer()),\n",
              "                                                 (&#x27;standardscaler&#x27;,\n",
              "                                                  StandardScaler())]),\n",
              "                                 [&#x27;age&#x27;]),\n",
              "                                (&#x27;nominal&#x27;,\n",
              "                                 Pipeline(steps=[(&#x27;simpleimputer&#x27;,\n",
              "                                                  SimpleImputer(fill_value=&#x27;unknown&#x27;,\n",
              "                                                                strategy=&#x27;constant&#x27;)),\n",
              "                                                 (&#x27;onehotencoder&#x27;,\n",
              "                                                  OneHotEncoder(handle_unknown=&#x27;ignore&#x27;,\n",
              "                                                                sparse_output=False))]),\n",
              "                                 [&#x27;gender&#x27;, &#x27;device_type&#x27;, &#x27;ad_position&#x27;,\n",
              "                                  &#x27;browsing_history&#x27;]),\n",
              "                                (&#x27;ordinal&#x27;,\n",
              "                                 Pipeline(steps=[(&#x27;simpleimputer&#x27;,\n",
              "                                                  SimpleImputer(strategy=&#x27;most_frequent&#x27;)),\n",
              "                                                 (&#x27;ordinalencoder&#x27;,\n",
              "                                                  OrdinalEncoder(categories=[[&#x27;Morning&#x27;,\n",
              "                                                                              &#x27;Afternoon&#x27;,\n",
              "                                                                              &#x27;Evening&#x27;,\n",
              "                                                                              &#x27;Night&#x27;]]))]),\n",
              "                                 [&#x27;time_of_day&#x27;])])</pre></div></div></div><div class=\"sk-parallel\"><div class=\"sk-parallel-item\"><div class=\"sk-item\"><div class=\"sk-label-container\"><div class=\"sk-label sk-toggleable\"><input class=\"sk-toggleable__control sk-hidden--visually\" id=\"sk-estimator-id-38\" type=\"checkbox\" ><label for=\"sk-estimator-id-38\" class=\"sk-toggleable__label sk-toggleable__label-arrow\">numerical</label><div class=\"sk-toggleable__content\"><pre>[&#x27;age&#x27;]</pre></div></div></div><div class=\"sk-serial\"><div class=\"sk-item\"><div class=\"sk-serial\"><div class=\"sk-item\"><div class=\"sk-estimator sk-toggleable\"><input class=\"sk-toggleable__control sk-hidden--visually\" id=\"sk-estimator-id-39\" type=\"checkbox\" ><label for=\"sk-estimator-id-39\" class=\"sk-toggleable__label sk-toggleable__label-arrow\">KNNImputer</label><div class=\"sk-toggleable__content\"><pre>KNNImputer()</pre></div></div></div><div class=\"sk-item\"><div class=\"sk-estimator sk-toggleable\"><input class=\"sk-toggleable__control sk-hidden--visually\" id=\"sk-estimator-id-40\" type=\"checkbox\" ><label for=\"sk-estimator-id-40\" class=\"sk-toggleable__label sk-toggleable__label-arrow\">StandardScaler</label><div class=\"sk-toggleable__content\"><pre>StandardScaler()</pre></div></div></div></div></div></div></div></div><div class=\"sk-parallel-item\"><div class=\"sk-item\"><div class=\"sk-label-container\"><div class=\"sk-label sk-toggleable\"><input class=\"sk-toggleable__control sk-hidden--visually\" id=\"sk-estimator-id-41\" type=\"checkbox\" ><label for=\"sk-estimator-id-41\" class=\"sk-toggleable__label sk-toggleable__label-arrow\">nominal</label><div class=\"sk-toggleable__content\"><pre>[&#x27;gender&#x27;, &#x27;device_type&#x27;, &#x27;ad_position&#x27;, &#x27;browsing_history&#x27;]</pre></div></div></div><div class=\"sk-serial\"><div class=\"sk-item\"><div class=\"sk-serial\"><div class=\"sk-item\"><div class=\"sk-estimator sk-toggleable\"><input class=\"sk-toggleable__control sk-hidden--visually\" id=\"sk-estimator-id-42\" type=\"checkbox\" ><label for=\"sk-estimator-id-42\" class=\"sk-toggleable__label sk-toggleable__label-arrow\">SimpleImputer</label><div class=\"sk-toggleable__content\"><pre>SimpleImputer(fill_value=&#x27;unknown&#x27;, strategy=&#x27;constant&#x27;)</pre></div></div></div><div class=\"sk-item\"><div class=\"sk-estimator sk-toggleable\"><input class=\"sk-toggleable__control sk-hidden--visually\" id=\"sk-estimator-id-43\" type=\"checkbox\" ><label for=\"sk-estimator-id-43\" class=\"sk-toggleable__label sk-toggleable__label-arrow\">OneHotEncoder</label><div class=\"sk-toggleable__content\"><pre>OneHotEncoder(handle_unknown=&#x27;ignore&#x27;, sparse_output=False)</pre></div></div></div></div></div></div></div></div><div class=\"sk-parallel-item\"><div class=\"sk-item\"><div class=\"sk-label-container\"><div class=\"sk-label sk-toggleable\"><input class=\"sk-toggleable__control sk-hidden--visually\" id=\"sk-estimator-id-44\" type=\"checkbox\" ><label for=\"sk-estimator-id-44\" class=\"sk-toggleable__label sk-toggleable__label-arrow\">ordinal</label><div class=\"sk-toggleable__content\"><pre>[&#x27;time_of_day&#x27;]</pre></div></div></div><div class=\"sk-serial\"><div class=\"sk-item\"><div class=\"sk-serial\"><div class=\"sk-item\"><div class=\"sk-estimator sk-toggleable\"><input class=\"sk-toggleable__control sk-hidden--visually\" id=\"sk-estimator-id-45\" type=\"checkbox\" ><label for=\"sk-estimator-id-45\" class=\"sk-toggleable__label sk-toggleable__label-arrow\">SimpleImputer</label><div class=\"sk-toggleable__content\"><pre>SimpleImputer(strategy=&#x27;most_frequent&#x27;)</pre></div></div></div><div class=\"sk-item\"><div class=\"sk-estimator sk-toggleable\"><input class=\"sk-toggleable__control sk-hidden--visually\" id=\"sk-estimator-id-46\" type=\"checkbox\" ><label for=\"sk-estimator-id-46\" class=\"sk-toggleable__label sk-toggleable__label-arrow\">OrdinalEncoder</label><div class=\"sk-toggleable__content\"><pre>OrdinalEncoder(categories=[[&#x27;Morning&#x27;, &#x27;Afternoon&#x27;, &#x27;Evening&#x27;, &#x27;Night&#x27;]])</pre></div></div></div></div></div></div></div></div></div></div><div class=\"sk-item\"><div class=\"sk-estimator sk-toggleable\"><input class=\"sk-toggleable__control sk-hidden--visually\" id=\"sk-estimator-id-47\" type=\"checkbox\" ><label for=\"sk-estimator-id-47\" class=\"sk-toggleable__label sk-toggleable__label-arrow\">AdaBoostClassifier</label><div class=\"sk-toggleable__content\"><pre>AdaBoostClassifier(learning_rate=1, n_estimators=200)</pre></div></div></div></div></div></div></div>"
            ],
            "text/plain": [
              "Pipeline(steps=[('prep',\n",
              "                 ColumnTransformer(transformers=[('numerical',\n",
              "                                                  Pipeline(steps=[('knnimputer',\n",
              "                                                                   KNNImputer()),\n",
              "                                                                  ('standardscaler',\n",
              "                                                                   StandardScaler())]),\n",
              "                                                  ['age']),\n",
              "                                                 ('nominal',\n",
              "                                                  Pipeline(steps=[('simpleimputer',\n",
              "                                                                   SimpleImputer(fill_value='unknown',\n",
              "                                                                                 strategy='constant')),\n",
              "                                                                  ('onehotencoder',\n",
              "                                                                   OneHotEncoder(handle_unknown='ignore',\n",
              "                                                                                 sparse_output=False))]),\n",
              "                                                  ['gender', 'device_type',\n",
              "                                                   'ad_position',\n",
              "                                                   'browsing_history']),\n",
              "                                                 ('ordinal',\n",
              "                                                  Pipeline(steps=[('simpleimputer',\n",
              "                                                                   SimpleImputer(strategy='most_frequent')),\n",
              "                                                                  ('ordinalencoder',\n",
              "                                                                   OrdinalEncoder(categories=[['Morning',\n",
              "                                                                                               'Afternoon',\n",
              "                                                                                               'Evening',\n",
              "                                                                                               'Night']]))]),\n",
              "                                                  ['time_of_day'])])),\n",
              "                ('ada', AdaBoostClassifier(learning_rate=1, n_estimators=200))])"
            ]
          },
          "execution_count": 41,
          "metadata": {},
          "output_type": "execute_result"
        }
      ],
      "source": [
        "best_model = ada_grid.best_estimator_\n",
        "best_model"
      ]
    },
    {
      "cell_type": "markdown",
      "metadata": {
        "id": "n-TTO3WHE5LC"
      },
      "source": [
        "Setelah dilakukan hyperparameter tuning didapat adaboost dengan parameter terbaik tertera diatas"
      ]
    },
    {
      "cell_type": "markdown",
      "metadata": {
        "id": "PUCshmPSE5LD"
      },
      "source": [
        "# Model Evaluation"
      ]
    },
    {
      "cell_type": "code",
      "execution_count": null,
      "metadata": {
        "id": "5PvH74XBE5LD"
      },
      "outputs": [],
      "source": [
        "y_train_pred = best_model.predict(X_train)\n",
        "y_test_pred = best_model.predict(X_test)"
      ]
    },
    {
      "cell_type": "code",
      "execution_count": null,
      "metadata": {
        "id": "ppT-l8D8E5LD"
      },
      "outputs": [],
      "source": [
        "from sklearn.metrics import precision_score, recall_score, f1_score"
      ]
    },
    {
      "cell_type": "code",
      "execution_count": null,
      "metadata": {
        "id": "pprOKFqIE5LE",
        "outputId": "263fdbc9-608a-48a4-b1c6-a66c9b03d139"
      },
      "outputs": [
        {
          "name": "stdout",
          "output_type": "stream",
          "text": [
            "Train Result\n",
            "precision: 0.6036341238065907\n",
            "              precision    recall  f1-score   support\n",
            "\n",
            "           0       0.61      0.54      0.57      2800\n",
            "           1       0.60      0.67      0.64      2917\n",
            "\n",
            "    accuracy                           0.61      5717\n",
            "   macro avg       0.61      0.61      0.61      5717\n",
            "weighted avg       0.61      0.61      0.61      5717\n",
            "\n",
            "-----------------------------------\n",
            "Test Result\n",
            "precision: 0.5861650485436893\n",
            "              precision    recall  f1-score   support\n",
            "\n",
            "           0       0.59      0.51      0.55       700\n",
            "           1       0.59      0.66      0.62       730\n",
            "\n",
            "    accuracy                           0.59      1430\n",
            "   macro avg       0.59      0.59      0.59      1430\n",
            "weighted avg       0.59      0.59      0.59      1430\n",
            "\n",
            "-----------------------------------\n"
          ]
        }
      ],
      "source": [
        "# classification report\n",
        "print('Train Result')\n",
        "print('precision:', precision_score(y_train, y_train_pred))\n",
        "print(classification_report(y_train, y_train_pred))\n",
        "print('-----------------------------------')\n",
        "print('Test Result')\n",
        "print('precision:', precision_score(y_test, y_test_pred))\n",
        "print(classification_report(y_test, y_test_pred))\n",
        "print('-----------------------------------')"
      ]
    },
    {
      "cell_type": "code",
      "execution_count": null,
      "metadata": {
        "id": "f_SPAcj9E5LF",
        "outputId": "ffe2ccdb-6c74-4e3d-a96f-db1636cdd025"
      },
      "outputs": [
        {
          "name": "stdout",
          "output_type": "stream",
          "text": [
            "Train Result\n"
          ]
        },
        {
          "data": {
            "image/png": "[encoded data removed]",
            "text/plain": [
              "<Figure size 640x480 with 2 Axes>"
            ]
          },
          "metadata": {},
          "output_type": "display_data"
        },
        {
          "name": "stdout",
          "output_type": "stream",
          "text": [
            "-----------------------------------\n",
            "Test Result\n"
          ]
        },
        {
          "data": {
            "image/png": "[encoded data removed]",
            "text/plain": [
              "<Figure size 640x480 with 2 Axes>"
            ]
          },
          "metadata": {},
          "output_type": "display_data"
        }
      ],
      "source": [
        "# confusion matrix\n",
        "print('Train Result')\n",
        "train_mtx = confusion_matrix(y_train, y_train_pred)\n",
        "ConfusionMatrixDisplay(train_mtx, display_labels=['Not Click', 'Click']).plot()\n",
        "plt.show()\n",
        "print('-----------------------------------')\n",
        "print('Test Result')\n",
        "test_mtx = confusion_matrix(y_test, y_test_pred)\n",
        "ConfusionMatrixDisplay(test_mtx, display_labels=['Not Click', 'Click']).plot()\n",
        "plt.show()"
      ]
    },
    {
      "cell_type": "markdown",
      "metadata": {
        "id": "CssPaXiTE5LF"
      },
      "source": [
        "Model tergolong underfit karena algoritma tidak dapat membaca pattern dalam data. Hal ini dapat disebabkan karena banyak missing value pada data dan juga kemungkinan fitur yang ada tidak memiliki korelasi dengan target"
      ]
    },
    {
      "cell_type": "markdown",
      "metadata": {
        "id": "xvUCiZs_E5LG"
      },
      "source": [
        "# Kesimpulan"
      ]
    },
    {
      "cell_type": "markdown",
      "metadata": {
        "id": "pLLEp3G4E5LG"
      },
      "source": [
        "Beberapa yang dapat disimpulkan dari keseluruhan proses"
      ]
    }
  ],
  "metadata": {
    "colab": {
      "provenance": [],
      "toc_visible": true
    },
    "kernelspec": {
      "display_name": "data_science",
      "language": "python",
      "name": "python3"
    },
    "language_info": {
      "codemirror_mode": {
        "name": "ipython",
        "version": 3
      },
      "file_extension": ".py",
      "mimetype": "text/x-python",
      "name": "python",
      "nbconvert_exporter": "python",
      "pygments_lexer": "ipython3",
      "version": "3.9.18"
    }
  },
  "nbformat": 4,
  "nbformat_minor": 0
}
